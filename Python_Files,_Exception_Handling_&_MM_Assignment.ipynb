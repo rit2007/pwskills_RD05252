{
  "nbformat": 4,
  "nbformat_minor": 0,
  "metadata": {
    "colab": {
      "provenance": []
    },
    "kernelspec": {
      "name": "python3",
      "display_name": "Python 3"
    },
    "language_info": {
      "name": "python"
    }
  },
  "cells": [
    {
      "cell_type": "markdown",
      "source": [
        "# **Theoretical Questions**"
      ],
      "metadata": {
        "id": "khB1Kkl87aNx"
      }
    },
    {
      "cell_type": "markdown",
      "source": [
        "**Q1. What is the difference between interpreted and compiled languages?**\n",
        "\n",
        "**Ans:**\n",
        "\n",
        "**Interpreted Languages:**\n",
        "\n",
        "* Code is executed line by line at runtime\n",
        "* Source code is translated to machine code during execution\n",
        "* **Examples**: Python, JavaScript, Ruby\n",
        "* Slower execution but faster development cycle\n",
        "Platform independent with interpreter installed\n"
      ],
      "metadata": {
        "id": "hJO9NiJaSEgJ"
      }
    },
    {
      "cell_type": "code",
      "source": [
        "# Python (interpreted) - runs directly\n",
        "print(\"Hello World\")  # Executed line by line"
      ],
      "metadata": {
        "colab": {
          "base_uri": "https://localhost:8080/"
        },
        "id": "oLtJbSAFTS87",
        "outputId": "896fbdcc-cce6-499f-cecc-fc3a9d8c8b30"
      },
      "execution_count": 1,
      "outputs": [
        {
          "output_type": "stream",
          "name": "stdout",
          "text": [
            "Hello World\n"
          ]
        }
      ]
    },
    {
      "cell_type": "markdown",
      "source": [
        "**Compiled Languages:**\n",
        "\n",
        "* Code is translated to machine code before execution\n",
        "* Source code is converted to executable files\n",
        "* **Examples**: C, C++, Rust\n",
        "* Faster execution but slower development cycle\n",
        "Platform-specific executable files\n",
        "\n",
        "**Example:** C (compiled) - must compile first\n",
        "\n",
        "```\n",
        "#include <stdio.h>\n",
        "int main() {\n",
        "    printf(\"Hello World\");\n",
        "    return 0;\n",
        "}\n",
        "\n",
        "```"
      ],
      "metadata": {
        "id": "QKJYPG-ITW4B"
      }
    },
    {
      "cell_type": "markdown",
      "source": [
        "**Q2. What is exception handling in Python?**\n",
        "\n",
        "**Ans:** Exception handling is a programming construct that allows you to catch and handle errors that occur during program execution, preventing the program from crashing unexpectedly. It uses try-except blocks to gracefully manage errors and provide alternative execution paths.\n",
        "\n",
        "**Example:**"
      ],
      "metadata": {
        "id": "xFOYXlE-Ukog"
      }
    },
    {
      "cell_type": "code",
      "source": [
        "try:\n",
        "    result = 10 / 0\n",
        "except ZeroDivisionError:\n",
        "    print(\"Cannot divide by zero!\")"
      ],
      "metadata": {
        "colab": {
          "base_uri": "https://localhost:8080/"
        },
        "id": "wq5K6S7mU0PA",
        "outputId": "0690d5c4-1207-4cee-96e4-a5cf4fcd3448"
      },
      "execution_count": 2,
      "outputs": [
        {
          "output_type": "stream",
          "name": "stdout",
          "text": [
            "Cannot divide by zero!\n"
          ]
        }
      ]
    },
    {
      "cell_type": "markdown",
      "source": [
        "**Q3. What is the purpose of the finally block in exception handling?**\n",
        "\n",
        "**Ans: **The finally block contains code that executes regardless of whether an exception occurs or not. It's commonly used for cleanup operations like closing files, database connections, or releasing resources. The finally block runs even if an exception is raised or if a return statement is executed in the try block.\n",
        "\n",
        "**Exmaple:**"
      ],
      "metadata": {
        "id": "O3emALHSU34Z"
      }
    },
    {
      "cell_type": "code",
      "source": [
        "try:\n",
        "    file = open(\"data.txt\", \"r\")\n",
        "    data = file.read()\n",
        "except FileNotFoundError:\n",
        "    print(\"File not found\")\n",
        "finally:\n",
        "    file.close()  # Always executes"
      ],
      "metadata": {
        "colab": {
          "base_uri": "https://localhost:8080/",
          "height": 193
        },
        "id": "9a7D3LD2VIUM",
        "outputId": "0da5fe1a-8e1a-4e1c-ae82-4fa076aadc10"
      },
      "execution_count": 3,
      "outputs": [
        {
          "output_type": "stream",
          "name": "stdout",
          "text": [
            "File not found\n"
          ]
        },
        {
          "output_type": "error",
          "ename": "NameError",
          "evalue": "name 'file' is not defined",
          "traceback": [
            "\u001b[0;31m---------------------------------------------------------------------------\u001b[0m",
            "\u001b[0;31mNameError\u001b[0m                                 Traceback (most recent call last)",
            "\u001b[0;32m/tmp/ipython-input-3-1417173516.py\u001b[0m in \u001b[0;36m<cell line: 0>\u001b[0;34m()\u001b[0m\n\u001b[1;32m      5\u001b[0m     \u001b[0mprint\u001b[0m\u001b[0;34m(\u001b[0m\u001b[0;34m\"File not found\"\u001b[0m\u001b[0;34m)\u001b[0m\u001b[0;34m\u001b[0m\u001b[0;34m\u001b[0m\u001b[0m\n\u001b[1;32m      6\u001b[0m \u001b[0;32mfinally\u001b[0m\u001b[0;34m:\u001b[0m\u001b[0;34m\u001b[0m\u001b[0;34m\u001b[0m\u001b[0m\n\u001b[0;32m----> 7\u001b[0;31m     \u001b[0mfile\u001b[0m\u001b[0;34m.\u001b[0m\u001b[0mclose\u001b[0m\u001b[0;34m(\u001b[0m\u001b[0;34m)\u001b[0m  \u001b[0;31m# Always executes\u001b[0m\u001b[0;34m\u001b[0m\u001b[0;34m\u001b[0m\u001b[0m\n\u001b[0m",
            "\u001b[0;31mNameError\u001b[0m: name 'file' is not defined"
          ]
        }
      ]
    },
    {
      "cell_type": "markdown",
      "source": [
        "```\n",
        "\n",
        "\n",
        "```"
      ],
      "metadata": {
        "id": "Q0VuOdAhVhp_"
      }
    },
    {
      "cell_type": "markdown",
      "source": [
        "**Q4. What is logging in Python?**\n",
        "\n",
        "**Ans:** Logging is a built-in Python module that provides a flexible framework for tracking events and messages during program execution. It allows developers to record information about program flow, errors, warnings, and debug information to various destinations like console, files, or external services.\n",
        "\n",
        "**Example:**"
      ],
      "metadata": {
        "id": "tz25IPzFVN4p"
      }
    },
    {
      "cell_type": "code",
      "source": [
        "import logging\n",
        "logging.basicConfig(level=logging.INFO)\n",
        "logging.info(\"Application started\")\n",
        "logging.error(\"An error occurred\")"
      ],
      "metadata": {
        "colab": {
          "base_uri": "https://localhost:8080/"
        },
        "id": "8Ts14H5kVeay",
        "outputId": "9d780fab-49b1-4750-e138-13f0f79803e2"
      },
      "execution_count": 5,
      "outputs": [
        {
          "output_type": "stream",
          "name": "stderr",
          "text": [
            "ERROR:root:An error occurred\n"
          ]
        }
      ]
    },
    {
      "cell_type": "markdown",
      "source": [
        "```\n",
        "\n",
        "```"
      ],
      "metadata": {
        "id": "CBRcPZ0UVa7U"
      }
    },
    {
      "cell_type": "markdown",
      "source": [
        "**5. What is the significance of the del method in Python?**\n",
        "\n",
        "**Ans:** The **`__del__`** method is a destructor method called when an object is about to be destroyed by the garbage collector. It's used for cleanup operations, but it's not guaranteed to be called immediately when an object goes out of scope. It's generally better to use context managers or explicit cleanup methods."
      ],
      "metadata": {
        "id": "Nw3xMT8aVoWg"
      }
    },
    {
      "cell_type": "code",
      "source": [
        "class MyClass:\n",
        "    def __del__(self):\n",
        "        print(\"Object is being destroyed\")\n",
        "\n",
        "obj = MyClass()\n",
        "del obj  # Triggers __del__ method"
      ],
      "metadata": {
        "colab": {
          "base_uri": "https://localhost:8080/"
        },
        "id": "gnjSqdbbVYph",
        "outputId": "af08b3e7-2dba-4030-945d-2db043e2ace2"
      },
      "execution_count": 6,
      "outputs": [
        {
          "output_type": "stream",
          "name": "stdout",
          "text": [
            "Object is being destroyed\n"
          ]
        }
      ]
    },
    {
      "cell_type": "markdown",
      "source": [
        "```\n",
        "\n",
        "```"
      ],
      "metadata": {
        "id": "IyUAnHnSV1Id"
      }
    },
    {
      "cell_type": "markdown",
      "source": [
        "**6. What is the difference between import and from ... import in Python?**\n",
        "\n",
        "**Ans:**\n",
        "\n",
        "**import module:**\n",
        "\n",
        "* Imports the entire module\n",
        "* Access using **`module.function()`**\n",
        "* Keeps namespace clean\n",
        "* **Example:** **`import math`** **→** **`math.sqrt(16)`**\n",
        "\n",
        "**`from ... import function:`**\n",
        "\n",
        "* Imports specific functions/classes\n",
        "* Direct access without module prefix\n",
        "* Can cause namespace pollution\n",
        "* **Example:** **`from math import sqrt`** **→** **`sqrt(16)`**"
      ],
      "metadata": {
        "id": "tSoBYDLhV35S"
      }
    },
    {
      "cell_type": "markdown",
      "source": [
        "**Q7. How can you handle multiple exceptions in Python?**\n",
        "\n",
        "**Ans:** You can handle multiple exceptions using:\n",
        "\n",
        "* Multiple except blocks for different exception types\n",
        "* Tuple of exception types in a single except block\n",
        "* Using the base Exception class to catch all exceptions\n",
        "\n",
        "**Exmaple:**"
      ],
      "metadata": {
        "id": "Ym6vGbBqXwPe"
      }
    },
    {
      "cell_type": "code",
      "source": [
        "try:\n",
        "    # risky code\n",
        "    pass\n",
        "except (ValueError, TypeError):\n",
        "    print(\"Value or Type error\")\n",
        "except ZeroDivisionError:\n",
        "    print(\"Division by zero\")\n",
        "except Exception as e:\n",
        "    print(f\"Other error: {e}\")"
      ],
      "metadata": {
        "id": "4clLMbTxX_Ee"
      },
      "execution_count": 8,
      "outputs": []
    },
    {
      "cell_type": "markdown",
      "source": [
        "```\n",
        "\n",
        "```"
      ],
      "metadata": {
        "id": "O5_vFvyGYIYy"
      }
    },
    {
      "cell_type": "markdown",
      "source": [
        "**Q8. What is the purpose of the with statement when handling files in Python?**\n",
        "\n",
        "\n",
        "**Ans:** The **`with`** statement is used for context management, ensuring proper resource cleanup. When working with files, it automatically closes the file when the block exits, even if an exception occurs. This prevents resource leaks and ensures proper file handling.\n",
        "\n",
        "**`Example:`**\n",
        "\n",
        "```\n",
        "# Automatically closes file\n",
        "with open(\"file.txt\", \"r\") as f:\n",
        "    content = f.read()\n",
        "# File is closed here, even if error occurs\n",
        "\n",
        "```"
      ],
      "metadata": {
        "id": "A8SCxnpuYHn6"
      }
    },
    {
      "cell_type": "markdown",
      "source": [
        "**Q9. What is the difference between multithreading and multiprocessing?**\n",
        "\n",
        "\n",
        "**Ans:**\n",
        "\n",
        "**Multithreading:**\n",
        "\n",
        "* Multiple threads share the same memory space\n",
        "* Limited by Python's GIL (Global Interpreter Lock)\n",
        "* Better for I/O-bound tasks\n",
        "* Lower memory overhead\n",
        "\n",
        "**Example:**"
      ],
      "metadata": {
        "id": "zh_guQluYbfY"
      }
    },
    {
      "cell_type": "code",
      "source": [
        "import threading\n",
        "def task():\n",
        "    print(\"Thread running\")\n",
        "thread = threading.Thread(target=task)\n",
        "thread.start()"
      ],
      "metadata": {
        "colab": {
          "base_uri": "https://localhost:8080/"
        },
        "id": "gp-OD-HkYYeE",
        "outputId": "013e982c-9c6d-4d5d-f6aa-55df7086b5f3"
      },
      "execution_count": 10,
      "outputs": [
        {
          "output_type": "stream",
          "name": "stdout",
          "text": [
            "Thread running\n"
          ]
        }
      ]
    },
    {
      "cell_type": "markdown",
      "source": [
        "**Multiprocessing:**\n",
        "\n",
        "* Multiple processes with separate memory spaces\n",
        "* True parallelism, not limited by GIL\n",
        "* Better for CPU-bound tasks\n",
        "* Higher memory overhead\n",
        "\n",
        "**Example:**"
      ],
      "metadata": {
        "id": "P9nm0zw6Y0sR"
      }
    },
    {
      "cell_type": "code",
      "source": [
        "import multiprocessing\n",
        "def task():\n",
        "    print(\"Process running\")\n",
        "process = multiprocessing.Process(target=task)\n",
        "process.start()"
      ],
      "metadata": {
        "id": "99jCL42aY34U"
      },
      "execution_count": null,
      "outputs": []
    },
    {
      "cell_type": "markdown",
      "source": [
        "```\n",
        "\n",
        "```"
      ],
      "metadata": {
        "id": "80KjCgIjYyqx"
      }
    },
    {
      "cell_type": "markdown",
      "source": [
        "**Q10. What are the advantages of using logging in a program?**\n",
        "\n",
        "\n",
        "**Ans:**\n",
        "\n",
        "* **Debugging:** Track program flow and identify issues\n",
        "* **Monitoring:** Monitor application behavior in production\n",
        "* **Auditing:** Keep records of important events\n",
        "* **Configurable:** Different log levels and destinations\n",
        "* **Non-intrusive:** Can be enabled/disabled without code changes\n",
        "* **Structured:** Consistent format for log messages"
      ],
      "metadata": {
        "id": "k-1Gt-MQZRNN"
      }
    },
    {
      "cell_type": "markdown",
      "source": [
        "**Q11. What is memory management in Python?**\n",
        "\n",
        "**Ans:** Memory management in Python is handled automatically through:\n",
        "\n",
        "* **Reference counting:** Tracks how many references point to an object\n",
        "* **Garbage collection:** Automatically deallocates unused objects\n",
        "* **Memory pools:** Efficient allocation for small objects\n",
        "* **Heap management:** Dynamic memory allocation for objects"
      ],
      "metadata": {
        "id": "VFxUO-n6iipP"
      }
    },
    {
      "cell_type": "markdown",
      "source": [
        "**Q12. What are the basic steps involved in exception handling in Python?**\n",
        "\n",
        "**Ans:**\n",
        "\n",
        "1. **Identify potential error points** in our code\n",
        "2. **Wrap risky code** in try blocks\n",
        "3. **Define exception handlers** using except blocks\n",
        "4. **Add cleanup code** in finally blocks (optional)\n",
        "5. **Use else blocks** for code that runs when no exception occurs\n",
        "\n",
        "**Example:**"
      ],
      "metadata": {
        "id": "6ofauyhciz2S"
      }
    },
    {
      "cell_type": "code",
      "source": [
        "try:\n",
        "    # Step 2: Risky code\n",
        "    result = int(input()) / int(input())\n",
        "except ZeroDivisionError:\n",
        "    # Step 3: Handle specific error\n",
        "    print(\"Cannot divide by zero\")\n",
        "except ValueError:\n",
        "    # Step 3: Handle another error\n",
        "    print(\"Invalid input\")\n",
        "else:\n",
        "    # Step 5: Runs if no exception\n",
        "    print(f\"Result: {result}\")\n",
        "finally:\n",
        "    # Step 4: Always runs\n",
        "    print(\"Operation completed\")"
      ],
      "metadata": {
        "colab": {
          "base_uri": "https://localhost:8080/"
        },
        "id": "RThAyc_5iy5c",
        "outputId": "0d972660-6eab-4b57-dfb4-61d5224b3824"
      },
      "execution_count": 57,
      "outputs": [
        {
          "output_type": "stream",
          "name": "stdout",
          "text": [
            "545\n",
            "54\n",
            "Result: 10.092592592592593\n",
            "Operation completed\n"
          ]
        }
      ]
    },
    {
      "cell_type": "markdown",
      "source": [
        "**Q13. Why is memory management important in Python?**\n",
        "\n",
        "**Ans:**\n",
        "\n",
        "* **Performance:** Efficient memory usage improves program performance\n",
        "\n",
        "* **Resource optimization:** Prevents memory leaks and excessive memory consumption\n",
        "\n",
        "* **Stability:** Proper management prevents crashes due to memory issues\n",
        "\n",
        "* **Scalability:** Applications can handle larger datasets and more users\n",
        "\n"
      ],
      "metadata": {
        "id": "4r-7CkfVjU41"
      }
    },
    {
      "cell_type": "markdown",
      "source": [
        "**14. What is the role of try and except in exception handling?**\n",
        "\n",
        "Ans:\n",
        "\n",
        "**`try`** block:\n",
        "\n",
        "* Contains code that might raise an exception\n",
        "* Code execution stops at the first exception\n",
        "\n",
        "**`except`** block:\n",
        "\n",
        "* Handles specific types of exceptions\n",
        "* Provides alternative execution path when errors occur\n",
        "* Prevents program termination due to unhandled exceptions\n",
        "\n"
      ],
      "metadata": {
        "id": "8EDakNy9jl0S"
      }
    },
    {
      "cell_type": "markdown",
      "source": [
        "**Q15. How does Python's garbage collection system work?**\n",
        "\n",
        "\n",
        "**Ans:**\n",
        "\n",
        "Python uses a combination of:\n",
        "\n",
        "* **Reference counting:** Objects are deleted when reference count reaches zero\n",
        "\n",
        "* **Cycle detection:** Identifies and removes circular references\n",
        "\n",
        "* **Generational collection:** Objects are grouped by age; newer objects are collected more frequently\n",
        "\n",
        "* **Automatic triggering:** Garbage collection runs automatically based on allocation thresholds\n",
        "\n",
        "**Example:**"
      ],
      "metadata": {
        "id": "txhIRw6mj5gU"
      }
    },
    {
      "cell_type": "code",
      "source": [
        "import gc\n",
        "# Manual garbage collection\n",
        "gc.collect()\n",
        "\n",
        "# Check reference count\n",
        "import sys\n",
        "x = [1, 2, 3]\n",
        "print(sys.getrefcount(x))  # Shows reference count"
      ],
      "metadata": {
        "colab": {
          "base_uri": "https://localhost:8080/"
        },
        "id": "lj4H5seskMUm",
        "outputId": "d66a1cf0-f581-4c4a-8e29-e92b22e64a25"
      },
      "execution_count": 58,
      "outputs": [
        {
          "output_type": "stream",
          "name": "stdout",
          "text": [
            "2\n"
          ]
        }
      ]
    },
    {
      "cell_type": "markdown",
      "source": [
        "**Q16. What is the purpose of the else block in exception handling?**\n",
        "\n",
        "**Ans:** The else block executes only when no exception occurs in the try block. It's useful for code that should run only when the try block completes successfully, providing a clear separation between exception-prone code and success-dependent code.\n",
        "\n",
        "**Example:**"
      ],
      "metadata": {
        "id": "LmHnKpzekVLm"
      }
    },
    {
      "cell_type": "code",
      "source": [
        "try:\n",
        "    num = int(input(\"Enter number: \"))\n",
        "except ValueError:\n",
        "    print(\"Invalid input\")\n",
        "else:\n",
        "    print(f\"You entered: {num}\")\n",
        "finally:\n",
        "    print(\"Done\")"
      ],
      "metadata": {
        "colab": {
          "base_uri": "https://localhost:8080/"
        },
        "id": "tmolKhtzkgaG",
        "outputId": "ee6a2864-1020-4e18-e9ae-ca6b2372c548"
      },
      "execution_count": 59,
      "outputs": [
        {
          "output_type": "stream",
          "name": "stdout",
          "text": [
            "Enter number: 56\n",
            "You entered: 56\n",
            "Done\n"
          ]
        }
      ]
    },
    {
      "cell_type": "markdown",
      "source": [
        "**Q17. What are the common logging levels in Python?**\n",
        "\n",
        "**Ans:**\n",
        "\n",
        "* **DEBUG:** Detailed information for debugging\n",
        "\n",
        "* **INFO:** General information about program execution\n",
        "\n",
        "* **WARNING:** Indicates something unexpected happened\n",
        "\n",
        "* **ERROR:** Serious problem that prevented function execution\n",
        "\n",
        "* **CRITICAL:** Very serious error that might stop the program\n",
        "\n",
        "```\n",
        "\n",
        "```\n",
        "\n",
        "**Code Syntax**"
      ],
      "metadata": {
        "id": "4aGkTm3hkqww"
      }
    },
    {
      "cell_type": "code",
      "source": [
        "import logging\n",
        "logging.basicConfig(level=logging.DEBUG)\n",
        "\n",
        "logging.debug(\"Debug message\")      # Level 10\n",
        "logging.info(\"Info message\")        # Level 20\n",
        "logging.warning(\"Warning message\")  # Level 30\n",
        "logging.error(\"Error message\")      # Level 40\n",
        "logging.critical(\"Critical message\")# Level 50"
      ],
      "metadata": {
        "colab": {
          "base_uri": "https://localhost:8080/"
        },
        "id": "UQqLbEZtklMk",
        "outputId": "f3408b40-6cfd-46e6-d629-55631de8276d"
      },
      "execution_count": 60,
      "outputs": [
        {
          "output_type": "stream",
          "name": "stderr",
          "text": [
            "WARNING:root:Warning message\n",
            "ERROR:root:Error message\n",
            "CRITICAL:root:Critical message\n"
          ]
        }
      ]
    },
    {
      "cell_type": "markdown",
      "source": [
        "**Q18. What is the difference between `os.fork()` and multiprocessing in Python?**\n",
        "\n",
        "**Ans:**\n",
        "\n",
        "**`os.fork():`**\n",
        "\n",
        "* Low-level Unix system call\n",
        "* Creates exact copy of current process\n",
        "* Platform-specific (Unix/Linux only)\n",
        "* Manual process management required\n",
        "\n",
        "**Example:**"
      ],
      "metadata": {
        "id": "HfJDCdTJlE3O"
      }
    },
    {
      "cell_type": "code",
      "source": [
        "import os\n",
        "pid = os.fork()  # Unix only\n",
        "if pid == 0:\n",
        "    print(\"Child process\")\n",
        "else:\n",
        "    print(\"Parent process\")"
      ],
      "metadata": {
        "colab": {
          "base_uri": "https://localhost:8080/"
        },
        "id": "a7JHVdBBlelh",
        "outputId": "e27b6bd0-0e87-4ef6-ad4e-fbe25267334c"
      },
      "execution_count": null,
      "outputs": [
        {
          "output_type": "stream",
          "name": "stdout",
          "text": [
            "Child process"
          ]
        }
      ]
    },
    {
      "cell_type": "markdown",
      "source": [
        "**multiprocessing:**\n",
        "\n",
        "* High-level Python module\n",
        "* Cross-platform compatibility\n",
        "* Provides process pools and communication mechanisms\n",
        "* Easier to use and manage\n",
        "\n",
        "**Example:**"
      ],
      "metadata": {
        "id": "zHRC7xbblg7M"
      }
    },
    {
      "cell_type": "code",
      "source": [
        "import multiprocessing\n",
        "def worker():\n",
        "    print(\"Worker process\")\n",
        "p = multiprocessing.Process(target=worker)\n",
        "p.start()\n",
        "p.join()"
      ],
      "metadata": {
        "id": "8bYhKdgYlp9_"
      },
      "execution_count": null,
      "outputs": []
    },
    {
      "cell_type": "markdown",
      "source": [
        "**Q19. What is the importance of closing a file in Python?**\n",
        "\n",
        "**Ans:**\n",
        "\n",
        "* **Resource management:** Frees up file handles and memory\n",
        "\n",
        "* **Data integrity:** Ensures all data is written to disk\n",
        "\n",
        "* **System limits:** Prevents reaching OS file handle limits\n",
        "\n",
        "* **Performance:** Avoids resource leaks that can slow down the system\n",
        "\n",
        "* **Consistency:** Ensures other processes can access the file"
      ],
      "metadata": {
        "id": "nbS4Pra3lskA"
      }
    },
    {
      "cell_type": "markdown",
      "source": [
        "**Q20. What is the difference between `file.read()` and `file.readline()` in Python?**\n",
        "\n",
        "**Ans:**\n",
        "\n",
        "**`file.read()`**:\n",
        "\n",
        "* Reads the entire file content as a single string\n",
        "* Returns all remaining content from current position\n",
        "* Memory-intensive for large files\n",
        "\n",
        "**Exmaple:**"
      ],
      "metadata": {
        "id": "fvfsk879lusn"
      }
    },
    {
      "cell_type": "code",
      "source": [
        "import os\n",
        "\n",
        "filename = \"file.txt\"\n",
        "if os.path.exists(filename):\n",
        "    with open(filename, \"r\") as f:\n",
        "        content = f.read()\n",
        "        print(content)\n",
        "else:\n",
        "    print(f\"'{filename}' does not exist.\")"
      ],
      "metadata": {
        "colab": {
          "base_uri": "https://localhost:8080/"
        },
        "id": "lJNUo0WinzO9",
        "outputId": "c6e23db6-84a5-4dc4-cbd3-530f61b0f439"
      },
      "execution_count": 10,
      "outputs": [
        {
          "output_type": "stream",
          "name": "stdout",
          "text": [
            "'file.txt' does not exist.\n"
          ]
        }
      ]
    },
    {
      "cell_type": "markdown",
      "source": [
        "**`file.readline():`**\n",
        "\n",
        "* Reads one line at a time\n",
        "* Returns a single line including newline character\n",
        "* Memory-efficient for processing large files line by line\n",
        "\n",
        "**Example:**"
      ],
      "metadata": {
        "id": "xE5nqwsNoLZT"
      }
    },
    {
      "cell_type": "code",
      "source": [
        "import os\n",
        "\n",
        "filename = \"file.txt\"\n",
        "if os.path.exists(filename):\n",
        "    with open(filename, \"r\") as f:\n",
        "       line = f.readline()\n",
        "    print(line)\n",
        "else:\n",
        "    print(f\"'{filename}' does not exist.\")"
      ],
      "metadata": {
        "colab": {
          "base_uri": "https://localhost:8080/"
        },
        "id": "0L8lRtBSoZTy",
        "outputId": "8d8ab374-40b1-434f-f186-fa57a835837d"
      },
      "execution_count": 13,
      "outputs": [
        {
          "output_type": "stream",
          "name": "stdout",
          "text": [
            "'file.txt' does not exist.\n"
          ]
        }
      ]
    },
    {
      "cell_type": "markdown",
      "source": [
        "**Q21. What is the logging module in Python used for?**\n",
        "\n",
        "**Ans:**\n",
        "The logging module provides a flexible framework for:\n",
        "\n",
        "* Recording events and messages during program execution\n",
        "* Configuring different log levels and destinations\n",
        "* Formatting log messages consistently\n",
        "* Filtering log messages based on severity\n",
        "* Rotating log files to manage disk space"
      ],
      "metadata": {
        "id": "Vh12hlc9oyNJ"
      }
    },
    {
      "cell_type": "markdown",
      "source": [
        "**Q22. What is the os module in Python used for in file handling?**\n",
        "\n",
        "**Ans:**\n",
        "The os module provides operating system interface functions for:\n",
        "\n",
        "* File and directory operations (create, delete, rename)\n",
        "* Path manipulation and validation\n",
        "* Environment variable access\n",
        "* Process management\n",
        "* File permission and metadata operations\n",
        "\n",
        "**Code Syntax:**\n",
        "\n",
        "```\n",
        "\n",
        "import os\n",
        "\n",
        "os.path.exists(\"file.txt\")    # Check if exists\n",
        "os.remove(\"file.txt\")         # Delete file\n",
        "os.rename(\"old.txt\", \"new.txt\")  # Rename\n",
        "os.getcwd()                   # Current directory\n",
        "os.listdir(\".\")              # List directory contentss\n",
        "\n",
        "```"
      ],
      "metadata": {
        "id": "dknefogvpBWl"
      }
    },
    {
      "cell_type": "markdown",
      "source": [
        "**Q23. What are the challenges associated with memory management in Python?**\n",
        "\n",
        "**Ans:**\n",
        "\n",
        "* **Circular references:** Objects referencing each other prevent garbage collection\n",
        "* **Memory leaks:** Unreferenced objects consuming memory\n",
        "* **Large object handling:** Managing memory for big data structures\n",
        "* **C extensions:** Manual memory management in C code\n",
        "* **Global variables:** Long-lived objects consuming memory"
      ],
      "metadata": {
        "id": "j0pjEY2bpjmr"
      }
    },
    {
      "cell_type": "markdown",
      "source": [
        "**Q24. How do you raise an exception manually in Python?**\n",
        "\n",
        "**Ans:** In Python, we can manually raise an exception using the raise keyword. This is typically used when we want to signal that something has gone wrong or to enforce certain conditions in our code.\n",
        "\n",
        "**Code Syntax:**"
      ],
      "metadata": {
        "id": "sZeiZpD2qD5L"
      }
    },
    {
      "cell_type": "code",
      "source": [
        "# Raise specific exception with message\n",
        "raise ValueError(\"Invalid input\")\n",
        "\n",
        "# Raise generic exception\n",
        "raise Exception(\"Custom error message\")\n",
        "\n",
        "# Re-raise current exception (in except block)\n",
        "try:\n",
        "    1/0\n",
        "except:\n",
        "    print(\"Logging error\")\n",
        "    raise  # Re-raises ZeroDivisionError\n",
        "\n",
        "# Raise without message\n",
        "raise TypeError"
      ],
      "metadata": {
        "id": "Q34HZ5h0qbHH"
      },
      "execution_count": null,
      "outputs": []
    },
    {
      "cell_type": "markdown",
      "source": [
        "**Q25. Why is it important to use multithreading in certain applications?**\n",
        "\n",
        "**Ans:**\n",
        "\n",
        "* **I/O operations:** Prevents blocking during file/network operations\n",
        "User interface: Keeps UI responsive during background tasks\n",
        "Concurrent processing: Handle multiple requests simultaneously\n",
        "Resource utilization: Better use of system resources\n",
        "Performance: Improved throughput for I/O-bound applications"
      ],
      "metadata": {
        "id": "V5PyEpGoqrG8"
      }
    },
    {
      "cell_type": "markdown",
      "source": [
        "# **Practical Questions**"
      ],
      "metadata": {
        "id": "hVUg_8I-Za7D"
      }
    },
    {
      "cell_type": "code",
      "source": [
        "# 1.\n",
        "with open(\"output_1.txt\", \"w\") as f:\n",
        "    f.write(\"Hello, this is a test string!\")\n",
        "print(\"String written to 'output_1.txt'\")\n",
        "\n"
      ],
      "metadata": {
        "colab": {
          "base_uri": "https://localhost:8080/"
        },
        "id": "iq4YAxDzZ6wD",
        "outputId": "5f3591c0-0b95-4506-a201-3bb801265cd7"
      },
      "execution_count": 26,
      "outputs": [
        {
          "output_type": "stream",
          "name": "stdout",
          "text": [
            "String written to 'output_1.txt'\n"
          ]
        }
      ]
    },
    {
      "cell_type": "code",
      "source": [
        "# 2.\n",
        "\n",
        "import os\n",
        "\n",
        "filename = \"input_2.txt\"\n",
        "\n",
        "\n",
        "if not os.path.exists(filename):\n",
        "    with open(filename, \"w\") as f:\n",
        "        f.write(\"Line 1\\nLine 2\\nLine 3\\n\")\n",
        "\n",
        "\n",
        "with open(filename, \"r\") as f:\n",
        "    for line in f:\n",
        "        print(line.strip())\n",
        "\n"
      ],
      "metadata": {
        "colab": {
          "base_uri": "https://localhost:8080/"
        },
        "id": "dWAHfoD5bKvh",
        "outputId": "39fbbae5-af3e-4b96-fe46-a82846f3c349"
      },
      "execution_count": 28,
      "outputs": [
        {
          "output_type": "stream",
          "name": "stdout",
          "text": [
            "Line 1\n",
            "Line 2\n",
            "Line 3\n"
          ]
        }
      ]
    },
    {
      "cell_type": "code",
      "source": [
        "# 3.\n",
        "\n",
        "try:\n",
        "    with open(\"nonexistent_file.txt\", \"r\") as f:\n",
        "        content = f.read()\n",
        "except FileNotFoundError:\n",
        "    print(\"File does not exist!\")\n"
      ],
      "metadata": {
        "colab": {
          "base_uri": "https://localhost:8080/"
        },
        "id": "2sj7R3FQbcIG",
        "outputId": "bf486701-506d-4d4d-9cd1-1643f0aa6318"
      },
      "execution_count": 29,
      "outputs": [
        {
          "output_type": "stream",
          "name": "stdout",
          "text": [
            "File does not exist!\n"
          ]
        }
      ]
    },
    {
      "cell_type": "code",
      "source": [
        "# 4.\n",
        "import os\n",
        "\n",
        "if not os.path.exists(\"source.txt\"):\n",
        "    with open(\"source.txt\", \"w\") as f:\n",
        "        f.write(\"This is line 1\\nThis is line 2\\n\")\n",
        "\n",
        "with open(\"source.txt\", \"r\") as src, open(\"dest.txt\", \"w\") as dst:\n",
        "    for line in src:\n",
        "        dst.write(line)\n",
        "\n",
        "print(\"Content copied to 'dest.txt'\")\n"
      ],
      "metadata": {
        "colab": {
          "base_uri": "https://localhost:8080/"
        },
        "id": "BUp5DiTHbjeR",
        "outputId": "8ece3ce0-3ccb-4478-bf0d-0208b29cdca7"
      },
      "execution_count": 31,
      "outputs": [
        {
          "output_type": "stream",
          "name": "stdout",
          "text": [
            "Content copied to 'dest.txt'\n"
          ]
        }
      ]
    },
    {
      "cell_type": "code",
      "source": [
        "# 5.\n",
        "try:\n",
        "    x = 10 / 0\n",
        "except ZeroDivisionError:\n",
        "    print(\"Cannot divide by zero!\")\n"
      ],
      "metadata": {
        "colab": {
          "base_uri": "https://localhost:8080/"
        },
        "id": "FsR9C9Z5boNC",
        "outputId": "190bbaa3-5f8e-4882-e059-004609576010"
      },
      "execution_count": 32,
      "outputs": [
        {
          "output_type": "stream",
          "name": "stdout",
          "text": [
            "Cannot divide by zero!\n"
          ]
        }
      ]
    },
    {
      "cell_type": "code",
      "source": [
        "# 6.\n",
        "import logging\n",
        "logging.basicConfig(filename=\"error_log.txt\", level=logging.ERROR)\n",
        "\n",
        "try:\n",
        "    result = 5 / 0\n",
        "except ZeroDivisionError as e:\n",
        "    logging.error(\"Division by zero occurred: %s\", e)\n",
        "    print(\"Error logged to 'error_log.txt'\")\n"
      ],
      "metadata": {
        "colab": {
          "base_uri": "https://localhost:8080/"
        },
        "id": "4dOOWIiIbrnN",
        "outputId": "a6497b30-35c0-4bdf-cb9a-8b8945f852a5"
      },
      "execution_count": 34,
      "outputs": [
        {
          "output_type": "stream",
          "name": "stderr",
          "text": [
            "ERROR:root:Division by zero occurred: division by zero\n"
          ]
        },
        {
          "output_type": "stream",
          "name": "stdout",
          "text": [
            "Error logged to 'error_log.txt'\n"
          ]
        }
      ]
    },
    {
      "cell_type": "code",
      "source": [
        "# 7.\n",
        "\n",
        "import logging\n",
        "logging.basicConfig(level=logging.DEBUG)\n",
        "\n",
        "logging.info(\"This is an info message.\")\n",
        "logging.warning(\"This is a warning.\")\n",
        "logging.error(\"This is an error.\")\n"
      ],
      "metadata": {
        "colab": {
          "base_uri": "https://localhost:8080/"
        },
        "id": "OLLbvp06bt1w",
        "outputId": "7273e0fa-cc3e-4824-d8a6-1b3d0df1580d"
      },
      "execution_count": 35,
      "outputs": [
        {
          "output_type": "stream",
          "name": "stderr",
          "text": [
            "WARNING:root:This is a warning.\n",
            "ERROR:root:This is an error.\n"
          ]
        }
      ]
    },
    {
      "cell_type": "code",
      "source": [
        "#8.\n",
        "\n",
        "try:\n",
        "    with open(\"missing_file.txt\", \"r\") as f:\n",
        "        print(f.read())\n",
        "except FileNotFoundError:\n",
        "    print(\"File not found error handled.\")\n"
      ],
      "metadata": {
        "colab": {
          "base_uri": "https://localhost:8080/"
        },
        "id": "-z6f9Hr2fnOf",
        "outputId": "31806b7d-50a3-40b2-d6f4-f513297af24e"
      },
      "execution_count": 36,
      "outputs": [
        {
          "output_type": "stream",
          "name": "stdout",
          "text": [
            "File not found error handled.\n"
          ]
        }
      ]
    },
    {
      "cell_type": "code",
      "source": [
        "#9.\n",
        "import os\n",
        "\n",
        "filename = \"sample_list.txt\"\n",
        "\n",
        "if not os.path.exists(filename):\n",
        "    with open(filename, \"w\") as f:\n",
        "        f.write(\"Apple\\nBanana\\nCherry\\n\")\n",
        "\n",
        "\n",
        "with open(filename, \"r\") as f:\n",
        "    lines = [line.strip() for line in f]\n",
        "\n",
        "print(\"Lines as list:\", lines)\n"
      ],
      "metadata": {
        "colab": {
          "base_uri": "https://localhost:8080/"
        },
        "id": "wZnjsxUHfrvu",
        "outputId": "c01ceaca-9998-4219-e220-2426335281d8"
      },
      "execution_count": 38,
      "outputs": [
        {
          "output_type": "stream",
          "name": "stdout",
          "text": [
            "Lines as list: ['Apple', 'Banana', 'Cherry']\n"
          ]
        }
      ]
    },
    {
      "cell_type": "code",
      "source": [
        "#10.\n",
        "\n",
        "with open(\"append_file.txt\", \"a\") as f:\n",
        "    f.write(\"Appended line\\n\")\n",
        "\n",
        "with open(\"append_file.txt\", \"r\") as f:\n",
        "    content = f.read()\n",
        "\n",
        "print(\"Updated file content:\")\n",
        "print(content)\n"
      ],
      "metadata": {
        "colab": {
          "base_uri": "https://localhost:8080/"
        },
        "id": "86O7cgPfgi2-",
        "outputId": "e0a6e0cb-4ee8-458f-d45e-18fe4ff92298"
      },
      "execution_count": 40,
      "outputs": [
        {
          "output_type": "stream",
          "name": "stdout",
          "text": [
            "Updated file content:\n",
            "Appended line\n",
            "Appended line\n",
            "\n"
          ]
        }
      ]
    },
    {
      "cell_type": "code",
      "source": [
        "#11.\n",
        "\n",
        "data = {\"name\": \"Alice\"}\n",
        "try:\n",
        "    print(data[\"age\"])\n",
        "except KeyError:\n",
        "    print(\"Key does not exist!\")\n"
      ],
      "metadata": {
        "colab": {
          "base_uri": "https://localhost:8080/"
        },
        "id": "3KhG7xr2gqX2",
        "outputId": "ca9d2e29-e965-4355-91e0-6fb81f1d165d"
      },
      "execution_count": 41,
      "outputs": [
        {
          "output_type": "stream",
          "name": "stdout",
          "text": [
            "Key does not exist!\n"
          ]
        }
      ]
    },
    {
      "cell_type": "code",
      "source": [
        "#12.\n",
        "\n",
        "try:\n",
        "    x = [1, 2, 3][5]\n",
        "    y = 10 / 0\n",
        "except IndexError:\n",
        "    print(\"Index out of range.\")\n",
        "except ZeroDivisionError:\n",
        "    print(\"Zero division.\")\n"
      ],
      "metadata": {
        "colab": {
          "base_uri": "https://localhost:8080/"
        },
        "id": "2zRldQDpgyJm",
        "outputId": "dc08b63a-258c-40f7-a214-d2bea2fe5806"
      },
      "execution_count": 42,
      "outputs": [
        {
          "output_type": "stream",
          "name": "stdout",
          "text": [
            "Index out of range.\n"
          ]
        }
      ]
    },
    {
      "cell_type": "code",
      "source": [
        "#13.\n",
        "\n",
        "import os\n",
        "\n",
        "filename = \"maybe_exists.txt\"\n",
        "if os.path.exists(filename):\n",
        "    with open(filename, \"r\") as f:\n",
        "        print(f.read())\n",
        "else:\n",
        "    print(f\"'{filename}' does not exist.\")\n"
      ],
      "metadata": {
        "colab": {
          "base_uri": "https://localhost:8080/"
        },
        "id": "Ff9AMQW7g2S7",
        "outputId": "693fbb8c-4d97-414b-abe8-84a8fae1399b"
      },
      "execution_count": 43,
      "outputs": [
        {
          "output_type": "stream",
          "name": "stdout",
          "text": [
            "'maybe_exists.txt' does not exist.\n"
          ]
        }
      ]
    },
    {
      "cell_type": "code",
      "source": [
        "#14.\n",
        "\n",
        "import logging\n",
        "\n",
        "logging.basicConfig(filename=\"logfile.txt\", level=logging.INFO)\n",
        "logging.info(\"This is an info message.\")\n",
        "logging.error(\"This is an error message.\")\n",
        "print(\"Logged info and error messages to 'logfile.txt'\")\n"
      ],
      "metadata": {
        "colab": {
          "base_uri": "https://localhost:8080/"
        },
        "id": "BDbPdWKTg4t4",
        "outputId": "7aa9a1ec-0e23-4336-c91d-5a5386943f4a"
      },
      "execution_count": 44,
      "outputs": [
        {
          "output_type": "stream",
          "name": "stderr",
          "text": [
            "ERROR:root:This is an error message.\n"
          ]
        },
        {
          "output_type": "stream",
          "name": "stdout",
          "text": [
            "Logged info and error messages to 'logfile.txt'\n"
          ]
        }
      ]
    },
    {
      "cell_type": "code",
      "source": [
        "#15.\n",
        "\n",
        "import os\n",
        "\n",
        "filename = \"empty_or_not.txt\"\n",
        "\n",
        "if not os.path.exists(filename):\n",
        "    with open(filename, \"w\") as f:\n",
        "        pass\n",
        "\n",
        "with open(filename, \"r\") as f:\n",
        "    content = f.read()\n",
        "    if content.strip():\n",
        "        print(\"File content:\")\n",
        "        print(content)\n",
        "    else:\n",
        "        print(\"File is empty.\")\n",
        "\n"
      ],
      "metadata": {
        "colab": {
          "base_uri": "https://localhost:8080/"
        },
        "id": "YjFNYfn_g7Xw",
        "outputId": "86a35e06-1f61-4471-a3cf-5cd7bf550530"
      },
      "execution_count": 46,
      "outputs": [
        {
          "output_type": "stream",
          "name": "stdout",
          "text": [
            "File is empty.\n"
          ]
        }
      ]
    },
    {
      "cell_type": "code",
      "source": [
        "#16.\n",
        "\n",
        "import sys\n",
        "\n",
        "data = list(range(1000))\n",
        "print(\"Memory used by data list:\", sys.getsizeof(data), \"bytes\")\n"
      ],
      "metadata": {
        "colab": {
          "base_uri": "https://localhost:8080/"
        },
        "id": "KWPOXbi8ha-X",
        "outputId": "2a26ac72-ae66-4a81-cb9c-4ad84bf19be7"
      },
      "execution_count": 47,
      "outputs": [
        {
          "output_type": "stream",
          "name": "stdout",
          "text": [
            "Memory used by data list: 8056 bytes\n"
          ]
        }
      ]
    },
    {
      "cell_type": "code",
      "source": [
        "#17.\n",
        "\n",
        "with open(\"numbers.txt\", \"w\") as f:\n",
        "    for i in range(5):\n",
        "        f.write(f\"{i}\\n\")\n",
        "print(\"Wrote numbers 0 to 4 to 'numbers.txt'\")\n"
      ],
      "metadata": {
        "colab": {
          "base_uri": "https://localhost:8080/"
        },
        "id": "NpQWc5xkhfOc",
        "outputId": "20a24c92-4e45-4f82-8e3d-9b0f87c6f666"
      },
      "execution_count": 48,
      "outputs": [
        {
          "output_type": "stream",
          "name": "stdout",
          "text": [
            "Wrote numbers 0 to 4 to 'numbers.txt'\n"
          ]
        }
      ]
    },
    {
      "cell_type": "code",
      "source": [
        "#18.\n",
        "\n",
        "import logging\n",
        "from logging.handlers import RotatingFileHandler\n",
        "\n",
        "handler = RotatingFileHandler(\"rotating_log.txt\", maxBytes=1024*1024, backupCount=3)\n",
        "logging.basicConfig(handlers=[handler], level=logging.INFO)\n",
        "\n",
        "for i in range(100):\n",
        "    logging.info(f\"Log entry {i}\")\n",
        "print(\"Rotating log written to 'rotating_log.txt'\")\n"
      ],
      "metadata": {
        "colab": {
          "base_uri": "https://localhost:8080/"
        },
        "id": "Q_iCU1UChj9_",
        "outputId": "25be1a67-ff60-4f62-8192-f13c024811e1"
      },
      "execution_count": 49,
      "outputs": [
        {
          "output_type": "stream",
          "name": "stdout",
          "text": [
            "Rotating log written to 'rotating_log.txt'\n"
          ]
        }
      ]
    },
    {
      "cell_type": "code",
      "source": [
        "#19.\n",
        "\n",
        "try:\n",
        "    lst = [1, 2, 3]\n",
        "    print(lst[5])\n",
        "    d = {\"a\": 1}\n",
        "    print(d[\"b\"])\n",
        "except IndexError:\n",
        "    print(\"Handled IndexError\")\n",
        "except KeyError:\n",
        "    print(\"Handled KeyError\")\n"
      ],
      "metadata": {
        "colab": {
          "base_uri": "https://localhost:8080/"
        },
        "id": "am-0VkwchpQh",
        "outputId": "507ca82b-bfef-4c07-e5db-e7a4941b6375"
      },
      "execution_count": 50,
      "outputs": [
        {
          "output_type": "stream",
          "name": "stdout",
          "text": [
            "Handled IndexError\n"
          ]
        }
      ]
    },
    {
      "cell_type": "code",
      "source": [
        "#20.\n",
        "\n",
        "import os\n",
        "\n",
        "filename = \"context_test.txt\"\n",
        "\n",
        "with open(filename, \"w\") as f:\n",
        "    f.write(\"Line 1\\nLine 2\\nLine 3\\n\")\n",
        "\n",
        "with open(filename, \"r\") as f:\n",
        "    contents = f.readlines()\n",
        "\n",
        "if contents:\n",
        "    for line in contents:\n",
        "        print(line.strip())\n",
        "else:\n",
        "    print(\"The file is empty.\")\n"
      ],
      "metadata": {
        "colab": {
          "base_uri": "https://localhost:8080/"
        },
        "id": "psyyOOb5hsfX",
        "outputId": "59f417a6-b17b-410f-861a-025472e6e891"
      },
      "execution_count": 3,
      "outputs": [
        {
          "output_type": "stream",
          "name": "stdout",
          "text": [
            "Line 1\n",
            "Line 2\n",
            "Line 3\n"
          ]
        }
      ]
    },
    {
      "cell_type": "code",
      "source": [
        "#21.\n",
        "\n",
        "import os\n",
        "\n",
        "word = \"apple\"\n",
        "filename = \"word_count.txt\"\n",
        "\n",
        "if not os.path.exists(filename):\n",
        "    with open(filename, \"w\") as f:\n",
        "        f.write(\"apple orange apple banana apple\")\n",
        "\n",
        "with open(filename, \"r\") as f:\n",
        "    text = f.read()\n",
        "\n",
        "count = text.count(word)\n",
        "print(f\"'{word}' occurs {count} times.\")\n"
      ],
      "metadata": {
        "colab": {
          "base_uri": "https://localhost:8080/"
        },
        "id": "U0-Ljxa9mf-u",
        "outputId": "c186719b-846f-40a0-b679-b9890b3eaed1"
      },
      "execution_count": 5,
      "outputs": [
        {
          "output_type": "stream",
          "name": "stdout",
          "text": [
            "'apple' occurs 3 times.\n"
          ]
        }
      ]
    },
    {
      "cell_type": "code",
      "source": [
        "#22.\n",
        "\n",
        "filename = \"maybe_empty.txt\"\n",
        "\n",
        "with open(filename, \"w\") as f:\n",
        "    f.write(\"This file has content.\\n\")\n",
        "\n",
        "with open(filename, \"r\") as f:\n",
        "    content = f.read()\n",
        "    if content.strip():\n",
        "        print(\"File content:\")\n",
        "        print(content)\n",
        "    else:\n",
        "        print(\"File is empty.\")\n",
        "\n"
      ],
      "metadata": {
        "colab": {
          "base_uri": "https://localhost:8080/"
        },
        "id": "sSN8Lr8nmwCf",
        "outputId": "19331be9-392a-4018-8e39-1fe8a2c355d9"
      },
      "execution_count": 7,
      "outputs": [
        {
          "output_type": "stream",
          "name": "stdout",
          "text": [
            "File content:\n",
            "This file has content.\n",
            "\n"
          ]
        }
      ]
    },
    {
      "cell_type": "code",
      "source": [
        "#23.\n",
        "\n",
        "import logging\n",
        "\n",
        "logging.basicConfig(filename=\"file_errors.log\", level=logging.ERROR)\n",
        "\n",
        "filename = \"non_existing_file.txt\"\n",
        "\n",
        "try:\n",
        "    with open(filename, \"r\") as f:\n",
        "        content = f.read()\n",
        "        print(content)\n",
        "except FileNotFoundError as e:\n",
        "    logging.error(f\"File not found: {filename} - {e}\")\n",
        "    print(\"An error occurred. Check 'file_errors.log' for details.\")\n"
      ],
      "metadata": {
        "colab": {
          "base_uri": "https://localhost:8080/"
        },
        "id": "MO8e5r0VnQcA",
        "outputId": "e1afae8c-04c0-421a-8d7d-99d7819afcd4"
      },
      "execution_count": 8,
      "outputs": [
        {
          "output_type": "stream",
          "name": "stderr",
          "text": [
            "ERROR:root:File not found: non_existing_file.txt - [Errno 2] No such file or directory: 'non_existing_file.txt'\n"
          ]
        },
        {
          "output_type": "stream",
          "name": "stdout",
          "text": [
            "An error occurred. Check 'file_errors.log' for details.\n"
          ]
        }
      ]
    }
  ]
}