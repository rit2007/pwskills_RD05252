{
  "nbformat": 4,
  "nbformat_minor": 0,
  "metadata": {
    "colab": {
      "provenance": []
    },
    "kernelspec": {
      "name": "python3",
      "display_name": "Python 3"
    },
    "language_info": {
      "name": "python"
    }
  },
  "cells": [
    {
      "cell_type": "markdown",
      "source": [
        "# Python Basics_Ritam Dutta_DS_0525"
      ],
      "metadata": {
        "id": "FvjY9AI_Y6mK"
      }
    },
    {
      "cell_type": "markdown",
      "source": [
        "# Theoretical Questions"
      ],
      "metadata": {
        "id": "qhNj1sfmZlde"
      }
    },
    {
      "cell_type": "markdown",
      "source": [
        "**Q1. What is Python, and why is it popular?**\n",
        "\n",
        "**--Ans.** Python is Programming Language (PL) used widley in various fields, but is the got PL for Data Scientist because of:\n",
        "\n",
        "a. Its large set well-structured and well-optimized open source libraries which number to more than 137000.\n",
        "\n",
        "b. Can be used for Front end, Back-end and Data Analysis.\n",
        "\n",
        "c. It is a very easy to learn language, making tasks like automation, image processing and database manipulation extremely easy."
      ],
      "metadata": {
        "id": "xjzwDa8TZtI8"
      }
    },
    {
      "cell_type": "markdown",
      "source": [
        "**Q2. What is an interpreter in Python?**\n",
        "\n",
        "**-- Ans.** In Python, an interpreter is a program that reads and executes Python code line by line, without requiring it to be compiled into machine code beforehand. It translates each high-level statement into lower-level instructions that the computer can understand and run."
      ],
      "metadata": {
        "id": "Qs38b5Oqb4Op"
      }
    },
    {
      "cell_type": "markdown",
      "source": [
        "**Q3. What are pre-defined keywords in Python?**\n",
        "\n",
        "**-- Ans.** They are pre-defined words that hold a special meaning/ use-case in Python. They execute a specific task in Python.\n",
        "\n",
        "For example- In Python, 'True()' is a built-in constant that represents the boolean value of true. It is used in logical operations and expressions to indicate a truth condition"
      ],
      "metadata": {
        "id": "9vyhtaShc85N"
      }
    },
    {
      "cell_type": "markdown",
      "source": [
        "**Q4. Can keywords be used as variable names?**\n",
        "\n",
        "**-- Ans.** No, keywords cannot be used as variable names in Python as doing so will raise a 'SyntaxError: cannot assign to ***used keyword***' while running the code."
      ],
      "metadata": {
        "id": "OADu_9Q5f2E9"
      }
    },
    {
      "cell_type": "markdown",
      "source": [
        "**Q5. What is mutability in Python?**\n",
        "\n",
        "**--Ans.**  Mutability in Python refers to the function of Python where in an object can be changed after it has been created. There are two types of objects in Python acc to the property of mutability - 'mutable' & 'immutable' objects.\n",
        "\n",
        "\n"
      ],
      "metadata": {
        "id": "0khU_csGjlpB"
      }
    },
    {
      "cell_type": "markdown",
      "source": [
        "**Q6. Why are lists mutable, but tuples are immutable?**\n",
        "\n",
        "**-- Ans.** Tuples are ordered and immutable ,i.e., elements within it assume a fixed position and value after it runs. Whereas lists while ordered allow for changes in the value and position and number of their elements."
      ],
      "metadata": {
        "id": "XPmmRdfTkx3u"
      }
    },
    {
      "cell_type": "markdown",
      "source": [
        "**Q7. What is the difference between “==” and “is” operators in Python?**\n",
        "\n",
        "**-- Ans.** '==' is the equality operator compares the values of objects,it returns 'True' if the objects are same value otherwise it prints 'False'.\n",
        "\n",
        "On the other hand 'is' is the (identity operator) it checks whether two variables refer to the exact same object in memory. It returns True if they are the same object, regardless of value."
      ],
      "metadata": {
        "id": "lto1gLDjmbi5"
      }
    },
    {
      "cell_type": "markdown",
      "source": [
        "**Q8. What are logical operators in Python?**\n",
        "\n",
        "**-- Ans.** Logical operators are operators that are used to combine or modify Boolean expressions, and they always return a Boolean result (True or False)."
      ],
      "metadata": {
        "id": "fd9hMKDhsu_s"
      }
    },
    {
      "cell_type": "markdown",
      "source": [
        "**Q9. What is type casting in Python?**\n",
        "\n",
        "**-- Ans.** Type casting is the process of converting a Python variable from one data type to another compatible type in order to perform a specific operation.\n",
        "Example : x = \"42\"\n",
        "num = int(x)\n",
        "This converts x, which was initally a string into a integar."
      ],
      "metadata": {
        "id": "GTTX1m8etUnF"
      }
    },
    {
      "cell_type": "markdown",
      "source": [
        "**Q10. What is the difference between implicit and explicit type casting?**\n",
        "\n",
        "**-- Ans.** Implicit typecasting is wherein Python automatically understands and converts the data type to get the desired result.\n",
        "\n",
        "**Example:**\n",
        "\n",
        "result = 5 + 3.0\n",
        "\n",
        "Will automatically give us 8.0. Here python converts 5 from an integer to float type.\n",
        "\n",
        "Explicit typecasting is wherein we manually convert one data type into another using functions like int(), float(), str(), etc.\n",
        "\n",
        "**Example:**\n",
        "\n",
        "x = \"58\"\n",
        "\n",
        "num = int(x)\n",
        "\n",
        "This explcitly converts the str() type into int() type."
      ],
      "metadata": {
        "id": "S3_4MJR4uhJk"
      }
    },
    {
      "cell_type": "markdown",
      "source": [
        "**Q11. What is the purpose of conditional statements in Python?**\n",
        "\n",
        "**-- Ans.** Conditional statements in Python are used for the purpose of controlling the flow of execution of a program based on certain conditions.\n",
        "\n",
        "**Example:**"
      ],
      "metadata": {
        "id": "mtaYfqSRxCbq"
      }
    },
    {
      "cell_type": "code",
      "source": [
        "age = int(input(\"Enter your Age to Check Your Elgibilty for the post of PM:\"))\n",
        "\n",
        "if age >= 25:\n",
        "\n",
        "    print(\"You are eligible to be the PM of India.\")\n",
        "else:\n",
        "\n",
        "    print(\"You are not eligible to be the PM of India.\")"
      ],
      "metadata": {
        "colab": {
          "base_uri": "https://localhost:8080/"
        },
        "id": "IemD3ImnyiM-",
        "outputId": "e994bf04-f06c-4a94-f3b3-9680aaf06aeb"
      },
      "execution_count": 36,
      "outputs": [
        {
          "output_type": "stream",
          "name": "stdout",
          "text": [
            "Enter your Age to Check Your Elgibilty for the post of PM:36\n",
            "You are eligible to be the PM of India.\n"
          ]
        }
      ]
    },
    {
      "cell_type": "markdown",
      "source": [
        "This program will allow us to evaluate who is eligible to run for the candidacy of PM within their Political Party."
      ],
      "metadata": {
        "id": "tH_pVcGMzgBB"
      }
    },
    {
      "cell_type": "markdown",
      "source": [
        "**Q12. How does the elif statement work?**\n",
        "\n",
        "**-- Ans.** `elif` statements are used to add multiple conditions in a sequence to our program. Python evaluates them top to bottom, and left to right within each condition.\n",
        "\n",
        "If the condition in the initial if statement is True, Python skips all `elif` and `else` blocks.\n",
        "\n",
        "If it’s False, Python evaluates each `elif` in order until one is True.\n",
        "\n",
        "Once a `True` condition is found, that block runs and the rest are skipped.\n",
        "\n",
        "If none of the conditions are `True`, the else block (if present) runs."
      ],
      "metadata": {
        "id": "l9kCLpTJzhGB"
      }
    },
    {
      "cell_type": "markdown",
      "source": [
        "**Q13. What is the difference between for and while loops?**\n",
        "\n",
        "**-- Ans.** Both `for` and `while` loops are used to execute a block of code multiple times. However, they differ in their use cases and behavior:\n",
        "\n",
        "`for` loop:\n",
        "\n",
        "Used when the number of iterations is known or finite.\n",
        "\n",
        "Commonly used to iterate over sequences like lists, strings, tuples, or ranges.\n",
        "\n",
        "It's syntax is given by:\n",
        "\n",
        "    for variable in sequence:\n",
        "\n",
        "\n",
        "\n",
        "for variable in sequence:\n",
        "\n",
        "\n",
        "Example:\n",
        "```python\n",
        "\n",
        "    for i in range(2):\n",
        "        print(i)\n",
        "    here output will be: 0 1\n",
        "```\n",
        "\n",
        "`while` loop:\n",
        "\n",
        "Used when the number of iterations is unknown and depends on a condition.\n",
        "\n",
        "Continues to run as long as the condition is True.\n",
        "\n",
        "It's syntax is given by:\n",
        "\n",
        "    while condition:\n",
        "    \n",
        "\n",
        "Example:\n",
        "\n",
        "```python\n",
        "    i = 0\n",
        "    while i <= 2:\n",
        "        print(i)\n",
        "        i += 1\n",
        "    Output: 0 1 2\n",
        "\n",
        "\n",
        "\n"
      ],
      "metadata": {
        "id": "vbRu2ADb1nCc"
      }
    },
    {
      "cell_type": "markdown",
      "source": [
        "**Q14. Describe a scenario where a while loop is more suitable than a for loop.**\n",
        "\n",
        "**-- Ans.**\n",
        "\n",
        "A `while` loop is more suitable in situations where **the number of iterations** is **not known in advance** and the loop must continue until a certain **condition becomes false.**\n",
        "\n",
        "\n",
        "\n",
        "**Scenario Example: User Login Attempt**\n",
        "\n",
        "Suppose we are writing a program that asks a user to enter the correct password. The user can try multiple times until they succeed.\n",
        "\n",
        "```python\n",
        "password = \"admin123\"\n",
        "attempt = \"\"\n",
        "\n",
        "while attempt != password:\n",
        "    attempt = input(\"Enter your password: \")\n",
        "\n",
        "print(\"Access granted.\")\n",
        "```\n",
        "\n",
        "\n",
        "\n",
        "**Why `while` is suitable:**\n",
        "\n",
        "* The number of attempts is **not fixed**—it depends on when the user enters the correct password.\n",
        "* A `for` loop is not appropriate here, as there is **no predefined sequence or range** to iterate over.\n"
      ],
      "metadata": {
        "id": "F8jj9rGO9Ska"
      }
    },
    {
      "cell_type": "markdown",
      "source": [
        "# Practical Questions"
      ],
      "metadata": {
        "id": "bMazuhfx_d2l"
      }
    },
    {
      "cell_type": "code",
      "source": [
        "# Q1. Write a Python program to print \"Hello, World!\n",
        "\n",
        "# Ans.\n",
        "\n",
        "print(\"Hello, World!\")\n"
      ],
      "metadata": {
        "colab": {
          "base_uri": "https://localhost:8080/"
        },
        "id": "mnVAC0FR_hUu",
        "outputId": "f88b83b0-af66-48d4-c731-7d944e31361c"
      },
      "execution_count": 37,
      "outputs": [
        {
          "output_type": "stream",
          "name": "stdout",
          "text": [
            "Hello, World!\n"
          ]
        }
      ]
    },
    {
      "cell_type": "code",
      "source": [
        "# Q2. Write a Python program that displays your name and age\n",
        "\n",
        "# Ans.\n",
        "\n",
        "x = str(input('Enter Your Name:'))\n",
        "y = int(input('Enter Your Age:'))\n",
        "\n",
        "\n",
        "print (f'Your name is:',x)\n",
        "print (f'Your age is:',y)"
      ],
      "metadata": {
        "colab": {
          "base_uri": "https://localhost:8080/"
        },
        "id": "4fhVIfoP_wwh",
        "outputId": "8cc7bb38-cb6b-4b84-ff94-8284cf1db5ca"
      },
      "execution_count": 38,
      "outputs": [
        {
          "output_type": "stream",
          "name": "stdout",
          "text": [
            "Enter Your Name:Ritam\n",
            "Enter Your Age:34\n",
            "Your name is: Ritam\n",
            "Your age is: 34\n"
          ]
        }
      ]
    },
    {
      "cell_type": "code",
      "source": [
        "# Q3. Write code to print all the pre-defined keywords in Python using the keyword library\n",
        "\n",
        "# Ans. The code is given below:\n",
        "\n",
        "help('keywords')\n"
      ],
      "metadata": {
        "colab": {
          "base_uri": "https://localhost:8080/"
        },
        "id": "fF4yMdJ-BCYI",
        "outputId": "f930c143-f8d2-4132-a179-8431c9907926"
      },
      "execution_count": 39,
      "outputs": [
        {
          "output_type": "stream",
          "name": "stdout",
          "text": [
            "\n",
            "Here is a list of the Python keywords.  Enter any keyword to get more help.\n",
            "\n",
            "False               class               from                or\n",
            "None                continue            global              pass\n",
            "True                def                 if                  raise\n",
            "and                 del                 import              return\n",
            "as                  elif                in                  try\n",
            "assert              else                is                  while\n",
            "async               except              lambda              with\n",
            "await               finally             nonlocal            yield\n",
            "break               for                 not                 \n",
            "\n"
          ]
        }
      ]
    },
    {
      "cell_type": "code",
      "source": [
        "# Q4. Write a program that checks if a given word is a Python keyword.\n",
        "\n",
        "# Ans.\n",
        "\n",
        "import keyword\n",
        "\n",
        "\n",
        "word = input(\"Enter a word to check if it's a Python keyword: \")\n",
        "\n",
        "\n",
        "if keyword.iskeyword(word):\n",
        "    print(f\"'{word}' is a Python keyword.\")\n",
        "else:\n",
        "    print(f\"'{word}' is NOT a Python keyword.\")\n"
      ],
      "metadata": {
        "colab": {
          "base_uri": "https://localhost:8080/"
        },
        "id": "e8snUIg9BupR",
        "outputId": "f6eb7756-0e7d-4d06-d84e-aac8394f7ab1"
      },
      "execution_count": 40,
      "outputs": [
        {
          "output_type": "stream",
          "name": "stdout",
          "text": [
            "Enter a word to check if it's a Python keyword: True\n",
            "'True' is a Python keyword.\n"
          ]
        }
      ]
    },
    {
      "cell_type": "code",
      "source": [
        "# Q5. Create a list and tuple in Python, and demonstrate how attempting to change an element works differently for each.\n",
        "\n",
        "# Ans.\n",
        "\n",
        "boku_no_list = [12, 34, 32]\n",
        "boku_no_tuple = (12, 34, 32)\n",
        "\n",
        "print(\"List:\", boku_no_list)\n",
        "print(\"Tuple:\", boku_no_tuple)\n",
        "\n",
        "boku_no_list[1] = 24\n",
        "print(\"Modified List:\", boku_no_list)\n",
        "\n",
        "boku_no_tuple[1] = 24\n",
        "print(\"Modified Tuple\", boku_no_list)"
      ],
      "metadata": {
        "colab": {
          "base_uri": "https://localhost:8080/",
          "height": 245
        },
        "id": "imv-HuWnCaaK",
        "outputId": "3ef5a5ee-4d81-4d43-9a5a-f75b1fb5e430"
      },
      "execution_count": 41,
      "outputs": [
        {
          "output_type": "stream",
          "name": "stdout",
          "text": [
            "List: [12, 34, 32]\n",
            "Tuple: (12, 34, 32)\n",
            "Modified List: [12, 24, 32]\n"
          ]
        },
        {
          "output_type": "error",
          "ename": "TypeError",
          "evalue": "'tuple' object does not support item assignment",
          "traceback": [
            "\u001b[0;31m---------------------------------------------------------------------------\u001b[0m",
            "\u001b[0;31mTypeError\u001b[0m                                 Traceback (most recent call last)",
            "\u001b[0;32m<ipython-input-41-a34423238f1f>\u001b[0m in \u001b[0;36m<cell line: 0>\u001b[0;34m()\u001b[0m\n\u001b[1;32m     12\u001b[0m \u001b[0mprint\u001b[0m\u001b[0;34m(\u001b[0m\u001b[0;34m\"Modified List:\"\u001b[0m\u001b[0;34m,\u001b[0m \u001b[0mboku_no_list\u001b[0m\u001b[0;34m)\u001b[0m\u001b[0;34m\u001b[0m\u001b[0;34m\u001b[0m\u001b[0m\n\u001b[1;32m     13\u001b[0m \u001b[0;34m\u001b[0m\u001b[0m\n\u001b[0;32m---> 14\u001b[0;31m \u001b[0mboku_no_tuple\u001b[0m\u001b[0;34m[\u001b[0m\u001b[0;36m1\u001b[0m\u001b[0;34m]\u001b[0m \u001b[0;34m=\u001b[0m \u001b[0;36m24\u001b[0m\u001b[0;34m\u001b[0m\u001b[0;34m\u001b[0m\u001b[0m\n\u001b[0m\u001b[1;32m     15\u001b[0m \u001b[0mprint\u001b[0m\u001b[0;34m(\u001b[0m\u001b[0;34m\"Modified Tuple\"\u001b[0m\u001b[0;34m,\u001b[0m \u001b[0mboku_no_list\u001b[0m\u001b[0;34m)\u001b[0m\u001b[0;34m\u001b[0m\u001b[0;34m\u001b[0m\u001b[0m\n",
            "\u001b[0;31mTypeError\u001b[0m: 'tuple' object does not support item assignment"
          ]
        }
      ]
    },
    {
      "cell_type": "code",
      "source": [
        "# Q6.  Write a function to demonstrate the behavior of mutable and immutable arguments.\n",
        "\n",
        "# Ans.\n",
        "\n",
        "def demonstrate_mutability_immutability(mutable_arg, immutable_arg):\n",
        "    print(\"Before modification:\")\n",
        "    print(f\"Mutable argument (list): {mutable_arg}\")\n",
        "    print(f\"Immutable argument (tuple): {immutable_arg}\")\n",
        "\n",
        "    # Modifying the mutable argument\n",
        "    mutable_arg.append(4)\n",
        "\n",
        "    # Attempting to modify the immutable argument\n",
        "    try:\n",
        "        immutable_arg[0] = 99  # This will raise an error\n",
        "    except TypeError as e:\n",
        "        print(f\"Error when trying to modify immutable argument: {e}\")\n",
        "\n",
        "    print(\"After modification:\")\n",
        "    print(f\"Mutable argument (list): {mutable_arg}\")\n",
        "    print(f\"Immutable argument (tuple): {immutable_arg}\")\n",
        "\n",
        "\n",
        "mutable_list = [1, 2, 3]\n",
        "immutable_tuple = (1, 2, 3)\n",
        "demonstrate_mutability_immutability(mutable_list, immutable_tuple)\n"
      ],
      "metadata": {
        "id": "d5zDBLsHDxJP"
      },
      "execution_count": null,
      "outputs": []
    },
    {
      "cell_type": "code",
      "source": [
        "# Q7. Write a program that performs basic arithmetic operations on two user-input numbers\n",
        "\n",
        "# Ans.\n",
        "\n",
        "def basic_arith_ops():\n",
        "\n",
        "    num1 = float(input(\"Enter the first number: \"))\n",
        "    num2 = float(input(\"Enter the second number: \"))\n",
        "\n",
        "\n",
        "    addition = num1 + num2\n",
        "    subtraction = num1 - num2\n",
        "    multiplication = num1 * num2\n",
        "    division = num1 / num2 if num2 != 0 else \"Undefined (division by zero)\"\n",
        "\n",
        "\n",
        "    print(f\"Addition: {addition}\")\n",
        "    print(f\"Subtraction: {subtraction}\")\n",
        "    print(f\"Multiplication: {multiplication}\")\n",
        "    print(f\"Division: {division}\")\n",
        "\n",
        "basic_arith_ops()\n"
      ],
      "metadata": {
        "id": "dcvzNnjoKeHj"
      },
      "execution_count": null,
      "outputs": []
    },
    {
      "cell_type": "code",
      "source": [
        "# Q8. Write a program to demonstrate the use of logical operators.\n",
        "\n",
        "# Ans.\n",
        "\n",
        "\n",
        "a = True\n",
        "b = False\n",
        "\n",
        "\n",
        "and_result = a and b\n",
        "print(f\"a and b: {and_result}\")\n",
        "\n",
        "or_result = a or b\n",
        "print(f\"a or b: {or_result}\")\n",
        "\n",
        "not_result = not a\n",
        "print(f\"not a: {not_result}\")\n",
        "\n",
        "combined_result = (a and b) or (not a)\n",
        "print(f\"(a and b) or (not a): {combined_result}\")\n",
        "\n"
      ],
      "metadata": {
        "id": "JYuVWyasLLzj"
      },
      "execution_count": null,
      "outputs": []
    },
    {
      "cell_type": "code",
      "source": [
        "# Q9. Write a Python program to convert user input from string to integer, float, and boolean types.\n",
        "\n",
        "# Ans:\n",
        "\n",
        "def convert_input(user_input):\n",
        "    int_value = int(user_input)\n",
        "    float_value = float(user_input)\n",
        "    bool_value = user_input.lower() in ['true', '1', 'yes']\n",
        "\n",
        "    return int_value, float_value, bool_value\n",
        "\n",
        "user_input = input(\"Enter a value: \")\n",
        "\n",
        "int_value, float_value, bool_value = convert_input(user_input)\n",
        "\n",
        "print(f\"Integer: {int_value}\")\n",
        "print(f\"Float: {float_value}\")\n",
        "print(f\"Boolean: {bool_value}\")\n"
      ],
      "metadata": {
        "id": "K9aWAFc8MUhF"
      },
      "execution_count": null,
      "outputs": []
    },
    {
      "cell_type": "code",
      "source": [
        "# Q10. Write code to demonstrate type casting with list elements\n",
        "\n",
        "# Ans.\n",
        "\n",
        "data = [\"1\", \"2.5\", \"hello\", \"3\"]\n",
        "\n",
        "\n",
        "ints = [int(x) for x in data if x.isdigit()]\n",
        "\n",
        "floats = [float(x) for x in data if x.replace(\".\", \"\", 1).isdigit()]\n",
        "\n",
        "print(ints)\n",
        "print(floats)\n"
      ],
      "metadata": {
        "id": "hq11HBnfNVDk"
      },
      "execution_count": null,
      "outputs": []
    },
    {
      "cell_type": "code",
      "source": [
        "# Q11. Write a program that checks if a number is positive, negative, or zero.\n",
        "\n",
        "# Ans.\n",
        "\n",
        "\n",
        "num = float(input(\"Enter a number: \"))\n",
        "\n",
        "if num > 0:\n",
        "    print(\"The number is positive.\")\n",
        "elif num < 0:\n",
        "    print(\"The number is negative.\")\n",
        "else:\n",
        "    print(\"The number is zero.\")\n"
      ],
      "metadata": {
        "id": "sRaL07rvOsMQ"
      },
      "execution_count": null,
      "outputs": []
    },
    {
      "cell_type": "code",
      "source": [
        "# Q12. Write a for loop to print numbers from 1 to 10.\n",
        "\n",
        "# Ans.\n",
        "\n",
        "for a in range(1, 11):\n",
        "  print(a)"
      ],
      "metadata": {
        "id": "PayGdiEMPQx-"
      },
      "execution_count": null,
      "outputs": []
    },
    {
      "cell_type": "code",
      "source": [
        "# Q13. Write a Python program to find the sum of all even numbers between 1 and 50\n",
        "\n",
        "# Ans.\n",
        "\n",
        "total = 0\n",
        "for i in range(2, 51, 2):\n",
        "    total += i\n",
        "print(\"Sum of evens :\", total)"
      ],
      "metadata": {
        "id": "asNAcwNfPyV1"
      },
      "execution_count": null,
      "outputs": []
    },
    {
      "cell_type": "code",
      "source": [
        "# Q14. Write a program to reverse a string using a while loop\n",
        "\n",
        "# Ans.\n",
        "\n",
        "s = input(\"Enter a string: \")\n",
        "\n",
        "reversed_str = \"\"\n",
        "index = len(s) - 1\n",
        "\n",
        "while index >= 0:\n",
        "    reversed_str += s[index]\n",
        "    index -= 1\n",
        "\n",
        "print(\"Original String:\", s)\n",
        "print(\"Reversed String:\", reversed_str)\n"
      ],
      "metadata": {
        "id": "EuG6Wla-QPBR"
      },
      "execution_count": null,
      "outputs": []
    },
    {
      "cell_type": "code",
      "source": [
        "# Q15. Write a Python program to calculate the factorial of a number provided by the user using a while loop.\n",
        "\n",
        "b = int(input(\"Enter a number: \"))\n",
        "factorial = 1\n",
        "current = 1\n",
        "\n",
        "while current <= b:\n",
        "    factorial *= current\n",
        "    current += 1\n",
        "\n",
        "print(f\"The factorial of {b} is {factorial}\")"
      ],
      "metadata": {
        "id": "jeM4ZQ3oQ-fu"
      },
      "execution_count": null,
      "outputs": []
    }
  ]
}