{
  "nbformat": 4,
  "nbformat_minor": 0,
  "metadata": {
    "colab": {
      "provenance": [],
      "authorship_tag": "ABX9TyMAjMFX7sOmi0QwntPwYCLz",
      "include_colab_link": true
    },
    "kernelspec": {
      "name": "python3",
      "display_name": "Python 3"
    },
    "language_info": {
      "name": "python"
    }
  },
  "cells": [
    {
      "cell_type": "markdown",
      "metadata": {
        "id": "view-in-github",
        "colab_type": "text"
      },
      "source": [
        "<a href=\"https://colab.research.google.com/github/rit2007/pwskills_RD05252/blob/main/Python_Data_Structures_Assignment.ipynb\" target=\"_parent\"><img src=\"https://colab.research.google.com/assets/colab-badge.svg\" alt=\"Open In Colab\"/></a>"
      ]
    },
    {
      "cell_type": "markdown",
      "source": [
        "1. **What are data structures, and why are they important?**\n",
        "\n",
        "\n",
        "  **Ans:**   Data structures are ways of organizing and storing data so it can be accessed and modified efficiently. They are important because the choice of data structure has a direct impact on the performance (time and space complexity) of algorithms, readability of code, and scalability of applications."
      ],
      "metadata": {
        "id": "RuIEuinFSqQa"
      }
    },
    {
      "cell_type": "markdown",
      "source": [
        "**2. Explain the difference between mutable and immutable data types with examples.**\n",
        "\n",
        "\n",
        "**Ans:** Mutable data types can be changed after creation.\n",
        "\n",
        "Examples: list, dict, set.\n",
        "\n",
        "**Mutable Coded Example:**"
      ],
      "metadata": {
        "id": "IX5Svlf_SzOx"
      }
    },
    {
      "cell_type": "code",
      "source": [
        "a = [1,2]\n",
        "a.append(3)\n",
        "print(a)  # a is now [1,2,3]"
      ],
      "metadata": {
        "colab": {
          "base_uri": "https://localhost:8080/"
        },
        "id": "cm9LwGDgTtb8",
        "outputId": "c31e13f8-b84a-4dc9-ef0f-827d7011659d"
      },
      "execution_count": 1,
      "outputs": [
        {
          "output_type": "stream",
          "name": "stdout",
          "text": [
            "[1, 2, 3]\n"
          ]
        }
      ]
    },
    {
      "cell_type": "markdown",
      "source": [
        "Immutable types cannot be changed once created. Any “change” creates a new object.\n",
        "\n",
        "**Immutable Type Coded Example**"
      ],
      "metadata": {
        "id": "unERPHCBT538"
      }
    },
    {
      "cell_type": "code",
      "source": [
        "tup = (1, 2, 3)\n",
        "tup[0] = 10"
      ],
      "metadata": {
        "colab": {
          "base_uri": "https://localhost:8080/",
          "height": 158
        },
        "id": "959tCU_mUqit",
        "outputId": "0dc9788a-a24b-4db8-9685-36a63568284a"
      },
      "execution_count": 2,
      "outputs": [
        {
          "output_type": "error",
          "ename": "TypeError",
          "evalue": "'tuple' object does not support item assignment",
          "traceback": [
            "\u001b[0;31m---------------------------------------------------------------------------\u001b[0m",
            "\u001b[0;31mTypeError\u001b[0m                                 Traceback (most recent call last)",
            "\u001b[0;32m/tmp/ipython-input-2-1722513740.py\u001b[0m in \u001b[0;36m<cell line: 0>\u001b[0;34m()\u001b[0m\n\u001b[1;32m      1\u001b[0m \u001b[0mtup\u001b[0m \u001b[0;34m=\u001b[0m \u001b[0;34m(\u001b[0m\u001b[0;36m1\u001b[0m\u001b[0;34m,\u001b[0m \u001b[0;36m2\u001b[0m\u001b[0;34m,\u001b[0m \u001b[0;36m3\u001b[0m\u001b[0;34m)\u001b[0m\u001b[0;34m\u001b[0m\u001b[0;34m\u001b[0m\u001b[0m\n\u001b[0;32m----> 2\u001b[0;31m \u001b[0mtup\u001b[0m\u001b[0;34m[\u001b[0m\u001b[0;36m0\u001b[0m\u001b[0;34m]\u001b[0m \u001b[0;34m=\u001b[0m \u001b[0;36m10\u001b[0m\u001b[0;34m\u001b[0m\u001b[0;34m\u001b[0m\u001b[0m\n\u001b[0m",
            "\u001b[0;31mTypeError\u001b[0m: 'tuple' object does not support item assignment"
          ]
        }
      ]
    },
    {
      "cell_type": "markdown",
      "source": [
        "**3. What are the main differences between lists and tuples in Python?**\n",
        "\n",
        "**Ans:**\n",
        "\n",
        "\n",
        "| Aspect\t  | List       | Tuple    |\n",
        "|-------------|----------|----------|\n",
        "| Mutability | Mutable  | Immtable |\n",
        "| Syntax    | [1,2,3]\t  | (1,2,3)  |\n",
        "| Methods   | .append() | Analyst  |\n",
        "| Use Case  | Storage of editable data| Storage of Sensitive non-editable data|\n"
      ],
      "metadata": {
        "id": "McCpFbxYUwYI"
      }
    },
    {
      "cell_type": "markdown",
      "source": [
        "**4. Describe how dictionaries store data.**\n",
        "\n",
        "**Ans:**\n",
        "Python dictionaries use a hash table internally. Each key is hashed to an index in an underlying array; values are stored in “buckets.” Collisions are resolved via open addressing (probing) or chaining."
      ],
      "metadata": {
        "id": "0t6AZzreXasD"
      }
    },
    {
      "cell_type": "markdown",
      "source": [
        "**5. Why might you use a set instead of a list in Python?**\n",
        "\n",
        "**Ans:**\n",
        "\n",
        "1. **Uniqueness**: it automatically drops duplicates.\n",
        "\n",
        "2. **Speed**: checking “x in my_set” is on average much faster than doing “x in my_list.”"
      ],
      "metadata": {
        "id": "CDtfV-ebX8dt"
      }
    },
    {
      "cell_type": "markdown",
      "source": [
        "**6. What is a string in Python, and how is it different from a list?**\n",
        "\n",
        "**Ans:**   A string is an immutable sequence of Unicode characters. Unlike a list, you cannot modify individual characters in place, and strings have methods specific to text processing."
      ],
      "metadata": {
        "id": "XMlSSKhsYkmW"
      }
    },
    {
      "cell_type": "markdown",
      "source": [
        "**7. How do tuples ensure data integrity in Python?**\n",
        "\n",
        "**Ans:** Because they are immutable, once created their contents cannot be changed. This prevents accidental modification and makes tuples safe to use as keys in dictionaries."
      ],
      "metadata": {
        "id": "TpnYLYvLYzap"
      }
    },
    {
      "cell_type": "markdown",
      "source": [
        "**8. What is a hash table, and how does it relate to dictionaries in Python?**\n",
        "\n",
        "\n",
        "**Ans:** A hash table is a data structure that maps keys to values using a hash function to compute an index into an array of buckets. Python’s dict is implemented as a hash table, giving average O(1) lookup, insertion, and deletion."
      ],
      "metadata": {
        "id": "C-a4mdB-ZA0T"
      }
    },
    {
      "cell_type": "markdown",
      "source": [
        "**9. Can lists contain different data types in Python?**\n",
        "\n",
        "\n",
        "**Ans:** Yes. A Python list is heterogeneous: e.g.,   `[1, \"two\", 3.0, [4]]`."
      ],
      "metadata": {
        "id": "ip1NORTzZlzS"
      }
    },
    {
      "cell_type": "markdown",
      "source": [
        "**10. Explain why strings are immutable in Python.**\n",
        "\n",
        "**Ans:**\n",
        "\n",
        "**1.** Immutable strings simplify memory management (interning, sharing).\n",
        "\n",
        "**2.** Thread-safe: no need for locks when sharing between threads.\n",
        "\n",
        "**3.** Hashable: can be used as keys in dictionaries and elements of sets."
      ],
      "metadata": {
        "id": "M2uUx3TqaAPA"
      }
    },
    {
      "cell_type": "markdown",
      "source": [
        "**11. What advantages do dictionaries offer over lists for certain tasks?**\n",
        "\n",
        "* **Key-based access:** O(1) lookup by key vs O(n) lookup by value/index in lists.\n",
        "\n",
        "* **Semantic clarity:** keys label data points."
      ],
      "metadata": {
        "id": "uquCRG4PacqI"
      }
    },
    {
      "cell_type": "markdown",
      "source": [
        "**12. Describe a scenario where using a tuple would be preferable over a list.**\n",
        "\n",
        "**Ans:**\n",
        "\n",
        "*  Fixed-size records, e.g., storing (latitude, longitude) pairs or RGB color triples.\n",
        "\n",
        "*  When you need to use the collection as a dict key."
      ],
      "metadata": {
        "id": "Jf4BtzPHa0ck"
      }
    },
    {
      "cell_type": "markdown",
      "source": [
        "**Q13. How do sets handle duplicate values in Python?**\n",
        "\n",
        "**Ans:** Sets automatically discard duplicates upon insertion, keeping only unique elements."
      ],
      "metadata": {
        "id": "I88TJUJgbEE-"
      }
    },
    {
      "cell_type": "markdown",
      "source": [
        "**Q14. How does the in keyword work differently for lists and dictionaries?**\n",
        "\n",
        "**Ans:**\n",
        "\n",
        "*  List: x in my_list scans elements one by one (O(n)).\n",
        "\n",
        "*  Dict: key in my_dict checks if key exists in the hash table (O(1) average)."
      ],
      "metadata": {
        "id": "gCBtjOY6bPnd"
      }
    },
    {
      "cell_type": "markdown",
      "source": [
        "**Q15. Can you modify the elements of a tuple? Explain why or why not.**\n",
        "\n",
        "**Ans:** No. Tuples are immutable, so you cannot add, remove, or change elements once the tuple is created.."
      ],
      "metadata": {
        "id": "Qi0vpqIJbjF8"
      }
    },
    {
      "cell_type": "markdown",
      "source": [
        "**Q16. What is a nested dictionary, and give an example of its use case.**\n",
        "\n",
        "**Ans:** A dictionary whose values are themselves dictionaries.\n",
        "\n",
        "\n",
        "```\n",
        "users = {\n",
        "    \"alice\": {\"age\":30, \"city\":\"Paris\"},\n",
        "    \"bob\":   {\"age\":22, \"city\":\"New York\"}\n",
        "}\n",
        "\n",
        "```\n",
        "**Use case:** They essential when we need to organize complex, hierarchical data in Python. They're particularly useful for working with JSON data, configuration settings, or any structured data that has multiple levels.\n"
      ],
      "metadata": {
        "id": "PyUOr8Ajb6sS"
      }
    },
    {
      "cell_type": "markdown",
      "source": [
        "**Q17. Describe the time complexity of accessing elements in a dictionary.**\n",
        "\n",
        "**Ans:** Looking something up in a Python dictionary usually takes the same tiny amount of time no matter how big it is, because the key is turned into a “slot number” and accessed directly. Only in very rare cases—when many keys accidentally land in the same slot—does it have to check a few more spots, which makes it slower."
      ],
      "metadata": {
        "id": "c2CKtGsgckvW"
      }
    },
    {
      "cell_type": "markdown",
      "source": [
        "**Q18. In what situations are lists preferred over dictionaries?**\n",
        "\n",
        "**Ans:**\n",
        "\n",
        "*  When order matters and we need to maintain sequence.\n",
        "\n",
        "*  When we want slicing, concatenation, or indexed access.\n",
        "\n",
        "*  When we don’t need key-based lookup."
      ],
      "metadata": {
        "id": "3CYINfjhdUbk"
      }
    },
    {
      "cell_type": "markdown",
      "source": [
        "**Q19. Why are dictionaries considered unordered, and how does that affect data retrieval?**\n",
        "\n",
        "**Ans:**\n",
        "Historically, dicts did not preserve insertion order (pre-Python 3.7). Conceptually, they’re optimized for key lookup, not ordering. In modern Python insertion order is preserved, but you still retrieve items by key, not by position."
      ],
      "metadata": {
        "id": "rrTBg2DHdnQc"
      }
    },
    {
      "cell_type": "markdown",
      "source": [
        "**Q20. Explain the difference between a list and a dictionary in terms of data retrieval.**\n",
        "\n",
        "**Ans:**\n",
        "\n",
        "*  **List**: retrieve by integer index (my_list[2]).\n",
        "\n",
        "*  **Dict**: retrieve by key (my_dict[\"name\"]).\n",
        "\n"
      ],
      "metadata": {
        "id": "YgyqB-rSd25k"
      }
    },
    {
      "cell_type": "code",
      "source": [
        "# 1. Create a string with your name and print it\n",
        "name = \"Ritam Dutta\"\n",
        "print(name)\n",
        "\n",
        "# 2. Find the length of the string \"Hello World\"\n",
        "print(len(\"Hello World\"))\n",
        "\n",
        "# 3. Slice the first 3 characters from \"Python Programming\"\n",
        "s = \"Python Programming\"\n",
        "print(s[:3])\n",
        "\n",
        "# 4. Convert the string \"hello\" to uppercase\n",
        "print(\"hello\".upper())\n",
        "\n",
        "# 5. Replace \"apple\" with \"orange\" in \"I like apple\"\n",
        "print(\"I like apple\".replace(\"apple\", \"orange\"))\n",
        "\n",
        "# 6. Create a list with numbers 1 to 5 and print it\n",
        "lst = [1, 2, 3, 4, 5]\n",
        "print(lst)\n",
        "\n",
        "# 7. Append the number 10 to the list [1, 2, 3, 4]\n",
        "lst2 = [1, 2, 3, 4]\n",
        "lst2.append(10)\n",
        "print(lst2)\n",
        "\n",
        "# 8. Remove the number 3 from the list [1, 2, 3, 4, 5]\n",
        "lst3 = [1, 2, 3, 4, 5]\n",
        "lst3.remove(3)\n",
        "print(lst3)\n",
        "\n",
        "# 9. Access the second element in ['a', 'b', 'c', 'd']\n",
        "lst4 = ['a', 'b', 'c', 'd']\n",
        "print(lst4[1])\n",
        "\n",
        "# 10. Reverse the list [10, 20, 30, 40, 50]\n",
        "lst5 = [10, 20, 30, 40, 50]\n",
        "print(lst5[::-1])\n",
        "\n",
        "# 11. Create a tuple (100, 200, 300) and print it\n",
        "tup1 = (100, 200, 300)\n",
        "print(tup1)\n",
        "\n",
        "# 12. Access the second-to-last element of ('red','green','blue','yellow')\n",
        "tup2 = ('red', 'green', 'blue', 'yellow')\n",
        "print(tup2[-2])\n",
        "\n",
        "# 13. Find the minimum number in (10, 20, 5, 15)\n",
        "tup3 = (10, 20, 5, 15)\n",
        "print(min(tup3))\n",
        "\n",
        "# 14. Find the index of \"cat\" in ('dog','cat','rabbit')\n",
        "tup4 = ('dog', 'cat', 'rabbit')\n",
        "print(tup4.index(\"cat\"))\n",
        "\n",
        "# 15. Create a tuple of three fruits and check if \"kiwi\" is in it\n",
        "fruits = (\"apple\", \"banana\", \"kiwi\")\n",
        "print(\"kiwi\" in fruits)\n",
        "\n",
        "# 16. Create a set with 'a', 'b', 'c' and print it\n",
        "set1 = {'a', 'b', 'c'}\n",
        "print(set1)\n",
        "\n",
        "# 17. Clear all elements from {1,2,3,4,5}\n",
        "set2 = {1, 2, 3, 4, 5}\n",
        "set2.clear()\n",
        "print(set2)\n",
        "\n",
        "# 18. Remove the element 4 from {1, 2, 3, 4}\n",
        "set3 = {1, 2, 3, 4}\n",
        "set3.remove(4)\n",
        "print(set3)\n",
        "\n",
        "# 19. Find the union of {1,2,3} and {3,4,5}\n",
        "set4 = {1, 2, 3}\n",
        "set5 = {3, 4, 5}\n",
        "print(set4.union(set5))\n",
        "\n",
        "# 20. Find the intersection of {1,2,3} and {2,3,4}\n",
        "print(set4.intersection(set5))\n",
        "\n",
        "# 21. Create a dictionary with keys \"name\",\"age\",\"city\" and print it\n",
        "person = {\"name\": \"Alice\", \"age\": 30, \"city\": \"Paris\"}\n",
        "print(person)\n",
        "\n",
        "# 22. Add \"country\": \"USA\" to {'name':'John','age':25}\n",
        "person2 = {'name': 'John', 'age': 25}\n",
        "person2[\"country\"] = \"USA\"\n",
        "print(person2)\n",
        "\n",
        "# 23. Access the value of \"name\" in {'name':'Alice','age':30}\n",
        "print({\"name\": \"Alice\", \"age\": 30}[\"name\"])\n",
        "\n",
        "# 24. Remove the key \"age\" from {'name':'Bob','age':22,'city':'New York'}\n",
        "person3 = {'name': 'Bob', 'age': 22, 'city': 'New York'}\n",
        "del person3[\"age\"]\n",
        "print(person3)\n",
        "\n",
        "# 25. Check if \"city\" exists in {'name':'Alice','city':'Paris'}\n",
        "print(\"city\" in {\"name\": \"Alice\", \"city\": \"Paris\"})\n",
        "\n",
        "# 26. Create a list, a tuple, and a dict, then print them all\n",
        "my_list  = [1, 2, 3]\n",
        "my_tuple = (4, 5, 6)\n",
        "my_dict  = {\"x\": 7, \"y\": 8}\n",
        "print(my_list, my_tuple, my_dict)\n",
        "\n",
        "# 27. Create a list of 5 random numbers 1–100, sort it, and print\n",
        "import random\n",
        "rand_list = [random.randint(1,100) for _ in range(5)]\n",
        "rand_list.sort()\n",
        "print(rand_list)\n",
        "\n",
        "# 28. Create a list of strings and print the element at index 3\n",
        "str_list = [\"one\", \"two\", \"three\", \"four\", \"five\"]\n",
        "print(str_list[3])\n",
        "\n",
        "# 29. Combine two dictionaries into one and print the result\n",
        "d1 = {\"a\": 1, \"b\": 2}\n",
        "d2 = {\"b\": 3, \"c\": 4}\n",
        "combined = {**d1, **d2}  # later keys overwrite earlier\n",
        "print(combined)\n",
        "\n",
        "# 30. Convert a list of strings into a set\n",
        "string_list = [\"apple\", \"banana\", \"apple\", \"cherry\"]\n",
        "print(set(string_list))\n"
      ],
      "metadata": {
        "colab": {
          "base_uri": "https://localhost:8080/"
        },
        "id": "skhbmTfEeFk7",
        "outputId": "abd71b66-2bb5-4f0f-c803-4883464239bb"
      },
      "execution_count": 3,
      "outputs": [
        {
          "output_type": "stream",
          "name": "stdout",
          "text": [
            "Ritam Dutta\n",
            "11\n",
            "Pyt\n",
            "HELLO\n",
            "I like orange\n",
            "[1, 2, 3, 4, 5]\n",
            "[1, 2, 3, 4, 10]\n",
            "[1, 2, 4, 5]\n",
            "b\n",
            "[50, 40, 30, 20, 10]\n",
            "(100, 200, 300)\n",
            "blue\n",
            "5\n",
            "1\n",
            "True\n",
            "{'c', 'a', 'b'}\n",
            "set()\n",
            "{1, 2, 3}\n",
            "{1, 2, 3, 4, 5}\n",
            "{3}\n",
            "{'name': 'Alice', 'age': 30, 'city': 'Paris'}\n",
            "{'name': 'John', 'age': 25, 'country': 'USA'}\n",
            "Alice\n",
            "{'name': 'Bob', 'city': 'New York'}\n",
            "True\n",
            "[1, 2, 3] (4, 5, 6) {'x': 7, 'y': 8}\n",
            "[16, 25, 28, 49, 80]\n",
            "four\n",
            "{'a': 1, 'b': 3, 'c': 4}\n",
            "{'banana', 'apple', 'cherry'}\n"
          ]
        }
      ]
    }
  ]
}