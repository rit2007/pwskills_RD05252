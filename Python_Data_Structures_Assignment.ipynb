{
  "nbformat": 4,
  "nbformat_minor": 0,
  "metadata": {
    "colab": {
      "provenance": [],
      "authorship_tag": "ABX9TyPaFDrSpyVji4TrvyDm6WHe",
      "include_colab_link": true
    },
    "kernelspec": {
      "name": "python3",
      "display_name": "Python 3"
    },
    "language_info": {
      "name": "python"
    }
  },
  "cells": [
    {
      "cell_type": "markdown",
      "metadata": {
        "id": "view-in-github",
        "colab_type": "text"
      },
      "source": [
        "<a href=\"https://colab.research.google.com/github/rit2007/pwskills_RD05252/blob/main/Python_Data_Structures_Assignment.ipynb\" target=\"_parent\"><img src=\"https://colab.research.google.com/assets/colab-badge.svg\" alt=\"Open In Colab\"/></a>"
      ]
    },
    {
      "cell_type": "markdown",
      "source": [
        "# **Theoretical Questions**"
      ],
      "metadata": {
        "id": "l9CSWntsLTgz"
      }
    },
    {
      "cell_type": "markdown",
      "source": [
        "```\n",
        "\n",
        "\n",
        "\n",
        "````"
      ],
      "metadata": {
        "id": "BuA6Ku__Lcq7"
      }
    },
    {
      "cell_type": "markdown",
      "source": [
        "**1. What are data structures, and why are they important?**\n",
        "\n",
        "\n",
        "  **Ans:**   Data structures are ways of organizing and storing data so it can be accessed and modified efficiently. They are important because the choice of data structure has a direct impact on the performance (time and space complexity) of algorithms, readability of code, and scalability of applications."
      ],
      "metadata": {
        "id": "RuIEuinFSqQa"
      }
    },
    {
      "cell_type": "markdown",
      "source": [
        "**2. Explain the difference between mutable and immutable data types with examples.**\n",
        "\n",
        "\n",
        "**Ans:** Mutable data types can be changed after creation.\n",
        "\n",
        "Examples: list, dict, set.\n",
        "\n",
        "**Mutable Coded Example:**"
      ],
      "metadata": {
        "id": "IX5Svlf_SzOx"
      }
    },
    {
      "cell_type": "code",
      "source": [
        "a = [1,2]\n",
        "a.append(3)\n",
        "print(a)  # a is now [1,2,3]"
      ],
      "metadata": {
        "colab": {
          "base_uri": "https://localhost:8080/"
        },
        "id": "cm9LwGDgTtb8",
        "outputId": "24112e0d-9e3d-4693-989e-b52ba28d81c4"
      },
      "execution_count": null,
      "outputs": [
        {
          "output_type": "stream",
          "name": "stdout",
          "text": [
            "[1, 2, 3]\n"
          ]
        }
      ]
    },
    {
      "cell_type": "markdown",
      "source": [
        "Immutable types cannot be changed once created. Any “change” creates a new object.\n",
        "\n",
        "**Immutable Type Coded Example**"
      ],
      "metadata": {
        "id": "unERPHCBT538"
      }
    },
    {
      "cell_type": "code",
      "source": [
        "tup = (1, 2, 3)\n",
        "tup[0] = 10"
      ],
      "metadata": {
        "colab": {
          "base_uri": "https://localhost:8080/",
          "height": 158
        },
        "id": "959tCU_mUqit",
        "outputId": "23df48d2-e0a6-417a-edd3-fd0ae3e9ff13"
      },
      "execution_count": null,
      "outputs": [
        {
          "output_type": "error",
          "ename": "TypeError",
          "evalue": "'tuple' object does not support item assignment",
          "traceback": [
            "\u001b[0;31m---------------------------------------------------------------------------\u001b[0m",
            "\u001b[0;31mTypeError\u001b[0m                                 Traceback (most recent call last)",
            "\u001b[0;32m/tmp/ipython-input-62-1722513740.py\u001b[0m in \u001b[0;36m<cell line: 0>\u001b[0;34m()\u001b[0m\n\u001b[1;32m      1\u001b[0m \u001b[0mtup\u001b[0m \u001b[0;34m=\u001b[0m \u001b[0;34m(\u001b[0m\u001b[0;36m1\u001b[0m\u001b[0;34m,\u001b[0m \u001b[0;36m2\u001b[0m\u001b[0;34m,\u001b[0m \u001b[0;36m3\u001b[0m\u001b[0;34m)\u001b[0m\u001b[0;34m\u001b[0m\u001b[0;34m\u001b[0m\u001b[0m\n\u001b[0;32m----> 2\u001b[0;31m \u001b[0mtup\u001b[0m\u001b[0;34m[\u001b[0m\u001b[0;36m0\u001b[0m\u001b[0;34m]\u001b[0m \u001b[0;34m=\u001b[0m \u001b[0;36m10\u001b[0m\u001b[0;34m\u001b[0m\u001b[0;34m\u001b[0m\u001b[0m\n\u001b[0m",
            "\u001b[0;31mTypeError\u001b[0m: 'tuple' object does not support item assignment"
          ]
        }
      ]
    },
    {
      "cell_type": "markdown",
      "source": [
        "**3. What are the main differences between lists and tuples in Python?**\n",
        "\n",
        "**Ans:**\n",
        "\n",
        "\n",
        "| Aspect\t  | List       | Tuple    |\n",
        "|-------------|----------|----------|\n",
        "| Mutability | Mutable  | Immtable |\n",
        "| Syntax    | [1,2,3]\t  | (1,2,3)  |\n",
        "| Methods   | .append() | Analyst  |\n",
        "| Use Case  | Storage of editable data| Storage of Sensitive non-editable data|\n"
      ],
      "metadata": {
        "id": "McCpFbxYUwYI"
      }
    },
    {
      "cell_type": "markdown",
      "source": [
        "**4. Describe how dictionaries store data.**\n",
        "\n",
        "**Ans:**\n",
        "Python dictionaries use a hash table internally. Each key is hashed to an index in an underlying array; values are stored in “buckets.” Collisions are resolved via open addressing (probing) or chaining."
      ],
      "metadata": {
        "id": "0t6AZzreXasD"
      }
    },
    {
      "cell_type": "markdown",
      "source": [
        "**5. Why might you use a set instead of a list in Python?**\n",
        "\n",
        "**Ans:**\n",
        "\n",
        "1. **Uniqueness**: it automatically drops duplicates.\n",
        "\n",
        "2. **Speed**: checking “x in my_set” is on average much faster than doing “x in my_list.”"
      ],
      "metadata": {
        "id": "CDtfV-ebX8dt"
      }
    },
    {
      "cell_type": "markdown",
      "source": [
        "**6. What is a string in Python, and how is it different from a list?**\n",
        "\n",
        "**Ans:**   A string is an immutable sequence of Unicode characters. Unlike a list, you cannot modify individual characters in place, and strings have methods specific to text processing."
      ],
      "metadata": {
        "id": "XMlSSKhsYkmW"
      }
    },
    {
      "cell_type": "markdown",
      "source": [
        "**7. How do tuples ensure data integrity in Python?**\n",
        "\n",
        "**Ans:** Because they are immutable, once created their contents cannot be changed. This prevents accidental modification and makes tuples safe to use as keys in dictionaries."
      ],
      "metadata": {
        "id": "TpnYLYvLYzap"
      }
    },
    {
      "cell_type": "markdown",
      "source": [
        "**8. What is a hash table, and how does it relate to dictionaries in Python?**\n",
        "\n",
        "\n",
        "**Ans:** A hash table is a data structure that maps keys to values using a hash function to compute an index into an array of buckets. Python’s dict is implemented as a hash table, giving average O(1) lookup, insertion, and deletion."
      ],
      "metadata": {
        "id": "C-a4mdB-ZA0T"
      }
    },
    {
      "cell_type": "markdown",
      "source": [
        "**9. Can lists contain different data types in Python?**\n",
        "\n",
        "\n",
        "**Ans:** Yes. A Python list is heterogeneous: e.g.,   `[1, \"two\", 3.0, [4]]`."
      ],
      "metadata": {
        "id": "ip1NORTzZlzS"
      }
    },
    {
      "cell_type": "markdown",
      "source": [
        "**10. Explain why strings are immutable in Python.**\n",
        "\n",
        "**Ans:**\n",
        "\n",
        "**1.** Immutable strings simplify memory management (interning, sharing).\n",
        "\n",
        "**2.** Thread-safe: no need for locks when sharing between threads.\n",
        "\n",
        "**3.** Hashable: can be used as keys in dictionaries and elements of sets."
      ],
      "metadata": {
        "id": "M2uUx3TqaAPA"
      }
    },
    {
      "cell_type": "markdown",
      "source": [
        "**11. What advantages do dictionaries offer over lists for certain tasks?**\n",
        "\n",
        "* **Key-based access:** O(1) lookup by key vs O(n) lookup by value/index in lists.\n",
        "\n",
        "* **Semantic clarity:** keys label data points."
      ],
      "metadata": {
        "id": "uquCRG4PacqI"
      }
    },
    {
      "cell_type": "markdown",
      "source": [
        "**12. Describe a scenario where using a tuple would be preferable over a list.**\n",
        "\n",
        "**Ans:**\n",
        "\n",
        "*  Fixed-size records, e.g., storing (latitude, longitude) pairs or RGB color triples.\n",
        "\n",
        "*  When you need to use the collection as a dict key."
      ],
      "metadata": {
        "id": "Jf4BtzPHa0ck"
      }
    },
    {
      "cell_type": "markdown",
      "source": [
        "**Q13. How do sets handle duplicate values in Python?**\n",
        "\n",
        "**Ans:** Sets automatically discard duplicates upon insertion, keeping only unique elements."
      ],
      "metadata": {
        "id": "I88TJUJgbEE-"
      }
    },
    {
      "cell_type": "markdown",
      "source": [
        "**Q14. How does the in keyword work differently for lists and dictionaries?**\n",
        "\n",
        "**Ans:**\n",
        "\n",
        "*  List: x in my_list scans elements one by one (O(n)).\n",
        "\n",
        "*  Dict: key in my_dict checks if key exists in the hash table (O(1) average)."
      ],
      "metadata": {
        "id": "gCBtjOY6bPnd"
      }
    },
    {
      "cell_type": "markdown",
      "source": [
        "**Q15. Can you modify the elements of a tuple? Explain why or why not.**\n",
        "\n",
        "**Ans:** No. Tuples are immutable, so you cannot add, remove, or change elements once the tuple is created.."
      ],
      "metadata": {
        "id": "Qi0vpqIJbjF8"
      }
    },
    {
      "cell_type": "markdown",
      "source": [
        "**Q16. What is a nested dictionary, and give an example of its use case.**\n",
        "\n",
        "**Ans:** A dictionary whose values are themselves dictionaries.\n",
        "\n",
        "\n",
        "```\n",
        "users = {\n",
        "    \"alice\": {\"age\":30, \"city\":\"Paris\"},\n",
        "    \"bob\":   {\"age\":22, \"city\":\"New York\"}\n",
        "}\n",
        "\n",
        "```\n",
        "**Use case:** They essential when we need to organize complex, hierarchical data in Python. They're particularly useful for working with JSON data, configuration settings, or any structured data that has multiple levels.\n"
      ],
      "metadata": {
        "id": "PyUOr8Ajb6sS"
      }
    },
    {
      "cell_type": "markdown",
      "source": [
        "**Q17. Describe the time complexity of accessing elements in a dictionary.**\n",
        "\n",
        "**Ans:** Looking something up in a Python dictionary usually takes the same tiny amount of time no matter how big it is, because the key is turned into a “slot number” and accessed directly. Only in very rare cases—when many keys accidentally land in the same slot—does it have to check a few more spots, which makes it slower."
      ],
      "metadata": {
        "id": "c2CKtGsgckvW"
      }
    },
    {
      "cell_type": "markdown",
      "source": [
        "**Q18. In what situations are lists preferred over dictionaries?**\n",
        "\n",
        "**Ans:**\n",
        "\n",
        "*  When order matters and we need to maintain sequence.\n",
        "\n",
        "*  When we want slicing, concatenation, or indexed access.\n",
        "\n",
        "*  When we don’t need key-based lookup."
      ],
      "metadata": {
        "id": "3CYINfjhdUbk"
      }
    },
    {
      "cell_type": "markdown",
      "source": [
        "**Q19. Why are dictionaries considered unordered, and how does that affect data retrieval?**\n",
        "\n",
        "**Ans:**\n",
        "Historically, dicts did not preserve insertion order (pre-Python 3.7). Conceptually, they’re optimized for key lookup, not ordering. In modern Python insertion order is preserved, but you still retrieve items by key, not by position."
      ],
      "metadata": {
        "id": "rrTBg2DHdnQc"
      }
    },
    {
      "cell_type": "markdown",
      "source": [
        "**Q20. Explain the difference between a list and a dictionary in terms of data retrieval.**\n",
        "\n",
        "**Ans:**\n",
        "\n",
        "*  **List**: retrieve by integer index (my_list[2]).\n",
        "\n",
        "*  **Dict**: retrieve by key (my_dict[\"name\"]).\n",
        "\n"
      ],
      "metadata": {
        "id": "YgyqB-rSd25k"
      }
    },
    {
      "cell_type": "markdown",
      "source": [
        "```\n",
        "\n",
        "\n",
        "\n",
        "\n",
        "\n",
        "```"
      ],
      "metadata": {
        "id": "5OS-RcD-Lphs"
      }
    },
    {
      "cell_type": "markdown",
      "source": [
        "# **Practical Questions**"
      ],
      "metadata": {
        "id": "ZHqstcJMLmO-"
      }
    },
    {
      "cell_type": "markdown",
      "source": [
        "```\n",
        "\n",
        "\n",
        "\n",
        "\n",
        "\n",
        "```"
      ],
      "metadata": {
        "id": "t2mWacA1Lzrv"
      }
    },
    {
      "cell_type": "code",
      "source": [
        "# Q1. Create a string with your name and print it\n",
        "\n",
        "name = \"Ritam Dutta\"\n",
        "print(name)"
      ],
      "metadata": {
        "colab": {
          "base_uri": "https://localhost:8080/"
        },
        "id": "o8ll586BL5Rq",
        "outputId": "ed1e9b9b-d38c-479f-9877-4b6598673bf5"
      },
      "execution_count": null,
      "outputs": [
        {
          "output_type": "stream",
          "name": "stdout",
          "text": [
            "Ritam Dutta\n"
          ]
        }
      ]
    },
    {
      "cell_type": "code",
      "source": [
        "# Q2. Find the length of the string \"Hello World\"\n",
        "print(len(\"Hello World\"))"
      ],
      "metadata": {
        "colab": {
          "base_uri": "https://localhost:8080/"
        },
        "id": "xvb2lCqTMCcd",
        "outputId": "2caf7954-fe09-42a5-849d-956cbe543f27"
      },
      "execution_count": null,
      "outputs": [
        {
          "output_type": "stream",
          "name": "stdout",
          "text": [
            "11\n"
          ]
        }
      ]
    },
    {
      "cell_type": "code",
      "source": [
        "# Q3. Slice the first 3 characters from \"Python Programming\"\n",
        "s = \"Python Programming\"\n",
        "print(s[:3])"
      ],
      "metadata": {
        "colab": {
          "base_uri": "https://localhost:8080/"
        },
        "id": "F9HHGPXIMFNy",
        "outputId": "b62d3230-9cdb-4133-8378-e223ab948c84"
      },
      "execution_count": null,
      "outputs": [
        {
          "output_type": "stream",
          "name": "stdout",
          "text": [
            "Pyt\n"
          ]
        }
      ]
    },
    {
      "cell_type": "code",
      "source": [
        "# Q4. Convert the string \"hello\" to uppercase\n",
        "print(\"hello\".upper())"
      ],
      "metadata": {
        "colab": {
          "base_uri": "https://localhost:8080/"
        },
        "id": "h-bpgie3MKJm",
        "outputId": "f49b9b64-82b3-4a71-8af8-3084ae364591"
      },
      "execution_count": null,
      "outputs": [
        {
          "output_type": "stream",
          "name": "stdout",
          "text": [
            "HELLO\n"
          ]
        }
      ]
    },
    {
      "cell_type": "code",
      "source": [
        "# Q5. Replace \"apple\" with \"orange\" in \"I like apple\"\n",
        "print(\"I like apple\".replace(\"apple\", \"orange\"))"
      ],
      "metadata": {
        "colab": {
          "base_uri": "https://localhost:8080/"
        },
        "id": "BUiowSDxMNXh",
        "outputId": "b28d2ca9-6516-4731-ab70-50b47d1c94df"
      },
      "execution_count": null,
      "outputs": [
        {
          "output_type": "stream",
          "name": "stdout",
          "text": [
            "I like orange\n"
          ]
        }
      ]
    },
    {
      "cell_type": "code",
      "source": [
        "# Q6. Create a list with numbers 1 to 5 and print it\n",
        "list = [1, 2, 3, 4, 5]\n",
        "print(list)"
      ],
      "metadata": {
        "colab": {
          "base_uri": "https://localhost:8080/"
        },
        "id": "MBboJI6rMQ20",
        "outputId": "fceed33e-5a55-43f5-82af-b0d162b4775f"
      },
      "execution_count": null,
      "outputs": [
        {
          "output_type": "stream",
          "name": "stdout",
          "text": [
            "[1, 2, 3, 4, 5]\n"
          ]
        }
      ]
    },
    {
      "cell_type": "code",
      "source": [
        "# Q7. Append the number 10 to the list [1, 2, 3, 4]\n",
        "list_a = [1, 2, 3, 4]\n",
        "list_a.append(10)\n",
        "print(list_a)"
      ],
      "metadata": {
        "colab": {
          "base_uri": "https://localhost:8080/"
        },
        "id": "_a6EtysnMTkl",
        "outputId": "5009ee81-f145-480e-d97f-6ba67c000b14"
      },
      "execution_count": null,
      "outputs": [
        {
          "output_type": "stream",
          "name": "stdout",
          "text": [
            "[1, 2, 3, 4, 10]\n"
          ]
        }
      ]
    },
    {
      "cell_type": "code",
      "source": [
        "# Q8. Remove the number 3 from the list [1, 2, 3, 4, 5]\n",
        "list_b = [1, 2, 3, 4, 5]\n",
        "list_b.remove(3)\n",
        "print(list_b)"
      ],
      "metadata": {
        "colab": {
          "base_uri": "https://localhost:8080/"
        },
        "id": "kKa3oRGEMWLB",
        "outputId": "92194267-a556-4a0c-e1cf-4d03b06eccba"
      },
      "execution_count": null,
      "outputs": [
        {
          "output_type": "stream",
          "name": "stdout",
          "text": [
            "[1, 2, 4, 5]\n"
          ]
        }
      ]
    },
    {
      "cell_type": "code",
      "source": [
        "# Q9. Access the second element in ['a', 'b', 'c', 'd']\n",
        "list_c = ['a', 'b', 'c', 'd']\n",
        "print(list_c[1])"
      ],
      "metadata": {
        "colab": {
          "base_uri": "https://localhost:8080/"
        },
        "id": "DAw9DqUyMZAY",
        "outputId": "bf241083-05fc-44c2-b20e-3141dda47189"
      },
      "execution_count": null,
      "outputs": [
        {
          "output_type": "stream",
          "name": "stdout",
          "text": [
            "b\n"
          ]
        }
      ]
    },
    {
      "cell_type": "code",
      "source": [
        "# Q10. Reverse the list [10, 20, 30, 40, 50]\n",
        "list_d = [10, 20, 30, 40, 50]\n",
        "print(list_d[::-1])"
      ],
      "metadata": {
        "colab": {
          "base_uri": "https://localhost:8080/"
        },
        "id": "_-JK6bwzMbvX",
        "outputId": "d0f13d8a-52a4-44c2-8d58-15b928695da6"
      },
      "execution_count": null,
      "outputs": [
        {
          "output_type": "stream",
          "name": "stdout",
          "text": [
            "[50, 40, 30, 20, 10]\n"
          ]
        }
      ]
    },
    {
      "cell_type": "code",
      "source": [
        "# Q11. Create a tuple (100, 200, 300) and print it\n",
        "tuple = (100, 200, 300)\n",
        "print(tuple)"
      ],
      "metadata": {
        "colab": {
          "base_uri": "https://localhost:8080/"
        },
        "id": "hIII9RnLMdA4",
        "outputId": "cd7a7046-d4f0-4672-c07f-9e46f0c45dfe"
      },
      "execution_count": null,
      "outputs": [
        {
          "output_type": "stream",
          "name": "stdout",
          "text": [
            "(100, 200, 300)\n"
          ]
        }
      ]
    },
    {
      "cell_type": "code",
      "source": [
        "# Q12. Access the second-to-last element of ('red','green','blue','yellow')\n",
        "tuple_b = ('red', 'green', 'blue', 'yellow')\n",
        "print(tuple_b[-2])"
      ],
      "metadata": {
        "colab": {
          "base_uri": "https://localhost:8080/"
        },
        "id": "W7X_DwIDMhw6",
        "outputId": "128371c2-0cbd-441f-e775-712be8cbd1d1"
      },
      "execution_count": null,
      "outputs": [
        {
          "output_type": "stream",
          "name": "stdout",
          "text": [
            "blue\n"
          ]
        }
      ]
    },
    {
      "cell_type": "code",
      "source": [
        "# Q13. Find the minimum number in (10, 20, 5, 15)\n",
        "tuple_c = (10, 20, 5, 15)\n",
        "print(min(tuple_c))"
      ],
      "metadata": {
        "colab": {
          "base_uri": "https://localhost:8080/"
        },
        "id": "QcUsCVbVMkcE",
        "outputId": "8e126ab4-bd5f-4506-a927-6a1f41b0e93a"
      },
      "execution_count": null,
      "outputs": [
        {
          "output_type": "stream",
          "name": "stdout",
          "text": [
            "5\n"
          ]
        }
      ]
    },
    {
      "cell_type": "code",
      "source": [
        "# Q14. Find the index of \"cat\" in ('dog','cat','rabbit')\n",
        "animal = ('dog', 'cat', 'rabbit')\n",
        "print(animal.index(\"cat\"))"
      ],
      "metadata": {
        "colab": {
          "base_uri": "https://localhost:8080/"
        },
        "id": "QE3-NFXPMndt",
        "outputId": "2b38da63-2d74-419e-e7ae-0a49cdfa7bde"
      },
      "execution_count": null,
      "outputs": [
        {
          "output_type": "stream",
          "name": "stdout",
          "text": [
            "1\n"
          ]
        }
      ]
    },
    {
      "cell_type": "code",
      "source": [
        "# Q15. Create a tuple of three fruits and check if \"kiwi\" is in it\n",
        "fruits = (\"apple\", \"banana\", \"kiwi\")\n",
        "print(\"kiwi\" in fruits)"
      ],
      "metadata": {
        "colab": {
          "base_uri": "https://localhost:8080/"
        },
        "id": "YjOLkFnOMpvE",
        "outputId": "e963a213-7c04-43ac-c3eb-10b9a004d8f1"
      },
      "execution_count": null,
      "outputs": [
        {
          "output_type": "stream",
          "name": "stdout",
          "text": [
            "True\n"
          ]
        }
      ]
    },
    {
      "cell_type": "code",
      "source": [
        "# Q16. Create a set with 'a', 'b', 'c' and print it\n",
        "set_a = {'a', 'b', 'c'}\n",
        "print(set_a)"
      ],
      "metadata": {
        "colab": {
          "base_uri": "https://localhost:8080/"
        },
        "id": "PYvgjqrRMrJ6",
        "outputId": "7a392067-82d0-4658-8b1a-7d75a44d3e52"
      },
      "execution_count": null,
      "outputs": [
        {
          "output_type": "stream",
          "name": "stdout",
          "text": [
            "{'a', 'c', 'b'}\n"
          ]
        }
      ]
    },
    {
      "cell_type": "code",
      "source": [
        "# Q17. Clear all elements from {1,2,3,4,5}\n",
        "set_b = {1, 2, 3, 4, 5}\n",
        "set_b.clear()\n",
        "print(set_b)"
      ],
      "metadata": {
        "colab": {
          "base_uri": "https://localhost:8080/"
        },
        "id": "rCHGOuXPMtia",
        "outputId": "207a8cf3-6e65-4389-c374-ebb7796895f4"
      },
      "execution_count": null,
      "outputs": [
        {
          "output_type": "stream",
          "name": "stdout",
          "text": [
            "set()\n"
          ]
        }
      ]
    },
    {
      "cell_type": "code",
      "source": [
        "# Q18. Remove the element 4 from {1, 2, 3, 4}\n",
        "set_c = {1, 2, 3, 4}\n",
        "set_c.remove(4)\n",
        "print(set_c)"
      ],
      "metadata": {
        "colab": {
          "base_uri": "https://localhost:8080/"
        },
        "id": "K57fIHIzMvT7",
        "outputId": "111b4617-0f3b-4d2a-b35f-ae986d5d8d50"
      },
      "execution_count": null,
      "outputs": [
        {
          "output_type": "stream",
          "name": "stdout",
          "text": [
            "{1, 2, 3}\n"
          ]
        }
      ]
    },
    {
      "cell_type": "code",
      "source": [
        "# Q19. Find the union of {1,2,3} and {3,4,5}\n",
        "set_d = {1, 2, 3}\n",
        "set_e = {3, 4, 5}\n",
        "print(set_d.union(set_e))"
      ],
      "metadata": {
        "colab": {
          "base_uri": "https://localhost:8080/"
        },
        "id": "xelu3Bq5Mwmf",
        "outputId": "6c1cf787-1897-4839-9db1-96f4ac7c298e"
      },
      "execution_count": null,
      "outputs": [
        {
          "output_type": "stream",
          "name": "stdout",
          "text": [
            "{1, 2, 3, 4, 5}\n"
          ]
        }
      ]
    },
    {
      "cell_type": "code",
      "source": [
        "# Q20. Find the intersection of {1,2,3} and {2,3,4}\n",
        "set_f = {1, 2, 3}\n",
        "set_g = {3, 4, 5}\n",
        "print(set_f.intersection(set_g))\n"
      ],
      "metadata": {
        "colab": {
          "base_uri": "https://localhost:8080/"
        },
        "id": "ij7XnrrjMy3o",
        "outputId": "a034c018-39f2-4cc5-affe-0640b3e679dd"
      },
      "execution_count": null,
      "outputs": [
        {
          "output_type": "stream",
          "name": "stdout",
          "text": [
            "{3}\n"
          ]
        }
      ]
    },
    {
      "cell_type": "code",
      "source": [
        "# Q21. Create a dictionary with keys \"name\",\"age\",\"city\" and print it\n",
        "person = {\"name\": \"Alice\", \"age\": 30, \"city\": \"Paris\"}\n",
        "print(person)"
      ],
      "metadata": {
        "colab": {
          "base_uri": "https://localhost:8080/"
        },
        "id": "GsuhqaFIM1Ud",
        "outputId": "5d6cd0b4-a901-4c21-fba8-648969e75bc7"
      },
      "execution_count": null,
      "outputs": [
        {
          "output_type": "stream",
          "name": "stdout",
          "text": [
            "{'name': 'Alice', 'age': 30, 'city': 'Paris'}\n"
          ]
        }
      ]
    },
    {
      "cell_type": "code",
      "source": [
        "# Q22. Add \"country\": \"USA\" to {'name':'John','age':25}\n",
        "person2 = {'name': 'John', 'age': 25}\n",
        "person2[\"country\"] = \"USA\"\n",
        "print(person2)\n"
      ],
      "metadata": {
        "colab": {
          "base_uri": "https://localhost:8080/"
        },
        "id": "mBOJpJ_dM4E0",
        "outputId": "25fd1ba2-079b-4219-e305-afad3f44db26"
      },
      "execution_count": null,
      "outputs": [
        {
          "output_type": "stream",
          "name": "stdout",
          "text": [
            "{'name': 'John', 'age': 25, 'country': 'USA'}\n"
          ]
        }
      ]
    },
    {
      "cell_type": "code",
      "source": [
        "# Q23. Access the value of \"name\" in {'name':'Alice','age':30}\n",
        "print({\"name\": \"Alice\", \"age\": 30}[\"name\"])"
      ],
      "metadata": {
        "colab": {
          "base_uri": "https://localhost:8080/"
        },
        "id": "QRYMR9TuM5Pl",
        "outputId": "d2a184dd-ee71-49df-8ab7-1dca8ef2d9a6"
      },
      "execution_count": null,
      "outputs": [
        {
          "output_type": "stream",
          "name": "stdout",
          "text": [
            "Alice\n"
          ]
        }
      ]
    },
    {
      "cell_type": "code",
      "source": [
        "# Q24. Remove the key \"age\" from {'name':'Bob','age':22,'city':'New York'}\n",
        "person3 = {'name': 'Bob', 'age': 22, 'city': 'New York'}\n",
        "del person3[\"age\"]\n",
        "print(person3)"
      ],
      "metadata": {
        "colab": {
          "base_uri": "https://localhost:8080/"
        },
        "id": "FHPQhqZLM7_N",
        "outputId": "e932d388-10ca-47ce-b3f5-fc03ca546e04"
      },
      "execution_count": null,
      "outputs": [
        {
          "output_type": "stream",
          "name": "stdout",
          "text": [
            "{'name': 'Bob', 'city': 'New York'}\n"
          ]
        }
      ]
    },
    {
      "cell_type": "code",
      "source": [
        "# Q25. Check if \"city\" exists in {'name':'Alice','city':'Paris'}\n",
        "print(\"city\" in {\"name\": \"Alice\", \"city\": \"Paris\"})"
      ],
      "metadata": {
        "colab": {
          "base_uri": "https://localhost:8080/"
        },
        "id": "0_wui72TM9s-",
        "outputId": "d9a65b0a-d6b0-40af-8e01-43c62e249cfe"
      },
      "execution_count": null,
      "outputs": [
        {
          "output_type": "stream",
          "name": "stdout",
          "text": [
            "True\n"
          ]
        }
      ]
    },
    {
      "cell_type": "code",
      "source": [
        "# Q26. Create a list, a tuple, and a dict, then print them all\n",
        "my_list  = [1, 2, 3]\n",
        "my_tuple = (4, 5, 6)\n",
        "my_dict  = {\"x\": 7, \"y\": 8}\n",
        "print(my_list, my_tuple, my_dict)"
      ],
      "metadata": {
        "colab": {
          "base_uri": "https://localhost:8080/"
        },
        "id": "Az5gIubFM_C3",
        "outputId": "271d1067-2fce-4ff4-c474-c3b959c97ee0"
      },
      "execution_count": null,
      "outputs": [
        {
          "output_type": "stream",
          "name": "stdout",
          "text": [
            "[1, 2, 3] (4, 5, 6) {'x': 7, 'y': 8}\n"
          ]
        }
      ]
    },
    {
      "cell_type": "code",
      "source": [
        "# Q27. Create a list of 5 random numbers 1–100, sort it, and print\n",
        "import random\n",
        "rand_list = [random.randint(1,100) for _ in range(5)]\n",
        "rand_list.sort()\n",
        "print(rand_list)"
      ],
      "metadata": {
        "colab": {
          "base_uri": "https://localhost:8080/"
        },
        "id": "Hqf_gd2FNBbT",
        "outputId": "01e1c380-8f6d-4b57-a5a4-d560c8752ff2"
      },
      "execution_count": null,
      "outputs": [
        {
          "output_type": "stream",
          "name": "stdout",
          "text": [
            "[5, 44, 54, 65, 77]\n"
          ]
        }
      ]
    },
    {
      "cell_type": "code",
      "source": [
        "# Q28. Create a list of strings and print the element at index 3\n",
        "str_list = [\"one\", \"two\", \"three\", \"four\", \"five\"]\n",
        "print(str_list[3])"
      ],
      "metadata": {
        "colab": {
          "base_uri": "https://localhost:8080/"
        },
        "id": "ngs1YpF8ND9m",
        "outputId": "b2e3adb1-99bb-4356-cc93-ad92dfdb5963"
      },
      "execution_count": null,
      "outputs": [
        {
          "output_type": "stream",
          "name": "stdout",
          "text": [
            "four\n"
          ]
        }
      ]
    },
    {
      "cell_type": "code",
      "source": [
        "# Q29. Combine two dictionaries into one and print the result\n",
        "dict_1 = {\"a\": 1, \"b\": 2}\n",
        "dict_2 = {\"b\": 3, \"c\": 4}\n",
        "combined = {**dict_1, **dict_2}  # later keys overwrite earlier\n",
        "print(combined)"
      ],
      "metadata": {
        "colab": {
          "base_uri": "https://localhost:8080/"
        },
        "id": "KrwP1aGANKRG",
        "outputId": "d2a60637-cbf6-4423-b05a-102070627c83"
      },
      "execution_count": null,
      "outputs": [
        {
          "output_type": "stream",
          "name": "stdout",
          "text": [
            "{'a': 1, 'b': 3, 'c': 4}\n"
          ]
        }
      ]
    },
    {
      "cell_type": "code",
      "source": [
        "# Q30. Convert a list of strings into a set\n",
        "string_list = [\"apple\", \"banana\", \"apple\", \"cherry\"]\n",
        "print(set(string_list))\n"
      ],
      "metadata": {
        "colab": {
          "base_uri": "https://localhost:8080/"
        },
        "id": "skhbmTfEeFk7",
        "outputId": "81bc45d9-3426-4403-806d-121ede19c699"
      },
      "execution_count": null,
      "outputs": [
        {
          "output_type": "stream",
          "name": "stdout",
          "text": [
            "{'apple', 'cherry', 'banana'}\n"
          ]
        }
      ]
    }
  ]
}