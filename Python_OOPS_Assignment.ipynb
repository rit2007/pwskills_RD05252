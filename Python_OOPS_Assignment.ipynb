{
  "nbformat": 4,
  "nbformat_minor": 0,
  "metadata": {
    "colab": {
      "provenance": []
    },
    "kernelspec": {
      "name": "python3",
      "display_name": "Python 3"
    },
    "language_info": {
      "name": "python"
    }
  },
  "cells": [
    {
      "cell_type": "markdown",
      "source": [
        "# Theoretical Questions"
      ],
      "metadata": {
        "id": "khB1Kkl87aNx"
      }
    },
    {
      "cell_type": "markdown",
      "source": [
        "**Q1. What is Object-Oriented Programming (OOP)?**\n",
        "\n",
        "**Ans:** Object-Oriented Programming is a programming paradigm that organizes software design around objects and data rather than functions and logic. It is based on the concept of \"objects\" which contain data (attributes) and code (methods). OOP provides a way to structure programs so that properties and behaviors are bundled into individual objects.\n",
        "\n",
        "**Key principles of OOP:**\n",
        "- **Encapsulation**: Bundling data and methods together\n",
        "- **Inheritance**: Creating new classes based on existing ones\n",
        "- **Polymorphism**: Using one interface for different underlying forms\n",
        "- **Abstraction**: Hiding complex implementation details"
      ],
      "metadata": {
        "id": "P5EuLy0xHjuF"
      }
    },
    {
      "cell_type": "markdown",
      "source": [
        "**Q2. What is a class in OOP?**\n",
        "\n",
        "**Ans:** A class is a blueprint or template for creating objects. It defines the attributes (data) and methods (functions) that objects of that class will have. Classes serve as a prototype from which objects are created.\n",
        "\n",
        "**Example:**\n",
        "```python\n",
        "class Car:\n",
        "    def __init__(self, brand, model):\n",
        "        self.brand = brand\n",
        "        self.model = model\n",
        "    \n",
        "    def start_engine(self):\n",
        "        print(\"Engine started\")\n",
        "```"
      ],
      "metadata": {
        "id": "Clix25WQHyGk"
      }
    },
    {
      "cell_type": "markdown",
      "source": [
        "**Q3. What is an object in OOP?**\n",
        "\n",
        "**Ans:** An object is an instance of a class. It is a concrete entity created from a class blueprint that has actual values for the attributes defined in the class. Objects represent real-world entities in the program.\n",
        "\n",
        "**Example:**\n",
        "```python\n",
        "# Creating objects from the Car class\n",
        "car1 = Car(\"Toyota\", \"Camry\")\n",
        "car2 = Car(\"Honda\", \"Civic\")\n",
        "```\n",
        "\n"
      ],
      "metadata": {
        "id": "XLMuLECyH605"
      }
    },
    {
      "cell_type": "markdown",
      "source": [
        "**Q4. What is the difference between abstraction and encapsulation?**\n",
        "\n",
        "**Ans:** **Abstraction:**\n",
        "- Hides the complex implementation details and shows only essential features\n",
        "- Focuses on what an object does rather than how it does it\n",
        "- Achieved through abstract classes and interfaces\n",
        "- Example: You use a car without knowing how the engine works internally\n",
        "\n",
        "**Encapsulation:**\n",
        "- Bundles data and methods that operate on that data within a single unit\n",
        "- Restricts direct access to some of an object's components\n",
        "- Achieved through access modifiers (private, protected, public)\n",
        "- Example: Bank account balance is private and can only be modified through specific methods"
      ],
      "metadata": {
        "id": "ubKT1SC3IBuI"
      }
    },
    {
      "cell_type": "markdown",
      "source": [
        "**Q5. What are dunder methods in Python?**\n",
        "\n",
        "**Ans:** Dunder methods (double underscore methods) are special methods in Python that have double underscores before and after their names. They are also called magic methods or special methods. They allow us to define how objects of the class behave with built-in functions and operators.\n",
        "\n",
        "**Common dunder methods:**\n",
        "- `__init__()`: Constructor method\n",
        "- `__str__()`: String representation for users\n",
        "- `__repr__()`: String representation for developers\n",
        "- `__len__()`: Length of object\n",
        "- `__add__()`: Addition operator overloading\n",
        "- `__del__()`: Destructor method\n",
        "\n"
      ],
      "metadata": {
        "id": "9QJl5M5fIMic"
      }
    },
    {
      "cell_type": "markdown",
      "source": [
        "**Q6. Explain the concept of inheritance in OOP**\n",
        "\n",
        "**Ans:** Inheritance is a mechanism that allows a class to inherit properties and methods from another class. The class that inherits is called the child class (subclass), and the class being inherited from is called the parent class (superclass).\n",
        "\n",
        "**Benefits:**\n",
        "- Code reusability\n",
        "- Establishing relationships between classes\n",
        "- Method overriding\n",
        "- Hierarchical classification\n",
        "\n",
        "**Types of inheritance:**\n",
        "- Single inheritance: One parent, one child\n",
        "- Multiple inheritance: One child, multiple parents\n",
        "- Multilevel inheritance: Chain of inheritance\n",
        "- Hierarchical inheritance: One parent, multiple children\n"
      ],
      "metadata": {
        "id": "MpmgUhCTMDKH"
      }
    },
    {
      "cell_type": "markdown",
      "source": [
        "**Q7. What is polymorphism in OOP?**\n",
        "\n",
        "**Ans:** Polymorphism means \"many forms.\" It allows objects of different classes to be treated as objects of a common base class while maintaining their specific behaviors. The same method name can behave differently depending on the object that calls it.\n",
        "\n",
        "**Types:**\n",
        "- **Runtime polymorphism**: Method overriding\n",
        "- **Compile-time polymorphism**: Method overloading (not directly supported in Python)\n",
        "\n",
        "**Example:**\n",
        "```python\n",
        "def make_sound(animal):\n",
        "    animal.speak()  # Different animals make different sounds\n",
        "```"
      ],
      "metadata": {
        "id": "IbvOOT5nMDpo"
      }
    },
    {
      "cell_type": "markdown",
      "source": [
        "**Q8. How is encapsulation achieved in Python?**\n",
        "\n",
        "**Ans:** Encapsulation in Python is achieved through:\n",
        "\n",
        "**Access modifiers:**\n",
        "- **Public**: Normal attributes/methods (default)\n",
        "- **Protected**: Single underscore prefix `_attribute` (convention)\n",
        "- **Private**: Double underscore prefix `__attribute` (name mangling)\n",
        "\n",
        "**Example:**\n",
        "```python\n",
        "class BankAccount:\n",
        "    def __init__(self):\n",
        "        self.public_var = \"Everyone can access\"\n",
        "        self._protected_var = \"Subclasses can access\"\n",
        "        self.__private_var = \"Only this class can access\"\n",
        "```"
      ],
      "metadata": {
        "id": "wt7c6zTQMRke"
      }
    },
    {
      "cell_type": "markdown",
      "source": [
        "**Q9. What is a constructor in Python?**\n",
        "\n",
        "**Ans:** A constructor is a special method that is automatically called when an object is created. In Python, the constructor method is __init__(). It initializes the object's attributes and sets up the initial state.\n",
        "\n",
        "**Features:**\n",
        "\n",
        "* Automatically called upon object creation\n",
        "* Can accept parameters to initialize attributes\n",
        "* Can perform setup operations\n",
        "* Every class has a default constructor if none is defined"
      ],
      "metadata": {
        "id": "TETIAyufMh6r"
      }
    },
    {
      "cell_type": "markdown",
      "source": [
        "**10. What are class and static methods in Python?**\n",
        "\n",
        "**Ans:**\n",
        "\n",
        "**Class Methods:**\n",
        "\n",
        "**Definition:** Class methods are methods that are bound to the class rather than instances of the class. They operate on the class itself and can access class-level data.\n",
        "\n",
        "* Defined with `@classmethod` decorator\n",
        "* First parameter is `cls` (refers to the class)\n",
        "* Can access class variables but not instance variables\n",
        "* Called on the class itself\n",
        "\n",
        "**Example:**\n",
        "\n",
        "```\n",
        "class Person:\n",
        "    species = \"Homo sapiens\"  # Class variable\n",
        "    \n",
        "    @classmethod\n",
        "    def get_species(cls):\n",
        "        return cls.species\n",
        "    \n",
        "    @classmethod\n",
        "    def from_string(cls, name_age_string):\n",
        "        name, age = name_age_string.split('-')\n",
        "        return cls(name, int(age))  # Alternative constructor\n",
        "```\n",
        "\n",
        "\n",
        "**Static Methods:**\n",
        "\n",
        "**Definition:** Static methods are methods that belong to a class but don't operate on class or instance data. They are utility functions that are logically related to the class but don't need access to class or instance state.\n",
        "\n",
        "* Defined with @staticmethod decorator\n",
        "* No special first parameter\n",
        "* Cannot access class or instance variables\n",
        "* Behave like regular functions but belong to the class namespace\n",
        "\n",
        "\n",
        "**Example:**\n",
        "```\n",
        "class MathUtils:\n",
        "    @staticmethod\n",
        "    def add_numbers(a, b):\n",
        "        return a + b\n",
        "    \n",
        "    @staticmethod\n",
        "    def is_even(number):\n",
        "        return number % 2 == 0\n",
        "```\n",
        "\n"
      ],
      "metadata": {
        "id": "tSJbFFJxRRFP"
      }
    },
    {
      "cell_type": "markdown",
      "source": [
        "**Q11. What is method overloading in Python?**\n",
        "\n",
        "**Ans:** *Method overloading* means having multiple methods with the same name but different parameters. Python doesn't support traditional method overloading like Java or C++. However, it can be achieved through:\n",
        "\n",
        "**Techniques:**\n",
        "\n",
        "* Default parameters\n",
        "* Variable-length arguments (* args, **kwargs)\n",
        "* Type checking within methods\n",
        "* Using functools.singledispatch"
      ],
      "metadata": {
        "id": "8tCHpos1RqrN"
      }
    },
    {
      "cell_type": "markdown",
      "source": [
        "**Q12. What is method overriding in OOP?**\n",
        "\n",
        "**Ans:** Method overriding occurs when a child class provides a specific implementation of a method that is already defined in its parent class. The child class method \"overrides\" the parent class method.\n",
        "\n",
        "**Characteristics:**\n",
        "\n",
        "* Same method name and signature\n",
        "* Different implementation\n",
        "* Runtime polymorphism\n",
        "* Use `super()` to call parent method"
      ],
      "metadata": {
        "id": "ropBI2_lR7fJ"
      }
    },
    {
      "cell_type": "markdown",
      "source": [
        "**Q13. What is a property decorator in Python?**\n",
        "\n",
        "**Ans:** The `@property` decorator allows you to define methods that can be accessed like attributes. It provides a way to customize access to instance attributes and implement getter, setter, and deleter methods.\n",
        "\n",
        "**Benefits:**\n",
        "\n",
        "* Controlled access to attributes\n",
        "* Validation of data\n",
        "* Computed properties\n",
        "* Backward compatibility"
      ],
      "metadata": {
        "id": "Vbs1QFepSFx7"
      }
    },
    {
      "cell_type": "markdown",
      "source": [
        "**Q14. Why is polymorphism important in OOP?**\n",
        "\n",
        "**Ans:** Polymorphism is important because it:\n",
        "\n",
        " **Provides flexibility:**\n",
        "\n",
        "* It allows developers to write code that works with multiple types\n",
        "* It reduces code duplication in programs\n",
        "* It enables code reusability across different classes\n",
        "\n",
        "**Enables extensibility:**\n",
        "\n",
        "* It allows developers to add new classes without modifying existing code\n",
        "* It enables implementation of common interfaces for consistency\n",
        "* It supports plugin architectures in applications\n",
        "\n",
        "**Improves maintainability:**\n",
        "\n",
        "* It ensures that changes to implementation don't affect client code\n",
        "* It creates loosely coupled systems that are easier to manage\n",
        "* It makes testing and debugging easier for development teams"
      ],
      "metadata": {
        "id": "aIglwX0VSTWF"
      }
    },
    {
      "cell_type": "markdown",
      "source": [
        "**Q15. What is an abstract class in Python?**\n",
        "\n",
        "\n",
        "**Ans:** An abstract class is a class that cannot be instantiated and is designed to be subclassed. It typically contains one or more abstract methods that must be implemented by its subclasses.\n",
        "\n",
        "**Features:**\n",
        "\n",
        "* Uses `abc` module (Abstract Base Classes)\n",
        "* Contains `@abstractmethod` decorator\n",
        "* Cannot be instantiated directly\n",
        "* Forces subclasses to implement abstract methods"
      ],
      "metadata": {
        "id": "uEJIVMxITH-o"
      }
    },
    {
      "cell_type": "code",
      "source": [
        "from abc import ABC, abstractmethod\n",
        "\n",
        "class Payment(ABC):\n",
        "    @abstractmethod\n",
        "    def process_payment(self, amount):\n",
        "        pass\n",
        "\n",
        "class CreditCard(Payment):\n",
        "    def process_payment(self, amount):\n",
        "        print(f\"Processing ${amount} via credit card\")\n",
        "\n",
        "# This works:\n",
        "card = CreditCard()\n",
        "card.process_payment(100)\n",
        "\n",
        "# This raises error:\n",
        "payment = Payment()  # Can't instantiate abstract class"
      ],
      "metadata": {
        "colab": {
          "base_uri": "https://localhost:8080/",
          "height": 201
        },
        "id": "jR85j-hsWEMD",
        "outputId": "96eeaac1-d00f-46f3-b40d-f01adad60207"
      },
      "execution_count": 4,
      "outputs": [
        {
          "output_type": "stream",
          "name": "stdout",
          "text": [
            "Processing $100 via credit card\n"
          ]
        },
        {
          "output_type": "error",
          "ename": "TypeError",
          "evalue": "Can't instantiate abstract class Payment with abstract method process_payment",
          "traceback": [
            "\u001b[0;31m---------------------------------------------------------------------------\u001b[0m",
            "\u001b[0;31mTypeError\u001b[0m                                 Traceback (most recent call last)",
            "\u001b[0;32m/tmp/ipython-input-4-1616290967.py\u001b[0m in \u001b[0;36m<cell line: 0>\u001b[0;34m()\u001b[0m\n\u001b[1;32m     15\u001b[0m \u001b[0;34m\u001b[0m\u001b[0m\n\u001b[1;32m     16\u001b[0m \u001b[0;31m# This raises error:\u001b[0m\u001b[0;34m\u001b[0m\u001b[0;34m\u001b[0m\u001b[0m\n\u001b[0;32m---> 17\u001b[0;31m \u001b[0mpayment\u001b[0m \u001b[0;34m=\u001b[0m \u001b[0mPayment\u001b[0m\u001b[0;34m(\u001b[0m\u001b[0;34m)\u001b[0m  \u001b[0;31m# Can't instantiate abstract class\u001b[0m\u001b[0;34m\u001b[0m\u001b[0;34m\u001b[0m\u001b[0m\n\u001b[0m",
            "\u001b[0;31mTypeError\u001b[0m: Can't instantiate abstract class Payment with abstract method process_payment"
          ]
        }
      ]
    },
    {
      "cell_type": "markdown",
      "source": [
        "**Q16. What are the advantages of OOP?**\n",
        "\n",
        "**Ans:**\n",
        "\n",
        "**Key advantages:**\n",
        "\n",
        "\n",
        "**1.** **Modularity:** Code is organized into separate, interchangeable components\n",
        "\n",
        "**2.** **Reusability:** Classes can be reused in different programs\n",
        "\n",
        "**3.** **Scalability:** Easy to add new features and functionality\n",
        "\n",
        "**3.** **Maintainability:** Changes to one part don't affect others\n",
        "\n",
        "**4.** **Security:** Data hiding through encapsulation\n",
        "\n",
        "**5.** **Problem-solving:** Natural way to model real-world problems\n",
        "\n",
        "**6.** **Collaboration:** Multiple developers can work on different classes"
      ],
      "metadata": {
        "id": "5ZRE5z44WLhp"
      }
    },
    {
      "cell_type": "markdown",
      "source": [
        "```\n",
        "\n",
        "\n",
        "\n",
        "\n",
        "```"
      ],
      "metadata": {
        "id": "W7B4Hjf8YsqG"
      }
    },
    {
      "cell_type": "markdown",
      "source": [
        "**Q17. What is the difference between a class variable and an instance variable?**\n",
        "\n",
        "**Ans:**\n",
        "\n",
        "**Class Variables:**\n",
        "\n",
        "* Shared among all instances of the class\n",
        "* Defined at class level\n",
        "* Same value for all objects\n",
        "* Modified through class name\n",
        "\n",
        "**Instance Variables:**\n",
        "\n",
        "* Unique to each instance\n",
        "* Defined in __init__() method\n",
        "* Different values for different objects\n",
        "* Modified through instance\n",
        "\n",
        "**Example for clarification:**"
      ],
      "metadata": {
        "id": "-PuFIdOXXCHk"
      }
    },
    {
      "cell_type": "code",
      "source": [
        "class Student:\n",
        "    school = \"Aoi Daigaku\"  # Class variable\n",
        "\n",
        "    def __init__(self, name, grade):\n",
        "        self.name = name        # Instance variable\n",
        "        self.grade = grade      # Instance variable\n",
        "\n",
        "# Creating instances\n",
        "student1 = Student(\"Morimoto\", \"A\")\n",
        "student2 = Student(\"Karen\", \"B\")\n",
        "\n",
        "print(student1.school)  # ABC High School (same for all)\n",
        "print(student2.school)  # ABC High School (same for all)\n",
        "print(student1.name)    # Alice (unique to student1)\n",
        "print(student2.name)    # Bob (unique to student2)"
      ],
      "metadata": {
        "colab": {
          "base_uri": "https://localhost:8080/"
        },
        "id": "eQkd2f1MX6BZ",
        "outputId": "2f6bf477-442f-4d51-f356-1d602514ba19"
      },
      "execution_count": 7,
      "outputs": [
        {
          "output_type": "stream",
          "name": "stdout",
          "text": [
            "Aoi Daigaku\n",
            "Aoi Daigaku\n",
            "Morimoto\n",
            "Karen\n"
          ]
        }
      ]
    },
    {
      "cell_type": "markdown",
      "source": [
        "**Q18. What is multiple inheritance in Python?**\n",
        "\n",
        "**Ans:** Multiple inheritance allows a class to inherit from more than one parent class. Python supports multiple inheritance, but it can lead to complexity.\n",
        "\n",
        "**Key concepts:**\n",
        "\n",
        "* **Method Resolution Order (MRO):** Order in which methods are resolved\n",
        "* **Diamond Problem:** Ambiguity when multiple parents have the same method\n",
        "* **super():** Used to call parent class methods properly"
      ],
      "metadata": {
        "id": "bbIJ0u1PYSNk"
      }
    },
    {
      "cell_type": "markdown",
      "source": [
        "**Q19. Explain the purpose of __str__ and __repr__ methods in Python**\n",
        "\n",
        "**Ans:**\n",
        "\n",
        "**`__str__()` method:**\n",
        "\n",
        "* Provides human-readable string representation\n",
        "* Called by str() function and print()\n",
        "* Intended for end users\n",
        "* Should be easy to read\n",
        "\n",
        "**`__repr__()` method:**\n",
        "\n",
        "* Provides developer-friendly string representation\n",
        "* Called by repr() function\n",
        "* Should be unambiguous and ideally eval-able\n",
        "* Used for debugging"
      ],
      "metadata": {
        "id": "9pfixFcNYjP4"
      }
    },
    {
      "cell_type": "markdown",
      "source": [
        "**Q20. What is the significance of the `super()` function in Python?**\n",
        "\n",
        "\n",
        "**Ans:** The `super()` function provides access to methods in a parent class from a child class. It's essential for:\n",
        "\n",
        "**Proper inheritance:**\n",
        "\n",
        "* Calling parent class methods\n",
        "* Cooperative inheritance\n",
        "* Following MRO (Method Resolution Order)\n",
        "\n",
        "**Benefits:**\n",
        "\n",
        "* Avoids hardcoding parent class names\n",
        "* Supports multiple inheritance properly\n",
        "* Maintains inheritance hierarchy"
      ],
      "metadata": {
        "id": "hRiz__LgYAlq"
      }
    },
    {
      "cell_type": "markdown",
      "source": [
        "**Q21. What is the significance of the `__del__` method in Python?**\n",
        "\n",
        "**Ans:**\n",
        "The `__del__` method is a destructor that is called when an object is about to be garbage collected. However, it's not recommended to rely on it for critical cleanup.\n",
        "\n",
        "**Characteristics:**\n",
        "\n",
        "* Called when object is about to be destroyed\n",
        "* Not guaranteed to be called\n",
        "* Can be called at any time\n",
        "* Better to use context managers for cleanup"
      ],
      "metadata": {
        "id": "uDyFzk3TZlPR"
      }
    },
    {
      "cell_type": "markdown",
      "source": [
        "**Q22. What is the difference between `@staticmethod` and `@classmethod` in Python?**\n",
        "\n",
        "**Ans:**\n",
        "\n",
        "\n",
        "| Feature | `@staticmethod` | `@classmethod` |\n",
        "|---------|---------------|--------------|\n",
        "| **First Parameter** | No special parameter | `cls` (refers to the class) |\n",
        "| **Access to `self`** | ❌ No access | ❌ No access |\n",
        "| **Access to `cls`** | ❌ No access | ✅ Has access |\n",
        "| **Can Access Class Variables** | ❌ Cannot access | ✅ Can access |\n",
        "| **Can Access Instance Variables** | ❌ Cannot access | ❌ Cannot access |\n",
        "| **Can Modify Class State** | ❌ Cannot modify | ✅ Can modify |\n",
        "| **Can Modify Instance State** | ❌ Cannot modify | ❌ Cannot modify |\n",
        "| **Behavior** | Like a regular function | Bound to the class |\n",
        "| **Common Use Cases** | Utility functions | Alternative constructors, class-level operations |\n",
        "| **Called From** | Class or instance | Class or instance |\n",
        "\n",
        "```\n",
        "\n",
        "\n",
        "\n",
        "```\n",
        "**Example:**\n"
      ],
      "metadata": {
        "id": "XjptKDRxaK0E"
      }
    },
    {
      "cell_type": "code",
      "source": [
        "class Calculator:\n",
        "    pi = 3.14159  # Class variable\n",
        "\n",
        "    @staticmethod\n",
        "    def add(a, b):\n",
        "        return a + b  # Cannot access class variables\n",
        "\n",
        "    @classmethod\n",
        "    def circle_area(cls, radius):\n",
        "        return cls.pi * radius ** 2  # Can access class variables\n",
        "\n",
        "    @classmethod\n",
        "    def from_string(cls, calculation):\n",
        "        # Alternative constructor example\n",
        "        return cls()\n",
        "\n",
        "# Usage\n",
        "print(Calculator.add(5, 3))           # 8\n",
        "print(Calculator.circle_area(5))      # 78.53975"
      ],
      "metadata": {
        "colab": {
          "base_uri": "https://localhost:8080/"
        },
        "id": "tDZdvgwvbZ7s",
        "outputId": "706fb62e-ac2a-4b24-d10b-c8781d3d10fe"
      },
      "execution_count": 8,
      "outputs": [
        {
          "output_type": "stream",
          "name": "stdout",
          "text": [
            "8\n",
            "78.53975\n"
          ]
        }
      ]
    },
    {
      "cell_type": "markdown",
      "source": [
        "**Q23. How does polymorphism work in Python with inheritance?**\n",
        "\n",
        "**Ans:** Polymorphism in Python with inheritance works through:\n",
        "\n",
        "**Method overriding:**\n",
        "\n",
        "* Child classes override parent methods\n",
        "* Same method name, different implementations\n",
        "* Called based on object type at runtime\n",
        "\n",
        "**Example:**"
      ],
      "metadata": {
        "id": "tXlA0xNeWvW6"
      }
    },
    {
      "cell_type": "code",
      "source": [
        "class Animal:\n",
        "    def sound(self):\n",
        "        return \"Some sound\"\n",
        "\n",
        "class Lion(Animal):\n",
        "    def sound(self):  # Override parent method\n",
        "        return \"Roar!\"\n",
        "\n",
        "class Cat(Animal):\n",
        "    def sound(self):  # Override parent method\n",
        "        return \"Meow!\"\n",
        "\n",
        "# Polymorphism in action\n",
        "animals = [Lion(), Cat()]\n",
        "for animal in animals:\n",
        "    print(animal.sound())  # Same method call, different results"
      ],
      "metadata": {
        "colab": {
          "base_uri": "https://localhost:8080/"
        },
        "id": "AuL-np05c9P3",
        "outputId": "a197a805-7a0f-4d30-ba24-61c97510fc91"
      },
      "execution_count": 11,
      "outputs": [
        {
          "output_type": "stream",
          "name": "stdout",
          "text": [
            "Roar!\n",
            "Meow!\n"
          ]
        }
      ]
    },
    {
      "cell_type": "markdown",
      "source": [
        "**Duck typing:**\n",
        "\n",
        "* \"If it walks like a duck and quacks like a duck, it's a duck\"\n",
        "* Objects are used based on their behavior, not their type\n",
        "\n",
        "**Example:**"
      ],
      "metadata": {
        "id": "I2fMjPEydR_D"
      }
    },
    {
      "cell_type": "code",
      "source": [
        "class Duck:\n",
        "    def quack(self):\n",
        "        return \"Quack!\"\n",
        "\n",
        "class Robot:\n",
        "    def quack(self):  # No inheritance, just same method name\n",
        "        return \"Beep quack!\"\n",
        "\n",
        "def make_it_quack(thing):\n",
        "    return thing.quack()  # Works with anything that has quack()\n",
        "\n",
        "# Both work without inheritance\n",
        "print(make_it_quack(Duck()))   # Quack!\n",
        "print(make_it_quack(Robot()))  # Beep quack!"
      ],
      "metadata": {
        "colab": {
          "base_uri": "https://localhost:8080/"
        },
        "id": "HT0pIa02dbyA",
        "outputId": "1ced5529-6b01-4088-a6cc-01fdbcbda49a"
      },
      "execution_count": 10,
      "outputs": [
        {
          "output_type": "stream",
          "name": "stdout",
          "text": [
            "Quack!\n",
            "Beep quack!\n"
          ]
        }
      ]
    },
    {
      "cell_type": "markdown",
      "source": [
        "**Q24. What is method chaining in Python OOP?**\n",
        "\n",
        "**Ans:** Method chaining is a technique where multiple methods are called in a single statement by returning self from each method. This creates a fluent interface.\n",
        "\n",
        "**Benefits:**\n",
        "\n",
        "* More readable code\n",
        "* Reduced variable assignments\n",
        "* Fluent interface design\n",
        "* Functional programming style"
      ],
      "metadata": {
        "id": "WOcqgkVMdhtY"
      }
    },
    {
      "cell_type": "markdown",
      "source": [
        "**Q25. What is the purpose of the `__call__` method in Python?**\n",
        "\n",
        "**Ans:** The `__call__` method allows an object to be called like a function. When an object is called with parentheses, Python invokes the `__call__` method.\n",
        "\n",
        "**Use cases:**\n",
        "\n",
        "* Creating callable objects\n",
        "* Implementing functors\n",
        "* Decorator classes\n",
        "* State machines\n",
        "* Event handlers"
      ],
      "metadata": {
        "id": "1Tsor5TQd2GO"
      }
    },
    {
      "cell_type": "markdown",
      "source": [
        "# Practical Questions"
      ],
      "metadata": {
        "id": "1Z_Hxu5P7kEG"
      }
    },
    {
      "cell_type": "code",
      "source": [
        "# 1.\n",
        "\n",
        "class Animal:\n",
        "    def speak(self):\n",
        "        print(\"Animal makes a sound\")\n",
        "\n",
        "class Dog(Animal):\n",
        "    def speak(self):\n",
        "        print(\"Bark!\")\n",
        "\n",
        "# Test\n",
        "animal = Animal()\n",
        "dog = Dog()\n",
        "animal.speak()  # Animal makes a sound\n",
        "dog.speak()     # Bark!"
      ],
      "metadata": {
        "colab": {
          "base_uri": "https://localhost:8080/"
        },
        "id": "Zi0oUfSeeiQw",
        "outputId": "023193e5-c399-45bd-89c5-0837347adbe5"
      },
      "execution_count": 12,
      "outputs": [
        {
          "output_type": "stream",
          "name": "stdout",
          "text": [
            "Animal makes a sound\n",
            "Bark!\n"
          ]
        }
      ]
    },
    {
      "cell_type": "code",
      "source": [
        "# 2.\n",
        "\n",
        "from abc import ABC, abstractmethod\n",
        "import math\n",
        "\n",
        "class Shape(ABC):\n",
        "    @abstractmethod\n",
        "    def area(self):\n",
        "        pass\n",
        "class Circle(Shape):\n",
        "    def __init__(self, radius):\n",
        "        self.radius = radius\n",
        "\n",
        "    def area(self):\n",
        "        return math.pi * self.radius ** 2\n",
        "\n",
        "class Rectangle(Shape):\n",
        "    def __init__(self, width, height):\n",
        "        self.width = width\n",
        "        self.height = height\n",
        "\n",
        "    def area(self):\n",
        "        return self.width * self.height\n",
        "\n",
        "# Test\n",
        "circle = Circle(5)\n",
        "rectangle = Rectangle(4, 6)\n",
        "print(f\"Circle area: {circle.area():.2f}\")\n",
        "print(f\"Rectangle area: {rectangle.area()}\")\n",
        "\n",
        "print(\"-\" * 50)"
      ],
      "metadata": {
        "colab": {
          "base_uri": "https://localhost:8080/"
        },
        "id": "-x6O9OPEej_-",
        "outputId": "24d8c099-a17c-4621-9545-3dfba63ad120"
      },
      "execution_count": 14,
      "outputs": [
        {
          "output_type": "stream",
          "name": "stdout",
          "text": [
            "Circle area: 78.54\n",
            "Rectangle area: 24\n",
            "--------------------------------------------------\n"
          ]
        }
      ]
    },
    {
      "cell_type": "code",
      "source": [
        "# 3.\n",
        "\n",
        "class Vehicle:\n",
        "    def __init__(self, vehicle_type):\n",
        "        self.type = vehicle_type\n",
        "\n",
        "    def display_info(self):\n",
        "        print(f\"Vehicle type: {self.type}\")\n",
        "\n",
        "class Car(Vehicle):\n",
        "    def __init__(self, vehicle_type, brand):\n",
        "        super().__init__(vehicle_type)\n",
        "        self.brand = brand\n",
        "\n",
        "    def display_info(self):\n",
        "        super().display_info()\n",
        "        print(f\"Brand: {self.brand}\")\n",
        "\n",
        "class ElectricCar(Car):\n",
        "    def __init__(self, vehicle_type, brand, battery):\n",
        "        super().__init__(vehicle_type, brand)\n",
        "        self.battery = battery\n",
        "\n",
        "    def display_info(self):\n",
        "        super().display_info()\n",
        "        print(f\"Battery: {self.battery}\")\n",
        "\n",
        "# Test\n",
        "electric_car = ElectricCar(\"Electric\", \"Harrier.ev\", \"100kWh\")\n",
        "electric_car.display_info()\n",
        "\n",
        "print(\"-\" * 50)"
      ],
      "metadata": {
        "colab": {
          "base_uri": "https://localhost:8080/"
        },
        "id": "Xlf1-XdffBxf",
        "outputId": "1a986e9a-18c6-4d0e-950a-195069c15e6b"
      },
      "execution_count": 22,
      "outputs": [
        {
          "output_type": "stream",
          "name": "stdout",
          "text": [
            "Vehicle type: Electric\n",
            "Brand: Harrier.ev\n",
            "Battery: 100kWh\n",
            "--------------------------------------------------\n"
          ]
        }
      ]
    },
    {
      "cell_type": "code",
      "source": [
        "# 4.\n",
        "\n",
        "class Bird:\n",
        "    def fly(self):\n",
        "        print(\"Bird flies\")\n",
        "\n",
        "class Sparrow(Bird):\n",
        "    def fly(self):\n",
        "        print(\"Sparrow flies high in the sky\")\n",
        "\n",
        "class Penguin(Bird):\n",
        "    def fly(self):\n",
        "        print(\"Penguin cannot fly, but it swims!\")\n",
        "# Test\n",
        "birds = [Sparrow(), Penguin()]\n",
        "for bird in birds:\n",
        "    bird.fly()\n",
        "\n",
        "print(\"-\" * 50)\n"
      ],
      "metadata": {
        "colab": {
          "base_uri": "https://localhost:8080/"
        },
        "id": "6YlTjOyofWx_",
        "outputId": "dba50f31-87e5-4075-8a0c-97610c1999c4"
      },
      "execution_count": 21,
      "outputs": [
        {
          "output_type": "stream",
          "name": "stdout",
          "text": [
            "Sparrow flies high in the sky\n",
            "Penguin cannot fly, but it swims!\n",
            "--------------------------------------------------\n"
          ]
        }
      ]
    },
    {
      "cell_type": "code",
      "source": [
        "# 5.\n",
        "\n",
        "class BankAccount:\n",
        "    def __init__(self, initial_balance=0):\n",
        "        self.__balance = initial_balance  # Private attribute\n",
        "\n",
        "    def deposit(self, amount):\n",
        "        if amount > 0:\n",
        "            self.__balance += amount\n",
        "            print(f\"Deposited ${amount}. New balance: ${self.__balance}\")\n",
        "        else:\n",
        "            print(\"Deposit amount must be positive\")\n",
        "\n",
        "    def withdraw(self, amount):\n",
        "        if amount > 0 and amount <= self.__balance:\n",
        "            self.__balance -= amount\n",
        "            print(f\"Withdrew ${amount}. New balance: ${self.__balance}\")\n",
        "        else:\n",
        "            print(\"Invalid withdrawal amount\")\n",
        "\n",
        "    def check_balance(self):\n",
        "        return self.__balance\n",
        "\n",
        "# Test\n",
        "account = BankAccount(13600)\n",
        "account.deposit(6200)\n",
        "account.withdraw(340)\n",
        "print(f\"Current balance: ${account.check_balance()}\")\n",
        "\n",
        "print(\"-\" * 50)\n"
      ],
      "metadata": {
        "colab": {
          "base_uri": "https://localhost:8080/"
        },
        "id": "tfzQhSq6fexH",
        "outputId": "39687d7a-52ae-4e88-9d12-cee6580aff39"
      },
      "execution_count": 24,
      "outputs": [
        {
          "output_type": "stream",
          "name": "stdout",
          "text": [
            "Deposited $6200. New balance: $19800\n",
            "Withdrew $340. New balance: $19460\n",
            "Current balance: $19460\n",
            "--------------------------------------------------\n"
          ]
        }
      ]
    },
    {
      "cell_type": "code",
      "source": [
        "# 6.\n",
        "\n",
        "class Instrument:\n",
        "    def play(self):\n",
        "        print(\"Playing an instrument\")\n",
        "\n",
        "class Guitar(Instrument):\n",
        "    def play(self):\n",
        "        print(\"Playing guitar: Strum strum!\")\n",
        "\n",
        "class Piano(Instrument):\n",
        "    def play(self):\n",
        "        print(\"Playing piano: Ding ding!\")\n",
        "\n",
        "# Test\n",
        "instruments = [Guitar(), Piano()]\n",
        "for instrument in instruments:\n",
        "    instrument.play()\n",
        "\n",
        "print(\"-\" * 50)"
      ],
      "metadata": {
        "colab": {
          "base_uri": "https://localhost:8080/"
        },
        "id": "-JYNKPjef94r",
        "outputId": "f5e90277-cbae-4207-e9db-3b667807b63e"
      },
      "execution_count": 25,
      "outputs": [
        {
          "output_type": "stream",
          "name": "stdout",
          "text": [
            "Playing guitar: Strum strum!\n",
            "Playing piano: Ding ding!\n",
            "--------------------------------------------------\n"
          ]
        }
      ]
    },
    {
      "cell_type": "code",
      "source": [
        "# 7.\n",
        "\n",
        "class MathOperations:\n",
        "    @classmethod\n",
        "    def add_numbers(cls, a, b):\n",
        "        return a + b\n",
        "\n",
        "    @staticmethod\n",
        "    def subtract_numbers(a, b):\n",
        "        return a - b\n",
        "\n",
        "# Test\n",
        "print(f\"Addition: {MathOperations.add_numbers(14, 6)}\")\n",
        "print(f\"Subtraction: {MathOperations.subtract_numbers(14, 6)}\")\n",
        "\n",
        "print(\"-\" * 50)\n"
      ],
      "metadata": {
        "colab": {
          "base_uri": "https://localhost:8080/"
        },
        "id": "rW-wmVjhgW_1",
        "outputId": "ac873148-669a-4455-acdc-042137a7abf4"
      },
      "execution_count": 45,
      "outputs": [
        {
          "output_type": "stream",
          "name": "stdout",
          "text": [
            "Addition: 20\n",
            "Subtraction: 8\n",
            "--------------------------------------------------\n"
          ]
        }
      ]
    },
    {
      "cell_type": "code",
      "source": [
        "# 8.\n",
        "\n",
        "class Person:\n",
        "    count = 0\n",
        "\n",
        "    def __init__(self, name):\n",
        "        self.name = name\n",
        "        Person.count += 1\n",
        "\n",
        "    @classmethod\n",
        "    def get_count(cls):\n",
        "        return cls.count\n",
        "\n",
        "# Test\n",
        "p1 = Person(\"Zabuza\")\n",
        "p2 = Person(\"Kakashi\")\n",
        "p3 = Person(\"Hakata\")\n",
        "print(f\"Total persons created: {Person.get_count()}\")\n",
        "\n",
        "print(\"-\" * 50)"
      ],
      "metadata": {
        "colab": {
          "base_uri": "https://localhost:8080/"
        },
        "id": "1hdBvDjSgeIX",
        "outputId": "49fc2888-0541-43a2-a98b-f56a75e9e3ce"
      },
      "execution_count": 46,
      "outputs": [
        {
          "output_type": "stream",
          "name": "stdout",
          "text": [
            "Total persons created: 3\n",
            "--------------------------------------------------\n"
          ]
        }
      ]
    },
    {
      "cell_type": "code",
      "source": [
        "# 9.\n",
        "\n",
        "class Fraction:\n",
        "    def __init__(self, numerator, denominator):\n",
        "        self.numerator = numerator\n",
        "        self.denominator = denominator\n",
        "\n",
        "    def __str__(self):\n",
        "        return f\"{self.numerator}/{self.denominator}\"\n",
        "\n",
        "# Test\n",
        "fraction = Fraction(7, 8)\n",
        "print(f\"Fraction: {fraction}\")\n",
        "\n",
        "print(\"-\" * 50)\n"
      ],
      "metadata": {
        "colab": {
          "base_uri": "https://localhost:8080/"
        },
        "id": "k6gmZiMWgmeu",
        "outputId": "a13bb3e8-019b-4d1d-c5b0-d46e29365f89"
      },
      "execution_count": 47,
      "outputs": [
        {
          "output_type": "stream",
          "name": "stdout",
          "text": [
            "Fraction: 7/8\n",
            "--------------------------------------------------\n"
          ]
        }
      ]
    },
    {
      "cell_type": "code",
      "source": [
        "# 10.\n",
        "\n",
        "class Vector:\n",
        "    def __init__(self, x, y):\n",
        "        self.x = x\n",
        "        self.y = y\n",
        "\n",
        "    def __add__(self, other):\n",
        "        return Vector(self.x + other.x, self.y + other.y)\n",
        "\n",
        "    def __str__(self):\n",
        "        return f\"Vector({self.x}, {self.y})\"\n",
        "\n",
        "# Test\n",
        "v1 = Vector(2, 3)\n",
        "v2 = Vector(1, 4)\n",
        "v3 = v1 + v2\n",
        "print(f\"Vector 1: {v1}\")\n",
        "print(f\"Vector 2: {v2}\")\n",
        "print(f\"Sum: {v3}\")\n",
        "\n",
        "print(\"-\" * 50)\n"
      ],
      "metadata": {
        "colab": {
          "base_uri": "https://localhost:8080/"
        },
        "id": "sJtaZhZ3gzgV",
        "outputId": "41e7f074-927e-4d5f-8340-f14bb4536793"
      },
      "execution_count": 30,
      "outputs": [
        {
          "output_type": "stream",
          "name": "stdout",
          "text": [
            "Vector 1: Vector(2, 3)\n",
            "Vector 2: Vector(1, 4)\n",
            "Sum: Vector(3, 7)\n",
            "--------------------------------------------------\n"
          ]
        }
      ]
    },
    {
      "cell_type": "code",
      "source": [
        "# 11.\n",
        "\n",
        "class PersonGreet:\n",
        "    def __init__(self, name, age):\n",
        "        self.name = name\n",
        "        self.age = age\n",
        "\n",
        "    def greet(self):\n",
        "        print(f\"Hello, my name is {self.name} and I am {self.age} years old.\")\n",
        "\n",
        "# Test\n",
        "person = PersonGreet(\"Ritam\", 25)\n",
        "person.greet()\n",
        "\n",
        "print(\"-\" * 50)"
      ],
      "metadata": {
        "colab": {
          "base_uri": "https://localhost:8080/"
        },
        "id": "nQWFJkjag5aw",
        "outputId": "8c6d3b48-cfae-4713-d88b-3965b56a06e3"
      },
      "execution_count": 32,
      "outputs": [
        {
          "output_type": "stream",
          "name": "stdout",
          "text": [
            "Hello, my name is Ritam and I am 25 years old.\n",
            "--------------------------------------------------\n"
          ]
        }
      ]
    },
    {
      "cell_type": "code",
      "source": [
        "# 12.\n",
        "\n",
        "class Student:\n",
        "    def __init__(self, name, grades):\n",
        "        self.name = name\n",
        "        self.grades = grades\n",
        "\n",
        "    def average_grade(self):\n",
        "        if self.grades:\n",
        "            return sum(self.grades) / len(self.grades)\n",
        "        return 0\n",
        "\n",
        "# Test\n",
        "student = Student(\"Muramata\", [85, 90, 78, 92, 88])\n",
        "print(f\"Student: {student.name}\")\n",
        "print(f\"Average grade: {student.average_grade():.2f}\")\n",
        "\n",
        "print(\"-\" * 50)"
      ],
      "metadata": {
        "colab": {
          "base_uri": "https://localhost:8080/"
        },
        "id": "HFBAAzBFhF8y",
        "outputId": "820a8899-db0a-46fc-bce4-6c5126d3e67e"
      },
      "execution_count": 33,
      "outputs": [
        {
          "output_type": "stream",
          "name": "stdout",
          "text": [
            "Student: Muramata\n",
            "Average grade: 86.60\n",
            "--------------------------------------------------\n"
          ]
        }
      ]
    },
    {
      "cell_type": "code",
      "source": [
        "# 13.\n",
        "\n",
        "class Rectangle_1:\n",
        "    def __init__(self):\n",
        "        self.width = 0\n",
        "        self.height = 0\n",
        "\n",
        "    def set_dimensions(self, width, height):\n",
        "        self.width = width\n",
        "        self.height = height\n",
        "\n",
        "    def area(self):\n",
        "        return self.width * self.height\n",
        "\n",
        "# Test\n",
        "rect = Rectangle_1()\n",
        "rect.set_dimensions(5, 8)\n",
        "print(f\"Rectangle area: {rect.area()}\")\n",
        "\n",
        "print(\"-\" * 50)\n"
      ],
      "metadata": {
        "colab": {
          "base_uri": "https://localhost:8080/"
        },
        "id": "BmBrOMHlhPsd",
        "outputId": "1e6dd837-7e64-46a7-9a82-ddefb75e6d21"
      },
      "execution_count": 48,
      "outputs": [
        {
          "output_type": "stream",
          "name": "stdout",
          "text": [
            "Rectangle area: 40\n",
            "--------------------------------------------------\n"
          ]
        }
      ]
    },
    {
      "cell_type": "code",
      "source": [
        "# 14.\n",
        "\n",
        "class Employee:\n",
        "    def __init__(self, name, hours_worked, hourly_rate):\n",
        "        self.name = name\n",
        "        self.hours_worked = hours_worked\n",
        "        self.hourly_rate = hourly_rate\n",
        "\n",
        "    def calculate_salary(self):\n",
        "        return self.hours_worked * self.hourly_rate\n",
        "\n",
        "class Manager(Employee):\n",
        "    def __init__(self, name, hours_worked, hourly_rate, bonus):\n",
        "        super().__init__(name, hours_worked, hourly_rate)\n",
        "        self.bonus = bonus\n",
        "\n",
        "    def calculate_salary(self):\n",
        "        base_salary = super().calculate_salary()\n",
        "        return base_salary + self.bonus\n",
        "\n",
        "# Test\n",
        "employee = Employee(\"Rashimon\", 40, 20)\n",
        "manager = Manager(\"Nobutsugu\", 40, 25, 500)\n",
        "print(f\"Employee salary: ${employee.calculate_salary()}\")\n",
        "print(f\"Manager salary: ${manager.calculate_salary()}\")\n",
        "\n",
        "print(\"-\" * 50)"
      ],
      "metadata": {
        "colab": {
          "base_uri": "https://localhost:8080/"
        },
        "id": "V7FkgQ1OhX75",
        "outputId": "0dbb37db-6a20-4fe1-9501-ad9d4a503fcb"
      },
      "execution_count": 49,
      "outputs": [
        {
          "output_type": "stream",
          "name": "stdout",
          "text": [
            "Employee salary: $800\n",
            "Manager salary: $1500\n",
            "--------------------------------------------------\n"
          ]
        }
      ]
    },
    {
      "cell_type": "code",
      "source": [
        "# 15.\n",
        "\n",
        "class Product:\n",
        "    def __init__(self, name, price, quantity):\n",
        "        self.name = name\n",
        "        self.price = price\n",
        "        self.quantity = quantity\n",
        "\n",
        "    def total_price(self):\n",
        "        return self.price * self.quantity\n",
        "\n",
        "# Test\n",
        "product = Product(\"Google Pixel 9 Pro\", 799.99, 2)\n",
        "print(f\"Product: {product.name}\")\n",
        "print(f\"Total price: ${product.total_price():.2f}\")\n",
        "\n",
        "print(\"-\" * 50)"
      ],
      "metadata": {
        "colab": {
          "base_uri": "https://localhost:8080/"
        },
        "id": "UlnDUeiRhmnf",
        "outputId": "36e067e8-2c92-4230-e164-2a84d4f4e6f4"
      },
      "execution_count": 50,
      "outputs": [
        {
          "output_type": "stream",
          "name": "stdout",
          "text": [
            "Product: Google Pixel 9 Pro\n",
            "Total price: $1599.98\n",
            "--------------------------------------------------\n"
          ]
        }
      ]
    },
    {
      "cell_type": "code",
      "source": [
        "# 16.\n",
        "\n",
        "class AnimalAbstract(ABC):\n",
        "    @abstractmethod\n",
        "    def sound(self):\n",
        "        pass\n",
        "\n",
        "class Cow(AnimalAbstract):\n",
        "    def sound(self):\n",
        "        return \"Moo!\"\n",
        "\n",
        "class Sheep(AnimalAbstract):\n",
        "    def sound(self):\n",
        "        return \"Baa!\"\n",
        "\n",
        "# Test\n",
        "cow = Cow()\n",
        "sheep = Sheep()\n",
        "print(f\"Cow sound: {cow.sound()}\")\n",
        "print(f\"Sheep sound: {sheep.sound()}\")\n",
        "\n",
        "print(\"-\" * 50)\n"
      ],
      "metadata": {
        "colab": {
          "base_uri": "https://localhost:8080/"
        },
        "id": "-nnoMmT2hzLN",
        "outputId": "6768fcc3-69df-4795-8a15-1e09b5566e4d"
      },
      "execution_count": 39,
      "outputs": [
        {
          "output_type": "stream",
          "name": "stdout",
          "text": [
            "Cow sound: Moo!\n",
            "Sheep sound: Baa!\n",
            "--------------------------------------------------\n"
          ]
        }
      ]
    },
    {
      "cell_type": "code",
      "source": [
        "# 17.\n",
        "\n",
        "class Book:\n",
        "    def __init__(self, title, author, year_published):\n",
        "        self.title = title\n",
        "        self.author = author\n",
        "        self.year_published = year_published\n",
        "\n",
        "    def get_book_info(self):\n",
        "        return f\"'{self.title}' by {self.author}, published in {self.year_published}\"\n",
        "\n",
        "# Test\n",
        "book = Book(\"Kafka on the Shore\", \"Haruki Murakami\", 2002)\n",
        "print(book.get_book_info())\n",
        "\n",
        "print(\"-\" * 50)"
      ],
      "metadata": {
        "colab": {
          "base_uri": "https://localhost:8080/"
        },
        "id": "CLmkZ_D7h6q8",
        "outputId": "9a9b536b-710c-427a-979b-7d48a5f22a3f"
      },
      "execution_count": 51,
      "outputs": [
        {
          "output_type": "stream",
          "name": "stdout",
          "text": [
            "'Kafka on the Shore' by Haruki Murakami, published in 2002\n",
            "--------------------------------------------------\n"
          ]
        }
      ]
    },
    {
      "cell_type": "code",
      "source": [
        "# 18.\n",
        "\n",
        "class House:\n",
        "    def __init__(self, address, price):\n",
        "        self.address = address\n",
        "        self.price = price\n",
        "\n",
        "    def display_info(self):\n",
        "        print(f\"Address: {self.address}\")\n",
        "        print(f\"Price: ${self.price:,}\")\n",
        "\n",
        "class Mansion(House):\n",
        "    def __init__(self, address, price, number_of_rooms):\n",
        "        super().__init__(address, price)\n",
        "        self.number_of_rooms = number_of_rooms\n",
        "\n",
        "    def display_info(self):\n",
        "        super().display_info()\n",
        "        print(f\"Number of rooms: {self.number_of_rooms}\")\n",
        "\n",
        "# Test\n",
        "mansion = Mansion(\"1 Kyomachi\", 9500000, 15)\n",
        "mansion.display_info()\n",
        "\n",
        "print(\"-\" * 50)"
      ],
      "metadata": {
        "colab": {
          "base_uri": "https://localhost:8080/"
        },
        "id": "OZzTWFdQiAkt",
        "outputId": "336c2cbf-2e92-4c94-877c-dbd019439361"
      },
      "execution_count": 42,
      "outputs": [
        {
          "output_type": "stream",
          "name": "stdout",
          "text": [
            "Address: 1 Kyomachi\n",
            "Price: $9,500,000\n",
            "Number of rooms: 15\n",
            "--------------------------------------------------\n"
          ]
        }
      ]
    }
  ]
}