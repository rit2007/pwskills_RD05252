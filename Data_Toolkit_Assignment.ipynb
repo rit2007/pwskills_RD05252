{
  "nbformat": 4,
  "nbformat_minor": 0,
  "metadata": {
    "colab": {
      "provenance": [],
      "authorship_tag": "ABX9TyPCPqxjEiTM/bwZcaWiRum4"
    },
    "kernelspec": {
      "name": "python3",
      "display_name": "Python 3"
    },
    "language_info": {
      "name": "python"
    }
  },
  "cells": [
    {
      "cell_type": "markdown",
      "source": [
        "# Theoretical Questions"
      ],
      "metadata": {
        "id": "khB1Kkl87aNx"
      }
    },
    {
      "cell_type": "markdown",
      "source": [
        "**Q1. What is NumPy, and why is it widely used in Python?**\n",
        "\n",
        "**NumPy** (Numerical Python) is a fundamental library for scientific computing in Python. It provides support for large, multi-dimensional arrays and matrices, along with mathematical functions to operate on them.\n",
        "\n",
        "**Why it's widely used:**\n",
        "- **Speed**: NumPy operations are implemented in C, making them much faster than pure Python\n",
        "- **Memory Efficiency**: Arrays use less memory than Python lists\n",
        "- **Broadcasting**: Allows operations between arrays of different shapes\n",
        "- **Foundation**: Many other libraries (Pandas, Matplotlib, Scikit-learn) are built on NumPy\n",
        "\n",
        "**Example:**\n",
        "```python\n",
        "import numpy as np\n",
        "# Creating arrays is faster and more memory-efficient\n",
        "np_array = np.array([1, 2, 3, 4, 5])  # NumPy array\n",
        "python_list = [1, 2, 3, 4, 5]        # Python list\n",
        "```\n",
        "\n"
      ],
      "metadata": {
        "id": "kZwW-lKP8w9Y"
      }
    },
    {
      "cell_type": "markdown",
      "source": [
        "## 2. How does broadcasting work in NumPy?\n",
        "\n",
        "**Broadcasting** is NumPy's ability to perform operations on arrays with different shapes without explicitly reshaping them. It follows specific rules to \"broadcast\" smaller arrays across larger ones.\n",
        "\n",
        "**Broadcasting Rules:**\n",
        "1. Arrays are aligned from the rightmost dimension\n",
        "2. Dimensions of size 1 can be \"stretched\" to match larger dimensions\n",
        "3. Missing dimensions are assumed to be size 1\n",
        "\n",
        "**Example:**\n",
        "```python\n",
        "import numpy as np\n",
        "a = np.array([[1, 2, 3],     # Shape: (2, 3)\n",
        "              [4, 5, 6]])\n",
        "b = np.array([10, 20, 30])   # Shape: (3,) -> broadcasts to (2, 3)\n",
        "\n",
        "result = a + b  # Each row of 'a' is added to 'b'\n",
        "# Result: [[11, 22, 33],\n",
        "#          [14, 25, 36]]\n",
        "```\n",
        "\n",
        "## 3. What is a Pandas DataFrame?\n",
        "\n",
        "A **DataFrame** is a 2-dimensional labeled data structure in Pandas, similar to a table in Excel or SQL. It's the most commonly used Pandas object for data manipulation and analysis.\n",
        "\n",
        "**Key Features:**\n",
        "- **Rows and Columns**: Like a spreadsheet with labeled rows and columns\n",
        "- **Different Data Types**: Each column can contain different data types\n",
        "- **Indexing**: Rows and columns have labels for easy access\n",
        "- **Missing Data Handling**: Built-in support for NaN values\n",
        "\n",
        "**Example:**\n",
        "```python\n",
        "import pandas as pd\n",
        "df = pd.DataFrame({\n",
        "    'Name': ['Alice', 'Bob', 'Charlie'],\n",
        "    'Age': [25, 30, 35],\n",
        "    'City': ['New York', 'London', 'Tokyo']\n",
        "})\n",
        "```\n",
        "\n",
        "## 4. Explain the use of the groupby() method in Pandas.\n",
        "\n",
        "**groupby()** is used to split data into groups based on some criteria, then apply a function to each group independently. It follows the \"split-apply-combine\" paradigm.\n",
        "\n",
        "**Common Use Cases:**\n",
        "- Calculate statistics for different categories\n",
        "- Aggregate data by groups\n",
        "- Transform data within groups\n",
        "\n",
        "**Example:**\n",
        "```python\n",
        "import pandas as pd\n",
        "sales_data = pd.DataFrame({\n",
        "    'Product': ['A', 'B', 'A', 'B', 'A'],\n",
        "    'Region': ['North', 'South', 'North', 'South', 'North'],\n",
        "    'Sales': [100, 150, 200, 120, 80]\n",
        "})\n",
        "\n",
        "# Group by Product and calculate mean sales\n",
        "grouped = sales_data.groupby('Product')['Sales'].mean()\n",
        "# Result: Product A: 126.67, Product B: 135.0\n",
        "```\n",
        "\n",
        "## 5. Why is Seaborn preferred for statistical visualizations?\n",
        "\n",
        "**Seaborn** is built on top of Matplotlib but provides higher-level, more attractive statistical visualizations with less code.\n",
        "\n",
        "**Advantages:**\n",
        "- **Built-in Statistical Functions**: Automatically calculates and displays statistical relationships\n",
        "- **Beautiful Default Styles**: Professional-looking plots out of the box\n",
        "- **Easy Complex Plots**: Creates complex statistical plots with simple commands\n",
        "- **Pandas Integration**: Works seamlessly with DataFrames\n",
        "\n",
        "**Example:**\n",
        "```python\n",
        "import seaborn as sns\n",
        "import matplotlib.pyplot as plt\n",
        "\n",
        "# Create a correlation heatmap with just one line\n",
        "sns.heatmap(df.corr(), annot=True)\n",
        "# Much simpler than doing this in pure Matplotlib!\n",
        "```\n",
        "\n",
        "## 6. What are the differences between NumPy arrays and Python lists?\n",
        "\n",
        "| Feature | NumPy Arrays | Python Lists |\n",
        "|---------|--------------|--------------|\n",
        "| **Speed** | Fast (C implementation) | Slower (Python implementation) |\n",
        "| **Memory** | Memory efficient | More memory overhead |\n",
        "| **Data Types** | Homogeneous (same type) | Heterogeneous (mixed types) |\n",
        "| **Operations** | Vectorized operations | Element-by-element loops |\n",
        "| **Size** | Fixed size | Dynamic size |\n",
        "\n",
        "**Example:**\n",
        "```python\n",
        "import numpy as np\n",
        "\n",
        "# Python list - can contain different types\n",
        "python_list = [1, 'hello', 3.14, True]\n",
        "\n",
        "# NumPy array - all elements same type\n",
        "numpy_array = np.array([1, 2, 3, 4])\n",
        "\n",
        "# Vectorized operation (fast)\n",
        "result = numpy_array * 2  # Multiplies all elements at once\n",
        "\n",
        "# List requires loop (slower)\n",
        "result_list = [x * 2 for x in [1, 2, 3, 4]]\n",
        "```\n",
        "\n",
        "## 7. What is a heatmap, and when should it be used?\n",
        "\n",
        "A **heatmap** is a data visualization technique that uses colors to represent values in a matrix. Darker/lighter colors typically represent higher/lower values.\n",
        "\n",
        "**When to Use:**\n",
        "- **Correlation Matrices**: Show relationships between variables\n",
        "- **Confusion Matrices**: Evaluate classification models\n",
        "- **Time Series Data**: Show patterns over time and categories\n",
        "- **Geographic Data**: Display data intensity across regions\n",
        "\n",
        "**Example Use Case:**\n",
        "```python\n",
        "import seaborn as sns\n",
        "# Visualizing correlation between different features\n",
        "correlation_matrix = df.corr()\n",
        "sns.heatmap(correlation_matrix, annot=True, cmap='coolwarm')\n",
        "# Colors show strength of correlation between variables\n",
        "```\n",
        "\n",
        "## 8. What does the term \"vectorized operation\" mean in NumPy?\n",
        "\n",
        "**Vectorized operations** apply mathematical operations to entire arrays at once, rather than using explicit loops. This is much faster because the operations are implemented in optimized C code.\n",
        "\n",
        "**Benefits:**\n",
        "- **Speed**: 10-100x faster than Python loops\n",
        "- **Readable Code**: More concise and clear\n",
        "- **Memory Efficient**: Optimized memory access patterns\n",
        "\n",
        "**Example:**\n",
        "```python\n",
        "import numpy as np\n",
        "\n",
        "arr = np.array([1, 2, 3, 4, 5])\n",
        "\n",
        "# Vectorized (Fast)\n",
        "result = arr * 2  # All elements multiplied at once\n",
        "\n",
        "# Non-vectorized (Slow)\n",
        "result = []\n",
        "for element in arr:\n",
        "    result.append(element * 2)\n",
        "```\n",
        "\n",
        "## 9. How does Matplotlib differ from Plotly?\n",
        "\n",
        "| Feature | Matplotlib | Plotly |\n",
        "|---------|------------|--------|\n",
        "| **Interactivity** | Static plots (mostly) | Interactive by default |\n",
        "| **Ease of Use** | More code required | Simpler syntax |\n",
        "| **Customization** | Highly customizable | Good customization |\n",
        "| **Web Integration** | Limited | Excellent web support |\n",
        "| **3D Plots** | Basic 3D support | Advanced 3D capabilities |\n",
        "\n",
        "**Example:**\n",
        "```python\n",
        "# Matplotlib - Static plot\n",
        "import matplotlib.pyplot as plt\n",
        "plt.plot([1, 2, 3], [4, 5, 6])\n",
        "plt.show()\n",
        "\n",
        "# Plotly - Interactive plot\n",
        "import plotly.express as px\n",
        "fig = px.line(x=[1, 2, 3], y=[4, 5, 6])\n",
        "fig.show()  # Can zoom, pan, hover for values\n",
        "```\n",
        "\n",
        "## 10. What is the significance of hierarchical indexing in Pandas?\n",
        "\n",
        "**Hierarchical indexing** (MultiIndex) allows you to work with higher-dimensional data in a lower-dimensional structure. It's like having multiple levels of row or column labels.\n",
        "\n",
        "**Benefits:**\n",
        "- **Data Organization**: Structure complex datasets logically\n",
        "- **Memory Efficiency**: Avoid data duplication\n",
        "- **Easy Aggregation**: Group and analyze at different levels\n",
        "\n",
        "**Example:**\n",
        "```python\n",
        "import pandas as pd\n",
        "\n",
        "# MultiIndex DataFrame\n",
        "index = pd.MultiIndex.from_tuples([\n",
        "    ('2023', 'Q1'), ('2023', 'Q2'),\n",
        "    ('2024', 'Q1'), ('2024', 'Q2')\n",
        "], names=['Year', 'Quarter'])\n",
        "\n",
        "df = pd.DataFrame({'Sales': [100, 150, 120, 180]}, index=index)\n",
        "\n",
        "# Easy to access data at different levels\n",
        "print(df.loc['2023'])  # All 2023 data\n",
        "print(df.loc[('2023', 'Q1')])  # Specific quarter\n",
        "```\n",
        "\n",
        "## 11. What is the role of Seaborn's pairplot() function?\n",
        "\n",
        "**pairplot()** creates a matrix of scatter plots showing relationships between all pairs of numerical variables in a dataset. The diagonal shows the distribution of each variable.\n",
        "\n",
        "**Uses:**\n",
        "- **Exploratory Data Analysis**: Quickly visualize all variable relationships\n",
        "- **Correlation Discovery**: Identify patterns and correlations\n",
        "- **Outlier Detection**: Spot unusual data points\n",
        "\n",
        "**Example:**\n",
        "```python\n",
        "import seaborn as sns\n",
        "# Creates scatter plots for all variable pairs\n",
        "sns.pairplot(iris_dataset, hue='species')\n",
        "# Shows relationships between sepal length, width, petal length, width\n",
        "# Colored by species\n",
        "```\n",
        "\n",
        "## 12. What is the purpose of the describe() function in Pandas?\n",
        "\n",
        "**describe()** generates descriptive statistics for numerical columns in a DataFrame, providing a quick summary of the data distribution.\n",
        "\n",
        "**Statistics Provided:**\n",
        "- **count**: Number of non-null values\n",
        "- **mean**: Average value\n",
        "- **std**: Standard deviation\n",
        "- **min/max**: Minimum and maximum values\n",
        "- **25%, 50%, 75%**: Quartiles (percentiles)\n",
        "\n",
        "**Example:**\n",
        "```python\n",
        "import pandas as pd\n",
        "df = pd.DataFrame({'Age': [25, 30, 35, 40, 45]})\n",
        "summary = df.describe()\n",
        "# Returns count, mean, std, min, 25%, 50%, 75%, max for Age column\n",
        "```\n",
        "\n",
        "## 13. Why is handling missing data important in Pandas?\n",
        "\n",
        "**Missing data** can severely impact analysis results and model performance. Proper handling ensures data quality and reliable insights.\n",
        "\n",
        "**Problems with Missing Data:**\n",
        "- **Biased Results**: Can skew statistical calculations\n",
        "- **Model Errors**: Many algorithms can't handle NaN values\n",
        "- **Reduced Sample Size**: May lose valuable information\n",
        "\n",
        "**Handling Strategies:**\n",
        "- **Drop**: Remove rows/columns with missing values\n",
        "- **Fill**: Replace with mean, median, or specific values\n",
        "- **Interpolate**: Estimate based on surrounding values\n",
        "\n",
        "**Example:**\n",
        "```python\n",
        "import pandas as pd\n",
        "import numpy as np\n",
        "\n",
        "df = pd.DataFrame({\n",
        "    'A': [1, 2, np.nan, 4],\n",
        "    'B': [5, np.nan, 7, 8]\n",
        "})\n",
        "\n",
        "# Check for missing data\n",
        "print(df.isnull().sum())\n",
        "\n",
        "# Handle missing data\n",
        "df_filled = df.fillna(df.mean())  # Fill with column mean\n",
        "df_dropped = df.dropna()          # Remove rows with any NaN\n",
        "```\n",
        "\n",
        "## 14. What are the benefits of using Plotly for data visualization?\n",
        "\n",
        "**Plotly** offers several advantages for creating interactive, publication-ready visualizations:\n",
        "\n",
        "**Key Benefits:**\n",
        "- **Interactivity**: Built-in zoom, pan, hover, and selection\n",
        "- **Web-Ready**: Easy to embed in web applications\n",
        "- **Professional Quality**: Publication-ready plots\n",
        "- **Multiple Languages**: Works with Python, R, JavaScript\n",
        "- **3D Visualization**: Advanced 3D plotting capabilities\n",
        "\n",
        "**Example:**\n",
        "```python\n",
        "import plotly.express as px\n",
        "# Interactive scatter plot with hover information\n",
        "fig = px.scatter(df, x='height', y='weight',\n",
        "                hover_data=['name', 'age'],\n",
        "                title='Height vs Weight')\n",
        "fig.show()  # Users can hover to see details, zoom, pan\n",
        "```\n",
        "\n",
        "## 15. How does NumPy handle multidimensional arrays?\n",
        "\n",
        "**NumPy** provides powerful support for arrays of any dimension, treating them as n-dimensional arrays (ndarrays).\n",
        "\n",
        "**Key Features:**\n",
        "- **Shape**: Describes dimensions (e.g., (3, 4) for 3 rows, 4 columns)\n",
        "- **Indexing**: Access elements using [row, column] syntax\n",
        "- **Broadcasting**: Operations across different dimensions\n",
        "- **Reshaping**: Change array dimensions without copying data\n",
        "\n",
        "**Example:**\n",
        "```python\n",
        "import numpy as np\n",
        "\n",
        "# 2D array (matrix)\n",
        "arr_2d = np.array([[1, 2, 3],\n",
        "                   [4, 5, 6]])\n",
        "print(arr_2d.shape)  # (2, 3)\n",
        "\n",
        "# 3D array\n",
        "arr_3d = np.array([[[1, 2], [3, 4]],\n",
        "                   [[5, 6], [7, 8]]])\n",
        "print(arr_3d.shape)  # (2, 2, 2)\n",
        "\n",
        "# Access elements\n",
        "print(arr_2d[0, 1])    # Element at row 0, column 1\n",
        "print(arr_3d[1, 0, 1]) # Element at depth 1, row 0, column 1\n",
        "```\n",
        "\n",
        "## 16. What is the role of Bokeh in data visualization?\n",
        "\n",
        "**Bokeh** is a Python library for creating interactive web-based visualizations that can handle large datasets efficiently.\n",
        "\n",
        "**Key Features:**\n",
        "- **Web-Native**: Built for modern web browsers\n",
        "- **Big Data**: Handles millions of data points efficiently\n",
        "- **Interactive**: Rich interactions without writing JavaScript\n",
        "- **Server Applications**: Can create dashboard applications\n",
        "\n",
        "**Use Cases:**\n",
        "- **Dashboards**: Interactive business intelligence dashboards\n",
        "- **Real-time Data**: Streaming data visualizations\n",
        "- **Large Datasets**: When Matplotlib becomes too slow\n",
        "- **Web Applications**: Embedded interactive charts\n",
        "\n",
        "**Example:**\n",
        "```python\n",
        "from bokeh.plotting import figure, show\n",
        "from bokeh.models import HoverTool\n",
        "\n",
        "# Create interactive plot with hover tool\n",
        "p = figure(tools=\"pan,wheel_zoom,reset,hover\")\n",
        "p.circle(x_data, y_data, size=10, alpha=0.5)\n",
        "show(p)  # Creates interactive web-based visualization\n",
        "```\n",
        "\n",
        "## 17. Explain the difference between apply() and map() in Pandas.\n",
        "\n",
        "Both **apply()** and **map()** transform data, but they work differently:\n",
        "\n",
        "**apply():**\n",
        "- Works on DataFrames and Series\n",
        "- Can apply functions along rows or columns\n",
        "- More flexible and powerful\n",
        "- Can return Series or DataFrames\n",
        "\n",
        "**map():**\n",
        "- Only works on Series\n",
        "- Element-wise transformation\n",
        "- Faster for simple transformations\n",
        "- Always returns a Series\n",
        "\n",
        "**Examples:**\n",
        "```python\n",
        "import pandas as pd\n",
        "\n",
        "df = pd.DataFrame({'A': [1, 2, 3], 'B': [4, 5, 6]})\n",
        "\n",
        "# apply() - can work on entire DataFrame\n",
        "df_result = df.apply(lambda x: x.sum(), axis=0)  # Sum each column\n",
        "\n",
        "# map() - only on Series, element-wise\n",
        "mapping = {1: 'one', 2: 'two', 3: 'three'}\n",
        "series_result = df['A'].map(mapping)  # Maps values using dictionary\n",
        "\n",
        "# apply() on Series (similar to map but more flexible)\n",
        "series_result2 = df['A'].apply(lambda x: x ** 2)  # Square each element\n",
        "```\n",
        "\n",
        "## 18. What are some advanced features of NumPy?\n",
        "\n",
        "**NumPy** offers many sophisticated features beyond basic arrays:\n",
        "\n",
        "**Advanced Features:**\n",
        "- **Broadcasting**: Operations between different-shaped arrays\n",
        "- **Fancy Indexing**: Using arrays as indices\n",
        "- **Boolean Indexing**: Filter arrays using boolean conditions\n",
        "- **Universal Functions (ufuncs)**: Optimized element-wise operations\n",
        "- **Linear Algebra**: Matrix operations, eigenvalues, decompositions\n",
        "- **Memory Views**: Efficient array slicing without copying\n",
        "\n",
        "**Examples:**\n",
        "```python\n",
        "import numpy as np\n",
        "\n",
        "# Fancy indexing\n",
        "arr = np.array([10, 20, 30, 40, 50])\n",
        "indices = np.array([0, 2, 4])\n",
        "result = arr[indices]  # [10, 30, 50]\n",
        "\n",
        "# Boolean indexing\n",
        "mask = arr > 25\n",
        "filtered = arr[mask]  # [30, 40, 50]\n",
        "\n",
        "# Broadcasting with different shapes\n",
        "matrix = np.array([[1, 2, 3], [4, 5, 6]])\n",
        "vector = np.array([10, 20, 30])\n",
        "result = matrix + vector  # Adds vector to each row\n",
        "```\n",
        "\n",
        "## 19. How does Pandas simplify time series analysis?\n",
        "\n",
        "**Pandas** provides specialized tools for working with time-indexed data, making time series analysis much easier.\n",
        "\n",
        "**Key Features:**\n",
        "- **DatetimeIndex**: Specialized index for time data\n",
        "- **Resampling**: Change frequency of time series data\n",
        "- **Rolling Windows**: Calculate moving averages and statistics\n",
        "- **Time Zone Support**: Handle different time zones\n",
        "- **Period Operations**: Work with specific time periods\n",
        "\n",
        "**Examples:**\n",
        "```python\n",
        "import pandas as pd\n",
        "\n",
        "# Create time series data\n",
        "dates = pd.date_range('2023-01-01', periods=100, freq='D')\n",
        "ts = pd.Series(range(100), index=dates)\n",
        "\n",
        "# Resample to monthly frequency\n",
        "monthly = ts.resample('M').mean()\n",
        "\n",
        "# Rolling window calculations\n",
        "rolling_avg = ts.rolling(window=7).mean()  # 7-day moving average\n",
        "\n",
        "# Filter by date range\n",
        "recent = ts['2023-02-01':'2023-02-28']\n",
        "```\n",
        "\n",
        "## 20. What is the role of a pivot table in Pandas?\n",
        "\n",
        "**Pivot tables** reshape and summarize data, similar to Excel pivot tables. They group data by certain columns and apply aggregation functions.\n",
        "\n",
        "**Uses:**\n",
        "- **Data Summarization**: Aggregate data by categories\n",
        "- **Cross-tabulation**: Show relationships between categorical variables\n",
        "- **Reporting**: Create summary reports from detailed data\n",
        "\n",
        "**Example:**\n",
        "```python\n",
        "import pandas as pd\n",
        "\n",
        "# Sales data\n",
        "sales = pd.DataFrame({\n",
        "    'Product': ['A', 'B', 'A', 'B'] * 3,\n",
        "    'Region': ['North', 'South'] * 6,\n",
        "    'Month': ['Jan', 'Jan', 'Feb', 'Feb'] * 3,\n",
        "    'Sales': [100, 150, 120, 180, 110, 160, 130, 190, 105, 155, 125, 185]\n",
        "})\n",
        "\n",
        "# Create pivot table\n",
        "pivot = sales.pivot_table(\n",
        "    values='Sales',\n",
        "    index='Product',\n",
        "    columns='Region',\n",
        "    aggfunc='mean'\n",
        ")\n",
        "# Shows average sales by Product and Region\n",
        "```\n",
        "\n",
        "## 21. Why is NumPy's array slicing faster than Python's list slicing?\n",
        "\n",
        "**NumPy slicing** is faster due to several technical advantages:\n",
        "\n",
        "**Performance Reasons:**\n",
        "- **Memory Layout**: Arrays stored in contiguous memory blocks\n",
        "- **C Implementation**: Core operations written in optimized C code\n",
        "- **No Python Objects**: Direct manipulation of memory, no Python overhead\n",
        "- **Views vs Copies**: Slicing creates views (references) rather than copies when possible\n",
        "\n",
        "**Example:**\n",
        "```python\n",
        "import numpy as np\n",
        "import time\n",
        "\n",
        "# Large dataset\n",
        "python_list = list(range(1000000))\n",
        "numpy_array = np.array(python_list)\n",
        "\n",
        "# Time Python list slicing\n",
        "start = time.time()\n",
        "list_slice = python_list[100:1000]\n",
        "list_time = time.time() - start\n",
        "\n",
        "# Time NumPy array slicing\n",
        "start = time.time()\n",
        "array_slice = numpy_array[100:1000]\n",
        "array_time = time.time() - start\n",
        "\n",
        "# NumPy is typically 10-100x faster\n",
        "```\n",
        "\n",
        "## 22. What are some common use cases for Seaborn?\n",
        "\n",
        "**Seaborn** excels in statistical data visualization with many specialized plot types:\n",
        "\n",
        "**Common Use Cases:**\n",
        "\n",
        "**Exploratory Data Analysis:**\n",
        "- `pairplot()`: Visualize all variable relationships\n",
        "- `heatmap()`: Correlation matrices\n",
        "- `distplot()`: Distribution analysis\n",
        "\n",
        "**Statistical Relationships:**\n",
        "- `scatterplot()`: Show correlations with regression lines\n",
        "- `boxplot()`: Compare distributions across categories\n",
        "- `violinplot()`: Detailed distribution shapes\n",
        "\n",
        "**Categorical Data:**\n",
        "- `countplot()`: Frequency of categorical variables\n",
        "- `barplot()`: Compare means across categories\n",
        "- `catplot()`: Complex categorical relationships\n",
        "\n",
        "**Example:**\n",
        "```python\n",
        "import seaborn as sns\n",
        "import matplotlib.pyplot as plt\n",
        "\n",
        "# Load built-in dataset\n",
        "titanic = sns.load_dataset('titanic')\n",
        "\n",
        "# Statistical visualization with one line\n",
        "sns.boxplot(data=titanic, x='class', y='age', hue='survived')\n",
        "plt.title('Age Distribution by Class and Survival')\n",
        "plt.show()\n",
        "\n",
        "# Shows age distributions, compares across passenger classes,\n",
        "# and distinguishes between survivors and non-survivors\n",
        "```"
      ],
      "metadata": {
        "id": "DjOKiYSi9R7a"
      }
    },
    {
      "cell_type": "markdown",
      "source": [
        "# Practical Questions"
      ],
      "metadata": {
        "id": "1Z_Hxu5P7kEG"
      }
    },
    {
      "cell_type": "code",
      "source": [
        "# Q1.\n",
        "\n",
        "class Animal:\n",
        "    def speak(self):\n",
        "        print(\"Animal makes a sound\")\n",
        "\n",
        "class Dog(Animal):\n",
        "    def speak(self):\n",
        "        print(\"Bark!\")\n",
        "\n",
        "# Test\n",
        "animal = Animal()\n",
        "dog = Dog()\n",
        "animal.speak()  # Animal makes a sound\n",
        "dog.speak()     # Bark!"
      ],
      "metadata": {
        "colab": {
          "base_uri": "https://localhost:8080/"
        },
        "id": "Zi0oUfSeeiQw",
        "outputId": "023193e5-c399-45bd-89c5-0837347adbe5"
      },
      "execution_count": null,
      "outputs": [
        {
          "output_type": "stream",
          "name": "stdout",
          "text": [
            "Animal makes a sound\n",
            "Bark!\n"
          ]
        }
      ]
    },
    {
      "cell_type": "code",
      "source": [
        "# Q2.\n",
        "\n",
        "from abc import ABC, abstractmethod\n",
        "import math\n",
        "\n",
        "class Shape(ABC):\n",
        "    @abstractmethod\n",
        "    def area(self):\n",
        "        pass\n",
        "class Circle(Shape):\n",
        "    def __init__(self, radius):\n",
        "        self.radius = radius\n",
        "\n",
        "    def area(self):\n",
        "        return math.pi * self.radius ** 2\n",
        "\n",
        "class Rectangle(Shape):\n",
        "    def __init__(self, width, height):\n",
        "        self.width = width\n",
        "        self.height = height\n",
        "\n",
        "    def area(self):\n",
        "        return self.width * self.height\n",
        "\n",
        "# Test\n",
        "circle = Circle(5)\n",
        "rectangle = Rectangle(4, 6)\n",
        "print(f\"Circle area: {circle.area():.2f}\")\n",
        "print(f\"Rectangle area: {rectangle.area()}\")\n",
        "\n",
        "print(\"-\" * 50)"
      ],
      "metadata": {
        "colab": {
          "base_uri": "https://localhost:8080/"
        },
        "id": "-x6O9OPEej_-",
        "outputId": "24d8c099-a17c-4621-9545-3dfba63ad120"
      },
      "execution_count": null,
      "outputs": [
        {
          "output_type": "stream",
          "name": "stdout",
          "text": [
            "Circle area: 78.54\n",
            "Rectangle area: 24\n",
            "--------------------------------------------------\n"
          ]
        }
      ]
    },
    {
      "cell_type": "code",
      "source": [
        "# Q3.\n",
        "\n",
        "class Vehicle:\n",
        "    def __init__(self, vehicle_type):\n",
        "        self.type = vehicle_type\n",
        "\n",
        "    def display_info(self):\n",
        "        print(f\"Vehicle type: {self.type}\")\n",
        "\n",
        "class Car(Vehicle):\n",
        "    def __init__(self, vehicle_type, brand):\n",
        "        super().__init__(vehicle_type)\n",
        "        self.brand = brand\n",
        "\n",
        "    def display_info(self):\n",
        "        super().display_info()\n",
        "        print(f\"Brand: {self.brand}\")\n",
        "\n",
        "class ElectricCar(Car):\n",
        "    def __init__(self, vehicle_type, brand, battery):\n",
        "        super().__init__(vehicle_type, brand)\n",
        "        self.battery = battery\n",
        "\n",
        "    def display_info(self):\n",
        "        super().display_info()\n",
        "        print(f\"Battery: {self.battery}\")\n",
        "\n",
        "# Test\n",
        "electric_car = ElectricCar(\"Electric\", \"Harrier.ev\", \"100kWh\")\n",
        "electric_car.display_info()\n",
        "\n",
        "print(\"-\" * 50)"
      ],
      "metadata": {
        "colab": {
          "base_uri": "https://localhost:8080/"
        },
        "id": "Xlf1-XdffBxf",
        "outputId": "1a986e9a-18c6-4d0e-950a-195069c15e6b"
      },
      "execution_count": null,
      "outputs": [
        {
          "output_type": "stream",
          "name": "stdout",
          "text": [
            "Vehicle type: Electric\n",
            "Brand: Harrier.ev\n",
            "Battery: 100kWh\n",
            "--------------------------------------------------\n"
          ]
        }
      ]
    },
    {
      "cell_type": "code",
      "source": [
        "# Q4.\n",
        "\n",
        "class Bird:\n",
        "    def fly(self):\n",
        "        print(\"Bird flies\")\n",
        "\n",
        "class Sparrow(Bird):\n",
        "    def fly(self):\n",
        "        print(\"Sparrow flies high in the sky\")\n",
        "\n",
        "class Penguin(Bird):\n",
        "    def fly(self):\n",
        "        print(\"Penguin cannot fly, but it swims!\")\n",
        "# Test\n",
        "birds = [Sparrow(), Penguin()]\n",
        "for bird in birds:\n",
        "    bird.fly()\n",
        "\n",
        "print(\"-\" * 50)\n"
      ],
      "metadata": {
        "colab": {
          "base_uri": "https://localhost:8080/"
        },
        "id": "6YlTjOyofWx_",
        "outputId": "dba50f31-87e5-4075-8a0c-97610c1999c4"
      },
      "execution_count": null,
      "outputs": [
        {
          "output_type": "stream",
          "name": "stdout",
          "text": [
            "Sparrow flies high in the sky\n",
            "Penguin cannot fly, but it swims!\n",
            "--------------------------------------------------\n"
          ]
        }
      ]
    },
    {
      "cell_type": "code",
      "source": [
        "# Q5.\n",
        "\n",
        "class BankAccount:\n",
        "    def __init__(self, initial_balance=0):\n",
        "        self.__balance = initial_balance  # Private attribute\n",
        "\n",
        "    def deposit(self, amount):\n",
        "        if amount > 0:\n",
        "            self.__balance += amount\n",
        "            print(f\"Deposited ${amount}. New balance: ${self.__balance}\")\n",
        "        else:\n",
        "            print(\"Deposit amount must be positive\")\n",
        "\n",
        "    def withdraw(self, amount):\n",
        "        if amount > 0 and amount <= self.__balance:\n",
        "            self.__balance -= amount\n",
        "            print(f\"Withdrew ${amount}. New balance: ${self.__balance}\")\n",
        "        else:\n",
        "            print(\"Invalid withdrawal amount\")\n",
        "\n",
        "    def check_balance(self):\n",
        "        return self.__balance\n",
        "\n",
        "# Test\n",
        "account = BankAccount(13600)\n",
        "account.deposit(6200)\n",
        "account.withdraw(340)\n",
        "print(f\"Current balance: ${account.check_balance()}\")\n",
        "\n",
        "print(\"-\" * 50)\n"
      ],
      "metadata": {
        "colab": {
          "base_uri": "https://localhost:8080/"
        },
        "id": "tfzQhSq6fexH",
        "outputId": "39687d7a-52ae-4e88-9d12-cee6580aff39"
      },
      "execution_count": null,
      "outputs": [
        {
          "output_type": "stream",
          "name": "stdout",
          "text": [
            "Deposited $6200. New balance: $19800\n",
            "Withdrew $340. New balance: $19460\n",
            "Current balance: $19460\n",
            "--------------------------------------------------\n"
          ]
        }
      ]
    },
    {
      "cell_type": "code",
      "source": [
        "# Q6.\n",
        "\n",
        "class Instrument:\n",
        "    def play(self):\n",
        "        print(\"Playing an instrument\")\n",
        "\n",
        "class Guitar(Instrument):\n",
        "    def play(self):\n",
        "        print(\"Playing guitar: Strum strum!\")\n",
        "\n",
        "class Piano(Instrument):\n",
        "    def play(self):\n",
        "        print(\"Playing piano: Ding ding!\")\n",
        "\n",
        "# Test\n",
        "instruments = [Guitar(), Piano()]\n",
        "for instrument in instruments:\n",
        "    instrument.play()\n",
        "\n",
        "print(\"-\" * 50)"
      ],
      "metadata": {
        "colab": {
          "base_uri": "https://localhost:8080/"
        },
        "id": "-JYNKPjef94r",
        "outputId": "f5e90277-cbae-4207-e9db-3b667807b63e"
      },
      "execution_count": null,
      "outputs": [
        {
          "output_type": "stream",
          "name": "stdout",
          "text": [
            "Playing guitar: Strum strum!\n",
            "Playing piano: Ding ding!\n",
            "--------------------------------------------------\n"
          ]
        }
      ]
    },
    {
      "cell_type": "code",
      "source": [
        "# Q7.\n",
        "\n",
        "class MathOperations:\n",
        "    @classmethod\n",
        "    def add_numbers(cls, a, b):\n",
        "        return a + b\n",
        "\n",
        "    @staticmethod\n",
        "    def subtract_numbers(a, b):\n",
        "        return a - b\n",
        "\n",
        "# Test\n",
        "print(f\"Addition: {MathOperations.add_numbers(14, 6)}\")\n",
        "print(f\"Subtraction: {MathOperations.subtract_numbers(14, 6)}\")\n",
        "\n",
        "print(\"-\" * 50)\n"
      ],
      "metadata": {
        "colab": {
          "base_uri": "https://localhost:8080/"
        },
        "id": "rW-wmVjhgW_1",
        "outputId": "ac873148-669a-4455-acdc-042137a7abf4"
      },
      "execution_count": null,
      "outputs": [
        {
          "output_type": "stream",
          "name": "stdout",
          "text": [
            "Addition: 20\n",
            "Subtraction: 8\n",
            "--------------------------------------------------\n"
          ]
        }
      ]
    },
    {
      "cell_type": "code",
      "source": [
        "# Q8.\n",
        "\n",
        "class Person:\n",
        "    count = 0\n",
        "\n",
        "    def __init__(self, name):\n",
        "        self.name = name\n",
        "        Person.count += 1\n",
        "\n",
        "    @classmethod\n",
        "    def get_count(cls):\n",
        "        return cls.count\n",
        "\n",
        "# Test\n",
        "p1 = Person(\"Zabuza\")\n",
        "p2 = Person(\"Kakashi\")\n",
        "p3 = Person(\"Hakata\")\n",
        "print(f\"Total persons created: {Person.get_count()}\")\n",
        "\n",
        "print(\"-\" * 50)"
      ],
      "metadata": {
        "colab": {
          "base_uri": "https://localhost:8080/"
        },
        "id": "1hdBvDjSgeIX",
        "outputId": "49fc2888-0541-43a2-a98b-f56a75e9e3ce"
      },
      "execution_count": null,
      "outputs": [
        {
          "output_type": "stream",
          "name": "stdout",
          "text": [
            "Total persons created: 3\n",
            "--------------------------------------------------\n"
          ]
        }
      ]
    },
    {
      "cell_type": "code",
      "source": [
        "# Q9.\n",
        "\n",
        "class Fraction:\n",
        "    def __init__(self, numerator, denominator):\n",
        "        self.numerator = numerator\n",
        "        self.denominator = denominator\n",
        "\n",
        "    def __str__(self):\n",
        "        return f\"{self.numerator}/{self.denominator}\"\n",
        "\n",
        "# Test\n",
        "fraction = Fraction(7, 8)\n",
        "print(f\"Fraction: {fraction}\")\n",
        "\n",
        "print(\"-\" * 50)\n"
      ],
      "metadata": {
        "colab": {
          "base_uri": "https://localhost:8080/"
        },
        "id": "k6gmZiMWgmeu",
        "outputId": "a13bb3e8-019b-4d1d-c5b0-d46e29365f89"
      },
      "execution_count": null,
      "outputs": [
        {
          "output_type": "stream",
          "name": "stdout",
          "text": [
            "Fraction: 7/8\n",
            "--------------------------------------------------\n"
          ]
        }
      ]
    },
    {
      "cell_type": "code",
      "source": [
        "# Q10.\n",
        "\n",
        "class Vector:\n",
        "    def __init__(self, x, y):\n",
        "        self.x = x\n",
        "        self.y = y\n",
        "\n",
        "    def __add__(self, other):\n",
        "        return Vector(self.x + other.x, self.y + other.y)\n",
        "\n",
        "    def __str__(self):\n",
        "        return f\"Vector({self.x}, {self.y})\"\n",
        "\n",
        "# Test\n",
        "v1 = Vector(2, 3)\n",
        "v2 = Vector(1, 4)\n",
        "v3 = v1 + v2\n",
        "print(f\"Vector 1: {v1}\")\n",
        "print(f\"Vector 2: {v2}\")\n",
        "print(f\"Sum: {v3}\")\n",
        "\n",
        "print(\"-\" * 50)\n"
      ],
      "metadata": {
        "colab": {
          "base_uri": "https://localhost:8080/"
        },
        "id": "sJtaZhZ3gzgV",
        "outputId": "41e7f074-927e-4d5f-8340-f14bb4536793"
      },
      "execution_count": null,
      "outputs": [
        {
          "output_type": "stream",
          "name": "stdout",
          "text": [
            "Vector 1: Vector(2, 3)\n",
            "Vector 2: Vector(1, 4)\n",
            "Sum: Vector(3, 7)\n",
            "--------------------------------------------------\n"
          ]
        }
      ]
    },
    {
      "cell_type": "code",
      "source": [
        "# Q11.\n",
        "\n",
        "class PersonGreet:\n",
        "    def __init__(self, name, age):\n",
        "        self.name = name\n",
        "        self.age = age\n",
        "\n",
        "    def greet(self):\n",
        "        print(f\"Hello, my name is {self.name} and I am {self.age} years old.\")\n",
        "\n",
        "# Test\n",
        "person = PersonGreet(\"Ritam\", 25)\n",
        "person.greet()\n",
        "\n",
        "print(\"-\" * 50)"
      ],
      "metadata": {
        "colab": {
          "base_uri": "https://localhost:8080/"
        },
        "id": "nQWFJkjag5aw",
        "outputId": "8c6d3b48-cfae-4713-d88b-3965b56a06e3"
      },
      "execution_count": null,
      "outputs": [
        {
          "output_type": "stream",
          "name": "stdout",
          "text": [
            "Hello, my name is Ritam and I am 25 years old.\n",
            "--------------------------------------------------\n"
          ]
        }
      ]
    },
    {
      "cell_type": "code",
      "source": [
        "# Q12.\n",
        "\n",
        "class Student:\n",
        "    def __init__(self, name, grades):\n",
        "        self.name = name\n",
        "        self.grades = grades\n",
        "\n",
        "    def average_grade(self):\n",
        "        if self.grades:\n",
        "            return sum(self.grades) / len(self.grades)\n",
        "        return 0\n",
        "\n",
        "# Test\n",
        "student = Student(\"Muramata\", [85, 90, 78, 92, 88])\n",
        "print(f\"Student: {student.name}\")\n",
        "print(f\"Average grade: {student.average_grade():.2f}\")\n",
        "\n",
        "print(\"-\" * 50)"
      ],
      "metadata": {
        "colab": {
          "base_uri": "https://localhost:8080/"
        },
        "id": "HFBAAzBFhF8y",
        "outputId": "820a8899-db0a-46fc-bce4-6c5126d3e67e"
      },
      "execution_count": null,
      "outputs": [
        {
          "output_type": "stream",
          "name": "stdout",
          "text": [
            "Student: Muramata\n",
            "Average grade: 86.60\n",
            "--------------------------------------------------\n"
          ]
        }
      ]
    },
    {
      "cell_type": "code",
      "source": [
        "# Q13.\n",
        "\n",
        "class Rectangle_1:\n",
        "    def __init__(self):\n",
        "        self.width = 0\n",
        "        self.height = 0\n",
        "\n",
        "    def set_dimensions(self, width, height):\n",
        "        self.width = width\n",
        "        self.height = height\n",
        "\n",
        "    def area(self):\n",
        "        return self.width * self.height\n",
        "\n",
        "# Test\n",
        "rect = Rectangle_1()\n",
        "rect.set_dimensions(5, 8)\n",
        "print(f\"Rectangle area: {rect.area()}\")\n",
        "\n",
        "print(\"-\" * 50)\n"
      ],
      "metadata": {
        "colab": {
          "base_uri": "https://localhost:8080/"
        },
        "id": "BmBrOMHlhPsd",
        "outputId": "1e6dd837-7e64-46a7-9a82-ddefb75e6d21"
      },
      "execution_count": null,
      "outputs": [
        {
          "output_type": "stream",
          "name": "stdout",
          "text": [
            "Rectangle area: 40\n",
            "--------------------------------------------------\n"
          ]
        }
      ]
    },
    {
      "cell_type": "code",
      "source": [
        "# Q14.\n",
        "\n",
        "class Employee:\n",
        "    def __init__(self, name, hours_worked, hourly_rate):\n",
        "        self.name = name\n",
        "        self.hours_worked = hours_worked\n",
        "        self.hourly_rate = hourly_rate\n",
        "\n",
        "    def calculate_salary(self):\n",
        "        return self.hours_worked * self.hourly_rate\n",
        "\n",
        "class Manager(Employee):\n",
        "    def __init__(self, name, hours_worked, hourly_rate, bonus):\n",
        "        super().__init__(name, hours_worked, hourly_rate)\n",
        "        self.bonus = bonus\n",
        "\n",
        "    def calculate_salary(self):\n",
        "        base_salary = super().calculate_salary()\n",
        "        return base_salary + self.bonus\n",
        "\n",
        "# Test\n",
        "employee = Employee(\"Rashimon\", 40, 20)\n",
        "manager = Manager(\"Nobutsugu\", 40, 25, 500)\n",
        "print(f\"Employee salary: ${employee.calculate_salary()}\")\n",
        "print(f\"Manager salary: ${manager.calculate_salary()}\")\n",
        "\n",
        "print(\"-\" * 50)"
      ],
      "metadata": {
        "colab": {
          "base_uri": "https://localhost:8080/"
        },
        "id": "V7FkgQ1OhX75",
        "outputId": "0dbb37db-6a20-4fe1-9501-ad9d4a503fcb"
      },
      "execution_count": null,
      "outputs": [
        {
          "output_type": "stream",
          "name": "stdout",
          "text": [
            "Employee salary: $800\n",
            "Manager salary: $1500\n",
            "--------------------------------------------------\n"
          ]
        }
      ]
    },
    {
      "cell_type": "code",
      "source": [
        "# Q15.\n",
        "\n",
        "class Product:\n",
        "    def __init__(self, name, price, quantity):\n",
        "        self.name = name\n",
        "        self.price = price\n",
        "        self.quantity = quantity\n",
        "\n",
        "    def total_price(self):\n",
        "        return self.price * self.quantity\n",
        "\n",
        "# Test\n",
        "product = Product(\"Google Pixel 9 Pro\", 799.99, 2)\n",
        "print(f\"Product: {product.name}\")\n",
        "print(f\"Total price: ${product.total_price():.2f}\")\n",
        "\n",
        "print(\"-\" * 50)"
      ],
      "metadata": {
        "colab": {
          "base_uri": "https://localhost:8080/"
        },
        "id": "UlnDUeiRhmnf",
        "outputId": "36e067e8-2c92-4230-e164-2a84d4f4e6f4"
      },
      "execution_count": null,
      "outputs": [
        {
          "output_type": "stream",
          "name": "stdout",
          "text": [
            "Product: Google Pixel 9 Pro\n",
            "Total price: $1599.98\n",
            "--------------------------------------------------\n"
          ]
        }
      ]
    },
    {
      "cell_type": "code",
      "source": [
        "# Q16.\n",
        "\n",
        "class AnimalAbstract(ABC):\n",
        "    @abstractmethod\n",
        "    def sound(self):\n",
        "        pass\n",
        "\n",
        "class Cow(AnimalAbstract):\n",
        "    def sound(self):\n",
        "        return \"Moo!\"\n",
        "\n",
        "class Sheep(AnimalAbstract):\n",
        "    def sound(self):\n",
        "        return \"Baa!\"\n",
        "\n",
        "# Test\n",
        "cow = Cow()\n",
        "sheep = Sheep()\n",
        "print(f\"Cow sound: {cow.sound()}\")\n",
        "print(f\"Sheep sound: {sheep.sound()}\")\n",
        "\n",
        "print(\"-\" * 50)\n"
      ],
      "metadata": {
        "colab": {
          "base_uri": "https://localhost:8080/"
        },
        "id": "-nnoMmT2hzLN",
        "outputId": "6768fcc3-69df-4795-8a15-1e09b5566e4d"
      },
      "execution_count": null,
      "outputs": [
        {
          "output_type": "stream",
          "name": "stdout",
          "text": [
            "Cow sound: Moo!\n",
            "Sheep sound: Baa!\n",
            "--------------------------------------------------\n"
          ]
        }
      ]
    },
    {
      "cell_type": "code",
      "source": [
        "# Q17.\n",
        "\n",
        "class Book:\n",
        "    def __init__(self, title, author, year_published):\n",
        "        self.title = title\n",
        "        self.author = author\n",
        "        self.year_published = year_published\n",
        "\n",
        "    def get_book_info(self):\n",
        "        return f\"'{self.title}' by {self.author}, published in {self.year_published}\"\n",
        "\n",
        "# Test\n",
        "book = Book(\"Kafka on the Shore\", \"Haruki Murakami\", 2002)\n",
        "print(book.get_book_info())\n",
        "\n",
        "print(\"-\" * 50)"
      ],
      "metadata": {
        "colab": {
          "base_uri": "https://localhost:8080/"
        },
        "id": "CLmkZ_D7h6q8",
        "outputId": "9a9b536b-710c-427a-979b-7d48a5f22a3f"
      },
      "execution_count": null,
      "outputs": [
        {
          "output_type": "stream",
          "name": "stdout",
          "text": [
            "'Kafka on the Shore' by Haruki Murakami, published in 2002\n",
            "--------------------------------------------------\n"
          ]
        }
      ]
    },
    {
      "cell_type": "code",
      "source": [
        "# Q18.\n",
        "\n",
        "class House:\n",
        "    def __init__(self, address, price):\n",
        "        self.address = address\n",
        "        self.price = price\n",
        "\n",
        "    def display_info(self):\n",
        "        print(f\"Address: {self.address}\")\n",
        "        print(f\"Price: ${self.price:,}\")\n",
        "\n",
        "class Mansion(House):\n",
        "    def __init__(self, address, price, number_of_rooms):\n",
        "        super().__init__(address, price)\n",
        "        self.number_of_rooms = number_of_rooms\n",
        "\n",
        "    def display_info(self):\n",
        "        super().display_info()\n",
        "        print(f\"Number of rooms: {self.number_of_rooms}\")\n",
        "\n",
        "# Test\n",
        "mansion = Mansion(\"1 Kyomachi\", 9500000, 15)\n",
        "mansion.display_info()\n",
        "\n",
        "print(\"-\" * 50)"
      ],
      "metadata": {
        "colab": {
          "base_uri": "https://localhost:8080/"
        },
        "id": "OZzTWFdQiAkt",
        "outputId": "336c2cbf-2e92-4c94-877c-dbd019439361"
      },
      "execution_count": null,
      "outputs": [
        {
          "output_type": "stream",
          "name": "stdout",
          "text": [
            "Address: 1 Kyomachi\n",
            "Price: $9,500,000\n",
            "Number of rooms: 15\n",
            "--------------------------------------------------\n"
          ]
        }
      ]
    }
  ]
}